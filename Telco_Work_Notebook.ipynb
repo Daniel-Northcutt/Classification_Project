{
 "cells": [
  {
   "cell_type": "markdown",
   "id": "f4c8ff0a",
   "metadata": {},
   "source": [
    "# **Telco Churn Classification Project**\n",
    "\n",
    "### By : Daniel Northcutt\n",
    "### 11/29/21"
   ]
  },
  {
   "attachments": {
    "Telco.png": {
     "image/png": "[encoded data removed]"
    }
   },
   "cell_type": "markdown",
   "id": "28e8456c",
   "metadata": {},
   "source": [
    "![Telco.png](attachment:Telco.png)"
   ]
  },
  {
   "cell_type": "markdown",
   "id": "9eef66dd",
   "metadata": {},
   "source": [
    "# Project Overview\n",
    "\n",
    "### Utilize the DS pipeline and create a model that will predict whether a customer will churn based on drivers\n"
   ]
  },
  {
   "cell_type": "markdown",
   "id": "2c001f00",
   "metadata": {},
   "source": [
    "# Project Goal"
   ]
  },
  {
   "cell_type": "markdown",
   "id": "ac7dbc0d",
   "metadata": {},
   "source": [
    "### Determine factors of churn and use models to perform better than the baseline"
   ]
  },
  {
   "cell_type": "markdown",
   "id": "08d9e0e8",
   "metadata": {},
   "source": [
    "# EXECUTIVE SUMMARY\n",
    "\n",
    "(To be completed)"
   ]
  },
  {
   "cell_type": "markdown",
   "id": "9524715f",
   "metadata": {},
   "source": [
    "# Adding Imports:"
   ]
  },
  {
   "cell_type": "code",
   "execution_count": 59,
   "id": "ed8dd4ce",
   "metadata": {},
   "outputs": [],
   "source": [
    "# ignore warnings\n",
    "import warnings\n",
    "warnings.filterwarnings(\"ignore\")\n",
    "\n",
    "import pandas as pd\n",
    "import numpy as np\n",
    "import seaborn as sns\n",
    "import matplotlib.pyplot as plt\n",
    "import scipy.stats as stats\n",
    "\n",
    "\n",
    "from sklearn.model_selection import train_test_split\n",
    "from sklearn.tree import DecisionTreeClassifier\n",
    "from sklearn.tree import export_graphviz\n",
    "from sklearn.metrics import classification_report\n",
    "from sklearn.metrics import confusion_matrix\n",
    "from sklearn.metrics import classification_report, confusion_matrix, accuracy_score, precision_score, recall_score\n",
    "from sklearn.linear_model import LogisticRegression\n",
    "from sklearn.ensemble import RandomForestClassifier\n",
    "\n",
    "\n",
    "\n",
    "import graphviz\n",
    "from graphviz import Graph\n",
    "\n",
    "import acquire\n",
    "import prepare\n",
    "import user_defined_functions\n",
    "\n"
   ]
  },
  {
   "cell_type": "markdown",
   "id": "e6181072",
   "metadata": {},
   "source": [
    "# Acquire Data:"
   ]
  },
  {
   "cell_type": "code",
   "execution_count": 2,
   "id": "c85cd48d",
   "metadata": {
    "scrolled": true
   },
   "outputs": [
    {
     "data": {
      "text/html": [
       "<div>\n",
       "<style scoped>\n",
       "    .dataframe tbody tr th:only-of-type {\n",
       "        vertical-align: middle;\n",
       "    }\n",
       "\n",
       "    .dataframe tbody tr th {\n",
       "        vertical-align: top;\n",
       "    }\n",
       "\n",
       "    .dataframe thead th {\n",
       "        text-align: right;\n",
       "    }\n",
       "</style>\n",
       "<table border=\"1\" class=\"dataframe\">\n",
       "  <thead>\n",
       "    <tr style=\"text-align: right;\">\n",
       "      <th></th>\n",
       "      <th>payment_type_id</th>\n",
       "      <th>internet_service_type_id</th>\n",
       "      <th>contract_type_id</th>\n",
       "      <th>customer_id</th>\n",
       "      <th>gender</th>\n",
       "      <th>senior_citizen</th>\n",
       "      <th>partner</th>\n",
       "      <th>dependents</th>\n",
       "      <th>tenure</th>\n",
       "      <th>phone_service</th>\n",
       "      <th>...</th>\n",
       "      <th>tech_support</th>\n",
       "      <th>streaming_tv</th>\n",
       "      <th>streaming_movies</th>\n",
       "      <th>paperless_billing</th>\n",
       "      <th>monthly_charges</th>\n",
       "      <th>total_charges</th>\n",
       "      <th>churn</th>\n",
       "      <th>contract_type</th>\n",
       "      <th>internet_service_type</th>\n",
       "      <th>payment_type</th>\n",
       "    </tr>\n",
       "  </thead>\n",
       "  <tbody>\n",
       "    <tr>\n",
       "      <th>0</th>\n",
       "      <td>2</td>\n",
       "      <td>1</td>\n",
       "      <td>3</td>\n",
       "      <td>0016-QLJIS</td>\n",
       "      <td>Female</td>\n",
       "      <td>0</td>\n",
       "      <td>Yes</td>\n",
       "      <td>Yes</td>\n",
       "      <td>65</td>\n",
       "      <td>Yes</td>\n",
       "      <td>...</td>\n",
       "      <td>Yes</td>\n",
       "      <td>Yes</td>\n",
       "      <td>Yes</td>\n",
       "      <td>Yes</td>\n",
       "      <td>90.45</td>\n",
       "      <td>5957.9</td>\n",
       "      <td>No</td>\n",
       "      <td>Two year</td>\n",
       "      <td>DSL</td>\n",
       "      <td>Mailed check</td>\n",
       "    </tr>\n",
       "    <tr>\n",
       "      <th>1</th>\n",
       "      <td>4</td>\n",
       "      <td>1</td>\n",
       "      <td>3</td>\n",
       "      <td>0017-DINOC</td>\n",
       "      <td>Male</td>\n",
       "      <td>0</td>\n",
       "      <td>No</td>\n",
       "      <td>No</td>\n",
       "      <td>54</td>\n",
       "      <td>No</td>\n",
       "      <td>...</td>\n",
       "      <td>Yes</td>\n",
       "      <td>Yes</td>\n",
       "      <td>No</td>\n",
       "      <td>No</td>\n",
       "      <td>45.20</td>\n",
       "      <td>2460.55</td>\n",
       "      <td>No</td>\n",
       "      <td>Two year</td>\n",
       "      <td>DSL</td>\n",
       "      <td>Credit card (automatic)</td>\n",
       "    </tr>\n",
       "    <tr>\n",
       "      <th>2</th>\n",
       "      <td>3</td>\n",
       "      <td>1</td>\n",
       "      <td>3</td>\n",
       "      <td>0019-GFNTW</td>\n",
       "      <td>Female</td>\n",
       "      <td>0</td>\n",
       "      <td>No</td>\n",
       "      <td>No</td>\n",
       "      <td>56</td>\n",
       "      <td>No</td>\n",
       "      <td>...</td>\n",
       "      <td>Yes</td>\n",
       "      <td>No</td>\n",
       "      <td>No</td>\n",
       "      <td>No</td>\n",
       "      <td>45.05</td>\n",
       "      <td>2560.1</td>\n",
       "      <td>No</td>\n",
       "      <td>Two year</td>\n",
       "      <td>DSL</td>\n",
       "      <td>Bank transfer (automatic)</td>\n",
       "    </tr>\n",
       "    <tr>\n",
       "      <th>3</th>\n",
       "      <td>4</td>\n",
       "      <td>1</td>\n",
       "      <td>3</td>\n",
       "      <td>0056-EPFBG</td>\n",
       "      <td>Male</td>\n",
       "      <td>0</td>\n",
       "      <td>Yes</td>\n",
       "      <td>Yes</td>\n",
       "      <td>20</td>\n",
       "      <td>No</td>\n",
       "      <td>...</td>\n",
       "      <td>Yes</td>\n",
       "      <td>No</td>\n",
       "      <td>No</td>\n",
       "      <td>Yes</td>\n",
       "      <td>39.40</td>\n",
       "      <td>825.4</td>\n",
       "      <td>No</td>\n",
       "      <td>Two year</td>\n",
       "      <td>DSL</td>\n",
       "      <td>Credit card (automatic)</td>\n",
       "    </tr>\n",
       "    <tr>\n",
       "      <th>4</th>\n",
       "      <td>3</td>\n",
       "      <td>1</td>\n",
       "      <td>3</td>\n",
       "      <td>0078-XZMHT</td>\n",
       "      <td>Male</td>\n",
       "      <td>0</td>\n",
       "      <td>Yes</td>\n",
       "      <td>No</td>\n",
       "      <td>72</td>\n",
       "      <td>Yes</td>\n",
       "      <td>...</td>\n",
       "      <td>Yes</td>\n",
       "      <td>Yes</td>\n",
       "      <td>Yes</td>\n",
       "      <td>Yes</td>\n",
       "      <td>85.15</td>\n",
       "      <td>6316.2</td>\n",
       "      <td>No</td>\n",
       "      <td>Two year</td>\n",
       "      <td>DSL</td>\n",
       "      <td>Bank transfer (automatic)</td>\n",
       "    </tr>\n",
       "  </tbody>\n",
       "</table>\n",
       "<p>5 rows × 24 columns</p>\n",
       "</div>"
      ],
      "text/plain": [
       "   payment_type_id  internet_service_type_id  contract_type_id customer_id  \\\n",
       "0                2                         1                 3  0016-QLJIS   \n",
       "1                4                         1                 3  0017-DINOC   \n",
       "2                3                         1                 3  0019-GFNTW   \n",
       "3                4                         1                 3  0056-EPFBG   \n",
       "4                3                         1                 3  0078-XZMHT   \n",
       "\n",
       "   gender  senior_citizen partner dependents  tenure phone_service  ...  \\\n",
       "0  Female               0     Yes        Yes      65           Yes  ...   \n",
       "1    Male               0      No         No      54            No  ...   \n",
       "2  Female               0      No         No      56            No  ...   \n",
       "3    Male               0     Yes        Yes      20            No  ...   \n",
       "4    Male               0     Yes         No      72           Yes  ...   \n",
       "\n",
       "  tech_support streaming_tv streaming_movies paperless_billing  \\\n",
       "0          Yes          Yes              Yes               Yes   \n",
       "1          Yes          Yes               No                No   \n",
       "2          Yes           No               No                No   \n",
       "3          Yes           No               No               Yes   \n",
       "4          Yes          Yes              Yes               Yes   \n",
       "\n",
       "  monthly_charges total_charges churn contract_type  internet_service_type  \\\n",
       "0           90.45        5957.9    No      Two year                    DSL   \n",
       "1           45.20       2460.55    No      Two year                    DSL   \n",
       "2           45.05        2560.1    No      Two year                    DSL   \n",
       "3           39.40         825.4    No      Two year                    DSL   \n",
       "4           85.15        6316.2    No      Two year                    DSL   \n",
       "\n",
       "                payment_type  \n",
       "0               Mailed check  \n",
       "1    Credit card (automatic)  \n",
       "2  Bank transfer (automatic)  \n",
       "3    Credit card (automatic)  \n",
       "4  Bank transfer (automatic)  \n",
       "\n",
       "[5 rows x 24 columns]"
      ]
     },
     "execution_count": 2,
     "metadata": {},
     "output_type": "execute_result"
    }
   ],
   "source": [
    "# This acquire function connects to the database, runs a SQL query, and returns the Telco churn into a useable dataframe\n",
    "\n",
    "telco = acquire.get_telco_data()\n",
    "df = telco\n",
    "df.head()"
   ]
  },
  {
   "cell_type": "code",
   "execution_count": 3,
   "id": "613ca2d8",
   "metadata": {},
   "outputs": [
    {
     "data": {
      "text/plain": [
       "(7043, 24)"
      ]
     },
     "execution_count": 3,
     "metadata": {},
     "output_type": "execute_result"
    }
   ],
   "source": [
    "df.shape"
   ]
  },
  {
   "cell_type": "markdown",
   "id": "3606a529",
   "metadata": {},
   "source": [
    "# Acquire Takeaways\n",
    "\n",
    "- Created an acquire function that connects to the database, runs a SQL query, and returns the Telco churn into\n",
    "  a useable database, also saves file locally as a csv\n",
    "  \n",
    "  \n",
    "- 7043 Rows = Customers\n",
    "- 24 Columns = Features\n"
   ]
  },
  {
   "cell_type": "markdown",
   "id": "74e32fa6",
   "metadata": {},
   "source": [
    "<hr style=\"border:2px solid black\"> </hr>\n"
   ]
  },
  {
   "cell_type": "markdown",
   "id": "b0aa5bb9",
   "metadata": {},
   "source": [
    "# Prepare Data: "
   ]
  },
  {
   "cell_type": "code",
   "execution_count": 4,
   "id": "a94a4d62",
   "metadata": {},
   "outputs": [],
   "source": [
    "#preliminary clean delco:\n",
    "def prep_telco(df):\n",
    "\n",
    "    df = df.drop_duplicates()  #Drop duplicates\n",
    "    \n",
    "    #11 values are blank strings for total charges representing 11 customers at 0 tenure\n",
    "    df['total_charges'] = df['total_charges'].str.strip() #eliminate white space\n",
    "    df['total_charges'] = df['total_charges'].replace('', 0) #replace empty values as 0\n",
    "    df['total_charges'] = df['total_charges'].astype('float64')\n",
    "\n",
    "    #15 columns encoded to '0' = No, '1'= Yes\n",
    "    #contract type MtM = 0, 1year = 1, 2year =2\n",
    "    #concated manual billing = 0 , automatic billing = 1\n",
    "    df['gender'] = df.gender.replace({'Female': 0, 'Male': 1})\n",
    "    df['partner'] = df.partner.replace({'Yes': 1, 'No': 0})\n",
    "    df['dependents'] = df.dependents.replace({'Yes': 1, 'No': 0})\n",
    "    df['phone_service'] = df.phone_service.replace({'Yes': 1, 'No': 0})\n",
    "    df['churn'] = df.churn.replace({'Yes': 1, 'No': 0})\n",
    "    df['multiple_lines'] = df.multiple_lines.replace({'No': 0, \"Yes\": 1, \"No phone service\": 0})\n",
    "    df['online_secuirty'] = df.online_security.replace({'No': 0, \"Yes\": 1, \"No internet service\": 0})\n",
    "    df['online_backup'] = df.online_backup.replace({'No': 0, \"Yes\": 1, \"No internet service\": 0})\n",
    "    df['device_protection'] = df.device_protection.replace({'No': 0, \"Yes\": 1, \"No internet service\": 0})\n",
    "    df['tech_support'] = df.tech_support.replace({'No': 0, \"Yes\": 1, \"No internet service\": 0})\n",
    "    df['streaming_tv'] = df.streaming_tv.replace({'No': 0, \"Yes\": 1, \"No internet service\": 0})\n",
    "    df['streaming_movies'] = df.streaming_movies.replace({'No': 0, \"Yes\": 1, \"No internet service\": 0})\n",
    "    df['paperless_billing'] = df.paperless_billing.replace({'Yes': 1, 'No': 0})\n",
    "    #df['contract_type'] = df.contract_type.replace({'Month-to-month': 0, 'One year': 1, 'Two year': 2})\n",
    "    df['payment_type'] = df.payment_type.map({'Mailed check': 0, 'Credit card (automatic)': 1, \n",
    "                                               'Bank transfer (automatic)': 1,  'Electronic check': 0})\n",
    "\n",
    "\n",
    "    # creating dummy values for payment, internet, & contract (*important values*)\n",
    "    dummy_df = pd.get_dummies(df[[\"internet_service_type\",\"contract_type\"]])\n",
    "    df = pd.concat([df, dummy_df], axis=1)\n",
    "\n",
    "    #Rename columns\n",
    "    columns_to_rename = {'contract_type': 'contract',\n",
    "                    'internet_service_type': 'internet',\n",
    "                    'gender': 'is_male',\n",
    "                     'payment_type_id': 'payment_id',\n",
    "                     'contract_type_id': 'contract_type',\n",
    "                     'internet_service_type_DSL': 'DSL',\n",
    "                     'internet_service_type_Fiber optic': 'fiber_optic',\n",
    "                     'internet_service_type_None': 'no_internet',\n",
    "                     'contract_type_Month-to-month': 'month_to_month',\n",
    "                     'contract_type_One year': 'one_year_contract',\n",
    "                     'contract_type_Two year': 'two_year_contract'}\n",
    "    df = df.rename(columns = columns_to_rename)\n",
    "    \n",
    "    #dropping columns not need (#potentially update)\n",
    "    columns_to_drop = {'customer_id', 'internet_service_type_id', 'internet', 'payment_id'}\n",
    "    df = df.drop(columns=columns_to_drop)\n",
    "    \n",
    "    return df\n",
    "    \n",
    "####FUNCTION NOTES:\n",
    "#drop internet, internet_service_type_id, payment_id"
   ]
  },
  {
   "cell_type": "code",
   "execution_count": 5,
   "id": "8cf6ca1d",
   "metadata": {},
   "outputs": [],
   "source": [
    "df = prep_telco(df)"
   ]
  },
  {
   "cell_type": "code",
   "execution_count": 6,
   "id": "63e2cc79",
   "metadata": {},
   "outputs": [
    {
     "name": "stdout",
     "output_type": "stream",
     "text": [
      "<class 'pandas.core.frame.DataFrame'>\n",
      "Int64Index: 7043 entries, 0 to 7042\n",
      "Data columns (total 27 columns):\n",
      " #   Column             Non-Null Count  Dtype  \n",
      "---  ------             --------------  -----  \n",
      " 0   contract_type      7043 non-null   int64  \n",
      " 1   is_male            7043 non-null   int64  \n",
      " 2   senior_citizen     7043 non-null   int64  \n",
      " 3   partner            7043 non-null   int64  \n",
      " 4   dependents         7043 non-null   int64  \n",
      " 5   tenure             7043 non-null   int64  \n",
      " 6   phone_service      7043 non-null   int64  \n",
      " 7   multiple_lines     7043 non-null   int64  \n",
      " 8   online_security    7043 non-null   object \n",
      " 9   online_backup      7043 non-null   int64  \n",
      " 10  device_protection  7043 non-null   int64  \n",
      " 11  tech_support       7043 non-null   int64  \n",
      " 12  streaming_tv       7043 non-null   int64  \n",
      " 13  streaming_movies   7043 non-null   int64  \n",
      " 14  paperless_billing  7043 non-null   int64  \n",
      " 15  monthly_charges    7043 non-null   float64\n",
      " 16  total_charges      7043 non-null   float64\n",
      " 17  churn              7043 non-null   int64  \n",
      " 18  contract           7043 non-null   object \n",
      " 19  payment_type       7043 non-null   int64  \n",
      " 20  online_secuirty    7043 non-null   int64  \n",
      " 21  DSL                7043 non-null   uint8  \n",
      " 22  fiber_optic        7043 non-null   uint8  \n",
      " 23  no_internet        7043 non-null   uint8  \n",
      " 24  month_to_month     7043 non-null   uint8  \n",
      " 25  one_year_contract  7043 non-null   uint8  \n",
      " 26  two_year_contract  7043 non-null   uint8  \n",
      "dtypes: float64(2), int64(17), object(2), uint8(6)\n",
      "memory usage: 1.2+ MB\n"
     ]
    }
   ],
   "source": [
    "df.info()"
   ]
  },
  {
   "cell_type": "code",
   "execution_count": 7,
   "id": "11673431",
   "metadata": {},
   "outputs": [
    {
     "data": {
      "text/html": [
       "<div>\n",
       "<style scoped>\n",
       "    .dataframe tbody tr th:only-of-type {\n",
       "        vertical-align: middle;\n",
       "    }\n",
       "\n",
       "    .dataframe tbody tr th {\n",
       "        vertical-align: top;\n",
       "    }\n",
       "\n",
       "    .dataframe thead th {\n",
       "        text-align: right;\n",
       "    }\n",
       "</style>\n",
       "<table border=\"1\" class=\"dataframe\">\n",
       "  <thead>\n",
       "    <tr style=\"text-align: right;\">\n",
       "      <th></th>\n",
       "      <th>contract_type</th>\n",
       "      <th>is_male</th>\n",
       "      <th>senior_citizen</th>\n",
       "      <th>partner</th>\n",
       "      <th>dependents</th>\n",
       "      <th>tenure</th>\n",
       "      <th>phone_service</th>\n",
       "      <th>multiple_lines</th>\n",
       "      <th>online_security</th>\n",
       "      <th>online_backup</th>\n",
       "      <th>...</th>\n",
       "      <th>churn</th>\n",
       "      <th>contract</th>\n",
       "      <th>payment_type</th>\n",
       "      <th>online_secuirty</th>\n",
       "      <th>DSL</th>\n",
       "      <th>fiber_optic</th>\n",
       "      <th>no_internet</th>\n",
       "      <th>month_to_month</th>\n",
       "      <th>one_year_contract</th>\n",
       "      <th>two_year_contract</th>\n",
       "    </tr>\n",
       "  </thead>\n",
       "  <tbody>\n",
       "    <tr>\n",
       "      <th>0</th>\n",
       "      <td>3</td>\n",
       "      <td>0</td>\n",
       "      <td>0</td>\n",
       "      <td>1</td>\n",
       "      <td>1</td>\n",
       "      <td>65</td>\n",
       "      <td>1</td>\n",
       "      <td>1</td>\n",
       "      <td>Yes</td>\n",
       "      <td>1</td>\n",
       "      <td>...</td>\n",
       "      <td>0</td>\n",
       "      <td>Two year</td>\n",
       "      <td>0</td>\n",
       "      <td>1</td>\n",
       "      <td>1</td>\n",
       "      <td>0</td>\n",
       "      <td>0</td>\n",
       "      <td>0</td>\n",
       "      <td>0</td>\n",
       "      <td>1</td>\n",
       "    </tr>\n",
       "    <tr>\n",
       "      <th>1</th>\n",
       "      <td>3</td>\n",
       "      <td>1</td>\n",
       "      <td>0</td>\n",
       "      <td>0</td>\n",
       "      <td>0</td>\n",
       "      <td>54</td>\n",
       "      <td>0</td>\n",
       "      <td>0</td>\n",
       "      <td>Yes</td>\n",
       "      <td>0</td>\n",
       "      <td>...</td>\n",
       "      <td>0</td>\n",
       "      <td>Two year</td>\n",
       "      <td>1</td>\n",
       "      <td>1</td>\n",
       "      <td>1</td>\n",
       "      <td>0</td>\n",
       "      <td>0</td>\n",
       "      <td>0</td>\n",
       "      <td>0</td>\n",
       "      <td>1</td>\n",
       "    </tr>\n",
       "    <tr>\n",
       "      <th>2</th>\n",
       "      <td>3</td>\n",
       "      <td>0</td>\n",
       "      <td>0</td>\n",
       "      <td>0</td>\n",
       "      <td>0</td>\n",
       "      <td>56</td>\n",
       "      <td>0</td>\n",
       "      <td>0</td>\n",
       "      <td>Yes</td>\n",
       "      <td>1</td>\n",
       "      <td>...</td>\n",
       "      <td>0</td>\n",
       "      <td>Two year</td>\n",
       "      <td>1</td>\n",
       "      <td>1</td>\n",
       "      <td>1</td>\n",
       "      <td>0</td>\n",
       "      <td>0</td>\n",
       "      <td>0</td>\n",
       "      <td>0</td>\n",
       "      <td>1</td>\n",
       "    </tr>\n",
       "    <tr>\n",
       "      <th>3</th>\n",
       "      <td>3</td>\n",
       "      <td>1</td>\n",
       "      <td>0</td>\n",
       "      <td>1</td>\n",
       "      <td>1</td>\n",
       "      <td>20</td>\n",
       "      <td>0</td>\n",
       "      <td>0</td>\n",
       "      <td>Yes</td>\n",
       "      <td>0</td>\n",
       "      <td>...</td>\n",
       "      <td>0</td>\n",
       "      <td>Two year</td>\n",
       "      <td>1</td>\n",
       "      <td>1</td>\n",
       "      <td>1</td>\n",
       "      <td>0</td>\n",
       "      <td>0</td>\n",
       "      <td>0</td>\n",
       "      <td>0</td>\n",
       "      <td>1</td>\n",
       "    </tr>\n",
       "    <tr>\n",
       "      <th>4</th>\n",
       "      <td>3</td>\n",
       "      <td>1</td>\n",
       "      <td>0</td>\n",
       "      <td>1</td>\n",
       "      <td>0</td>\n",
       "      <td>72</td>\n",
       "      <td>1</td>\n",
       "      <td>1</td>\n",
       "      <td>No</td>\n",
       "      <td>1</td>\n",
       "      <td>...</td>\n",
       "      <td>0</td>\n",
       "      <td>Two year</td>\n",
       "      <td>1</td>\n",
       "      <td>0</td>\n",
       "      <td>1</td>\n",
       "      <td>0</td>\n",
       "      <td>0</td>\n",
       "      <td>0</td>\n",
       "      <td>0</td>\n",
       "      <td>1</td>\n",
       "    </tr>\n",
       "  </tbody>\n",
       "</table>\n",
       "<p>5 rows × 27 columns</p>\n",
       "</div>"
      ],
      "text/plain": [
       "   contract_type  is_male  senior_citizen  partner  dependents  tenure  \\\n",
       "0              3        0               0        1           1      65   \n",
       "1              3        1               0        0           0      54   \n",
       "2              3        0               0        0           0      56   \n",
       "3              3        1               0        1           1      20   \n",
       "4              3        1               0        1           0      72   \n",
       "\n",
       "   phone_service  multiple_lines online_security  online_backup  ...  churn  \\\n",
       "0              1               1             Yes              1  ...      0   \n",
       "1              0               0             Yes              0  ...      0   \n",
       "2              0               0             Yes              1  ...      0   \n",
       "3              0               0             Yes              0  ...      0   \n",
       "4              1               1              No              1  ...      0   \n",
       "\n",
       "   contract  payment_type  online_secuirty  DSL  fiber_optic  no_internet  \\\n",
       "0  Two year             0                1    1            0            0   \n",
       "1  Two year             1                1    1            0            0   \n",
       "2  Two year             1                1    1            0            0   \n",
       "3  Two year             1                1    1            0            0   \n",
       "4  Two year             1                0    1            0            0   \n",
       "\n",
       "   month_to_month one_year_contract  two_year_contract  \n",
       "0               0                 0                  1  \n",
       "1               0                 0                  1  \n",
       "2               0                 0                  1  \n",
       "3               0                 0                  1  \n",
       "4               0                 0                  1  \n",
       "\n",
       "[5 rows x 27 columns]"
      ]
     },
     "execution_count": 7,
     "metadata": {},
     "output_type": "execute_result"
    }
   ],
   "source": [
    "df.head()"
   ]
  },
  {
   "cell_type": "code",
   "execution_count": 8,
   "id": "1d3cc9da",
   "metadata": {},
   "outputs": [],
   "source": [
    "def split_telco_data(df):\n",
    "    '''\n",
    "    This function performs split on telco data, stratify churn.\n",
    "    Returns train, validate, and test dfs.\n",
    "    '''\n",
    "    train_validate, test = train_test_split(df, test_size=.2, \n",
    "                                        random_state=123, \n",
    "                                        stratify=df.churn)\n",
    "    train, validate = train_test_split(train_validate, test_size=.3, \n",
    "                                   random_state=123, \n",
    "                                   stratify=train_validate.churn)\n",
    "    return train, validate, test"
   ]
  },
  {
   "cell_type": "code",
   "execution_count": 9,
   "id": "98732b40",
   "metadata": {},
   "outputs": [],
   "source": [
    "train, validate, test = split_telco_data(df)"
   ]
  },
  {
   "cell_type": "code",
   "execution_count": 10,
   "id": "32b4c6e8",
   "metadata": {},
   "outputs": [
    {
     "name": "stdout",
     "output_type": "stream",
     "text": [
      " train shape = (3943, 27)\n",
      " validate shape = (1691, 27)\n",
      " test shape = (1409, 27)\n"
     ]
    }
   ],
   "source": [
    "print(f' train shape = {train.shape}')\n",
    "print(f' validate shape = {validate.shape}')\n",
    "print(f' test shape = {test.shape}')"
   ]
  },
  {
   "cell_type": "markdown",
   "id": "5b7f6af4",
   "metadata": {},
   "source": [
    "# Prepare Takeaways:\n",
    "\n",
    "#### Prepare function:\n",
    "- Drop duplicated values\n",
    "- 'total_charges' eliminated whitespace, replaced empty values, changed to float\n",
    "- Encoded 15 columns to '0' = No, '1' = Yes\n",
    "- Concated billing to manual payments ('0') and automatic payments ('1')\n",
    "- Renamed columns \n",
    "- Dummy variables for internet service type and contract type\n",
    "- Dropped columns - remaining 27\n",
    "\n",
    "\n",
    "#### Split function:\n",
    "- Split our data into a train, validate, and test datasets"
   ]
  },
  {
   "cell_type": "markdown",
   "id": "db9b7a29",
   "metadata": {},
   "source": [
    "<hr style=\"border:2px solid black\"> </hr>\n"
   ]
  },
  {
   "cell_type": "markdown",
   "id": "b5e4c758",
   "metadata": {},
   "source": [
    "# Exploring Our Data:"
   ]
  },
  {
   "cell_type": "code",
   "execution_count": 11,
   "id": "7cab0821",
   "metadata": {
    "scrolled": true
   },
   "outputs": [
    {
     "data": {
      "image/png": "[encoded data removed]",
      "text/plain": [
       "<Figure size 1584x576 with 1 Axes>"
      ]
     },
     "metadata": {
      "needs_background": "light"
     },
     "output_type": "display_data"
    }
   ],
   "source": [
    "# Showing customer count by tenure\n",
    "\n",
    "# Shows that customer churn is extremely high the first 6 months \n",
    "\n",
    "plt.figure(figsize = (22, 8))\n",
    "sns.countplot(df.tenure, palette=(\"crest\"))\n",
    "plt.title('Count of Customer Tenure by Months of Service', fontsize= 20)\n",
    "plt.xlabel('Tenure in Months', fontsize= 20)\n",
    "plt.xticks(fontsize = 10)\n",
    "plt.ylabel('Customer Count', fontsize = 20)\n",
    "# plt.axhline(y= 32, linestyle= '--')\n",
    "plt.show()"
   ]
  },
  {
   "cell_type": "code",
   "execution_count": 12,
   "id": "e2e69be1",
   "metadata": {},
   "outputs": [
    {
     "data": {
      "image/png": "[encoded data removed]",
      "text/plain": [
       "<Figure size 402.375x360 with 1 Axes>"
      ]
     },
     "metadata": {
      "needs_background": "light"
     },
     "output_type": "display_data"
    }
   ],
   "source": [
    "# This chart shows that churn is primarily coming from our month to month customers\n",
    "# who continually represent a smaller portion of continued customers\n",
    "\n",
    "sns.displot(train, x=\"tenure\",hue=\"churn\", multiple='stack')\n",
    "plt.title('Tenure (in months) and Churn')\n",
    "plt.show();\n"
   ]
  },
  {
   "cell_type": "markdown",
   "id": "afb9675c",
   "metadata": {},
   "source": [
    "### Our goal is to find the services that are causing this churn while maintaining our MtM service"
   ]
  },
  {
   "cell_type": "code",
   "execution_count": 13,
   "id": "506f64e5",
   "metadata": {
    "scrolled": false
   },
   "outputs": [
    {
     "data": {
      "text/html": [
       "<div>\n",
       "<style scoped>\n",
       "    .dataframe tbody tr th:only-of-type {\n",
       "        vertical-align: middle;\n",
       "    }\n",
       "\n",
       "    .dataframe tbody tr th {\n",
       "        vertical-align: top;\n",
       "    }\n",
       "\n",
       "    .dataframe thead th {\n",
       "        text-align: right;\n",
       "    }\n",
       "</style>\n",
       "<table border=\"1\" class=\"dataframe\">\n",
       "  <thead>\n",
       "    <tr style=\"text-align: right;\">\n",
       "      <th></th>\n",
       "      <th>churn</th>\n",
       "    </tr>\n",
       "  </thead>\n",
       "  <tbody>\n",
       "    <tr>\n",
       "      <th>churn</th>\n",
       "      <td>1.000000</td>\n",
       "    </tr>\n",
       "    <tr>\n",
       "      <th>month_to_month</th>\n",
       "      <td>0.409166</td>\n",
       "    </tr>\n",
       "    <tr>\n",
       "      <th>fiber_optic</th>\n",
       "      <td>0.303591</td>\n",
       "    </tr>\n",
       "    <tr>\n",
       "      <th>monthly_charges</th>\n",
       "      <td>0.189040</td>\n",
       "    </tr>\n",
       "    <tr>\n",
       "      <th>paperless_billing</th>\n",
       "      <td>0.187409</td>\n",
       "    </tr>\n",
       "    <tr>\n",
       "      <th>senior_citizen</th>\n",
       "      <td>0.165482</td>\n",
       "    </tr>\n",
       "    <tr>\n",
       "      <th>streaming_tv</th>\n",
       "      <td>0.069691</td>\n",
       "    </tr>\n",
       "    <tr>\n",
       "      <th>streaming_movies</th>\n",
       "      <td>0.062017</td>\n",
       "    </tr>\n",
       "    <tr>\n",
       "      <th>multiple_lines</th>\n",
       "      <td>0.041917</td>\n",
       "    </tr>\n",
       "    <tr>\n",
       "      <th>phone_service</th>\n",
       "      <td>0.011995</td>\n",
       "    </tr>\n",
       "    <tr>\n",
       "      <th>is_male</th>\n",
       "      <td>0.006885</td>\n",
       "    </tr>\n",
       "    <tr>\n",
       "      <th>device_protection</th>\n",
       "      <td>-0.063270</td>\n",
       "    </tr>\n",
       "    <tr>\n",
       "      <th>online_backup</th>\n",
       "      <td>-0.079113</td>\n",
       "    </tr>\n",
       "    <tr>\n",
       "      <th>DSL</th>\n",
       "      <td>-0.124500</td>\n",
       "    </tr>\n",
       "    <tr>\n",
       "      <th>partner</th>\n",
       "      <td>-0.137696</td>\n",
       "    </tr>\n",
       "    <tr>\n",
       "      <th>dependents</th>\n",
       "      <td>-0.160315</td>\n",
       "    </tr>\n",
       "    <tr>\n",
       "      <th>tech_support</th>\n",
       "      <td>-0.176822</td>\n",
       "    </tr>\n",
       "    <tr>\n",
       "      <th>online_secuirty</th>\n",
       "      <td>-0.180536</td>\n",
       "    </tr>\n",
       "    <tr>\n",
       "      <th>one_year_contract</th>\n",
       "      <td>-0.185215</td>\n",
       "    </tr>\n",
       "    <tr>\n",
       "      <th>total_charges</th>\n",
       "      <td>-0.201972</td>\n",
       "    </tr>\n",
       "    <tr>\n",
       "      <th>payment_type</th>\n",
       "      <td>-0.202806</td>\n",
       "    </tr>\n",
       "    <tr>\n",
       "      <th>no_internet</th>\n",
       "      <td>-0.223698</td>\n",
       "    </tr>\n",
       "    <tr>\n",
       "      <th>two_year_contract</th>\n",
       "      <td>-0.298877</td>\n",
       "    </tr>\n",
       "    <tr>\n",
       "      <th>tenure</th>\n",
       "      <td>-0.352282</td>\n",
       "    </tr>\n",
       "    <tr>\n",
       "      <th>contract_type</th>\n",
       "      <td>-0.396156</td>\n",
       "    </tr>\n",
       "  </tbody>\n",
       "</table>\n",
       "</div>"
      ],
      "text/plain": [
       "                      churn\n",
       "churn              1.000000\n",
       "month_to_month     0.409166\n",
       "fiber_optic        0.303591\n",
       "monthly_charges    0.189040\n",
       "paperless_billing  0.187409\n",
       "senior_citizen     0.165482\n",
       "streaming_tv       0.069691\n",
       "streaming_movies   0.062017\n",
       "multiple_lines     0.041917\n",
       "phone_service      0.011995\n",
       "is_male            0.006885\n",
       "device_protection -0.063270\n",
       "online_backup     -0.079113\n",
       "DSL               -0.124500\n",
       "partner           -0.137696\n",
       "dependents        -0.160315\n",
       "tech_support      -0.176822\n",
       "online_secuirty   -0.180536\n",
       "one_year_contract -0.185215\n",
       "total_charges     -0.201972\n",
       "payment_type      -0.202806\n",
       "no_internet       -0.223698\n",
       "two_year_contract -0.298877\n",
       "tenure            -0.352282\n",
       "contract_type     -0.396156"
      ]
     },
     "execution_count": 13,
     "metadata": {},
     "output_type": "execute_result"
    }
   ],
   "source": [
    "# Here we created a correlation of all features to churn\n",
    "\n",
    "traincorr = train.corr()\n",
    "traincorr = traincorr.sort_values(by='churn', ascending=False)\n",
    "pd.DataFrame(traincorr.churn)"
   ]
  },
  {
   "cell_type": "code",
   "execution_count": 14,
   "id": "69583387",
   "metadata": {},
   "outputs": [
    {
     "data": {
      "text/plain": [
       "Text(0.5, 1.0, 'Customer features associated with Churn')"
      ]
     },
     "execution_count": 14,
     "metadata": {},
     "output_type": "execute_result"
    },
    {
     "data": {
      "image/png": "[encoded data removed]",
      "text/plain": [
       "<Figure size 720x1008 with 2 Axes>"
      ]
     },
     "metadata": {
      "needs_background": "light"
     },
     "output_type": "display_data"
    }
   ],
   "source": [
    "# We represented this correlation in columns by this heatmap to give us a physical representation\n",
    "\n",
    "plt.figure(figsize = (10,14))\n",
    "sns.heatmap(df.corr()[['churn']].sort_values(by='churn', ascending = False),vmin=-.5, vmax=.5, annot=True)\n",
    "plt.title('Customer features associated with Churn')"
   ]
  },
  {
   "cell_type": "markdown",
   "id": "929b577a",
   "metadata": {},
   "source": [
    "### Here we can assume that fiber optic has a greater churn than DSL and that manual forms of payments has a greater churn than automatic\n",
    "\n"
   ]
  },
  {
   "cell_type": "markdown",
   "id": "078763a3",
   "metadata": {},
   "source": [
    "<hr style=\"border:2px solid black\"> </hr>\n"
   ]
  },
  {
   "cell_type": "markdown",
   "id": "15754038",
   "metadata": {},
   "source": [
    "## Let's look at the relationship of DSL and Fiber"
   ]
  },
  {
   "cell_type": "code",
   "execution_count": 15,
   "id": "77941130",
   "metadata": {},
   "outputs": [
    {
     "data": {
      "text/plain": [
       "0    3947\n",
       "1    3096\n",
       "Name: fiber_optic, dtype: int64"
      ]
     },
     "execution_count": 15,
     "metadata": {},
     "output_type": "execute_result"
    }
   ],
   "source": [
    "#3096 customers have fiber optic\n",
    "\n",
    "df.fiber_optic.value_counts()"
   ]
  },
  {
   "cell_type": "code",
   "execution_count": 16,
   "id": "e5b89758",
   "metadata": {},
   "outputs": [
    {
     "data": {
      "text/html": [
       "<div>\n",
       "<style scoped>\n",
       "    .dataframe tbody tr th:only-of-type {\n",
       "        vertical-align: middle;\n",
       "    }\n",
       "\n",
       "    .dataframe tbody tr th {\n",
       "        vertical-align: top;\n",
       "    }\n",
       "\n",
       "    .dataframe thead th {\n",
       "        text-align: right;\n",
       "    }\n",
       "</style>\n",
       "<table border=\"1\" class=\"dataframe\">\n",
       "  <thead>\n",
       "    <tr style=\"text-align: right;\">\n",
       "      <th></th>\n",
       "      <th>min</th>\n",
       "      <th>mean</th>\n",
       "      <th>max</th>\n",
       "    </tr>\n",
       "    <tr>\n",
       "      <th>fiber_optic</th>\n",
       "      <th></th>\n",
       "      <th></th>\n",
       "      <th></th>\n",
       "    </tr>\n",
       "  </thead>\n",
       "  <tbody>\n",
       "    <tr>\n",
       "      <th>0</th>\n",
       "      <td>18.25</td>\n",
       "      <td>43.788244</td>\n",
       "      <td>94.80</td>\n",
       "    </tr>\n",
       "    <tr>\n",
       "      <th>1</th>\n",
       "      <td>67.75</td>\n",
       "      <td>91.500129</td>\n",
       "      <td>118.75</td>\n",
       "    </tr>\n",
       "  </tbody>\n",
       "</table>\n",
       "</div>"
      ],
      "text/plain": [
       "               min       mean     max\n",
       "fiber_optic                          \n",
       "0            18.25  43.788244   94.80\n",
       "1            67.75  91.500129  118.75"
      ]
     },
     "execution_count": 16,
     "metadata": {},
     "output_type": "execute_result"
    }
   ],
   "source": [
    "#understanding the costs of fiber optics\n",
    "\n",
    "df.groupby('fiber_optic').monthly_charges.agg(['min', 'mean', 'max'])"
   ]
  },
  {
   "cell_type": "code",
   "execution_count": 17,
   "id": "52325b71",
   "metadata": {},
   "outputs": [
    {
     "data": {
      "text/html": [
       "<div>\n",
       "<style scoped>\n",
       "    .dataframe tbody tr th:only-of-type {\n",
       "        vertical-align: middle;\n",
       "    }\n",
       "\n",
       "    .dataframe tbody tr th {\n",
       "        vertical-align: top;\n",
       "    }\n",
       "\n",
       "    .dataframe thead th {\n",
       "        text-align: right;\n",
       "    }\n",
       "</style>\n",
       "<table border=\"1\" class=\"dataframe\">\n",
       "  <thead>\n",
       "    <tr style=\"text-align: right;\">\n",
       "      <th></th>\n",
       "      <th>min</th>\n",
       "      <th>mean</th>\n",
       "      <th>max</th>\n",
       "    </tr>\n",
       "    <tr>\n",
       "      <th>DSL</th>\n",
       "      <th></th>\n",
       "      <th></th>\n",
       "      <th></th>\n",
       "    </tr>\n",
       "  </thead>\n",
       "  <tbody>\n",
       "    <tr>\n",
       "      <th>0</th>\n",
       "      <td>18.25</td>\n",
       "      <td>68.249946</td>\n",
       "      <td>118.75</td>\n",
       "    </tr>\n",
       "    <tr>\n",
       "      <th>1</th>\n",
       "      <td>23.45</td>\n",
       "      <td>58.102169</td>\n",
       "      <td>94.80</td>\n",
       "    </tr>\n",
       "  </tbody>\n",
       "</table>\n",
       "</div>"
      ],
      "text/plain": [
       "       min       mean     max\n",
       "DSL                          \n",
       "0    18.25  68.249946  118.75\n",
       "1    23.45  58.102169   94.80"
      ]
     },
     "execution_count": 17,
     "metadata": {},
     "output_type": "execute_result"
    }
   ],
   "source": [
    "# Understanding the costs of DSL\n",
    "# Shows that DSL is significantly cheaper than Fiber\n",
    "df.groupby('DSL').monthly_charges.agg(['min', 'mean', 'max'])"
   ]
  },
  {
   "cell_type": "code",
   "execution_count": 18,
   "id": "e94305e7",
   "metadata": {},
   "outputs": [],
   "source": [
    "churned = df[df['churn'] == 1].tenure\n",
    "dsl = df[df['DSL'] == 1]\n",
    "fiber = df[df['fiber_optic'] == 1]"
   ]
  },
  {
   "cell_type": "code",
   "execution_count": 19,
   "id": "afc0a4ed",
   "metadata": {},
   "outputs": [
    {
     "data": {
      "text/html": [
       "<div>\n",
       "<style scoped>\n",
       "    .dataframe tbody tr th:only-of-type {\n",
       "        vertical-align: middle;\n",
       "    }\n",
       "\n",
       "    .dataframe tbody tr th {\n",
       "        vertical-align: top;\n",
       "    }\n",
       "\n",
       "    .dataframe thead th {\n",
       "        text-align: right;\n",
       "    }\n",
       "</style>\n",
       "<table border=\"1\" class=\"dataframe\">\n",
       "  <thead>\n",
       "    <tr style=\"text-align: right;\">\n",
       "      <th>churn</th>\n",
       "      <th>0</th>\n",
       "      <th>1</th>\n",
       "    </tr>\n",
       "    <tr>\n",
       "      <th>fiber_optic</th>\n",
       "      <th></th>\n",
       "      <th></th>\n",
       "    </tr>\n",
       "  </thead>\n",
       "  <tbody>\n",
       "    <tr>\n",
       "      <th>0</th>\n",
       "      <td>3375</td>\n",
       "      <td>572</td>\n",
       "    </tr>\n",
       "    <tr>\n",
       "      <th>1</th>\n",
       "      <td>1799</td>\n",
       "      <td>1297</td>\n",
       "    </tr>\n",
       "  </tbody>\n",
       "</table>\n",
       "</div>"
      ],
      "text/plain": [
       "churn           0     1\n",
       "fiber_optic            \n",
       "0            3375   572\n",
       "1            1799  1297"
      ]
     },
     "execution_count": 19,
     "metadata": {},
     "output_type": "execute_result"
    }
   ],
   "source": [
    "# Observing Fiber's churn rate\n",
    "observed = pd.crosstab(df.fiber_optic, df.churn)\n",
    "observed"
   ]
  },
  {
   "cell_type": "code",
   "execution_count": 20,
   "id": "d22abb36",
   "metadata": {},
   "outputs": [
    {
     "data": {
      "text/html": [
       "<div>\n",
       "<style scoped>\n",
       "    .dataframe tbody tr th:only-of-type {\n",
       "        vertical-align: middle;\n",
       "    }\n",
       "\n",
       "    .dataframe tbody tr th {\n",
       "        vertical-align: top;\n",
       "    }\n",
       "\n",
       "    .dataframe thead th {\n",
       "        text-align: right;\n",
       "    }\n",
       "</style>\n",
       "<table border=\"1\" class=\"dataframe\">\n",
       "  <thead>\n",
       "    <tr style=\"text-align: right;\">\n",
       "      <th>churn</th>\n",
       "      <th>0</th>\n",
       "      <th>1</th>\n",
       "    </tr>\n",
       "    <tr>\n",
       "      <th>DSL</th>\n",
       "      <th></th>\n",
       "      <th></th>\n",
       "    </tr>\n",
       "  </thead>\n",
       "  <tbody>\n",
       "    <tr>\n",
       "      <th>0</th>\n",
       "      <td>3212</td>\n",
       "      <td>1410</td>\n",
       "    </tr>\n",
       "    <tr>\n",
       "      <th>1</th>\n",
       "      <td>1962</td>\n",
       "      <td>459</td>\n",
       "    </tr>\n",
       "  </tbody>\n",
       "</table>\n",
       "</div>"
      ],
      "text/plain": [
       "churn     0     1\n",
       "DSL              \n",
       "0      3212  1410\n",
       "1      1962   459"
      ]
     },
     "execution_count": 20,
     "metadata": {},
     "output_type": "execute_result"
    }
   ],
   "source": [
    "# Observing DSL churn rate\n",
    "# Shows to be significantly lower than Fiber\n",
    "observed = pd.crosstab(df.DSL, df.churn)\n",
    "observed"
   ]
  },
  {
   "cell_type": "markdown",
   "id": "e9ad36e6",
   "metadata": {},
   "source": [
    "## From these values we learn that DSL offers a lower price point than Fiber and has less churn than Fiber"
   ]
  },
  {
   "cell_type": "markdown",
   "id": "121a2146",
   "metadata": {},
   "source": [
    "<hr style=\"border:2px solid black\"> </hr>"
   ]
  },
  {
   "cell_type": "markdown",
   "id": "cc2430c7",
   "metadata": {},
   "source": [
    "# Hypothesis Testing:\n",
    "\n",
    "## Let's see the relationship of DSL and Fiber to churn"
   ]
  },
  {
   "cell_type": "markdown",
   "id": "3072212f",
   "metadata": {},
   "source": [
    "\n",
    "\n",
    "## Hypothesis 1: Determine if there is a relationship between DSL and churn\n",
    "\n",
    "- Alpha = .05\n",
    "\n",
    "- $H_0$ : There is no relationship between DSL service and churn\n",
    "\n",
    "- $H_a$ : There is a relationship between DSL service and churn"
   ]
  },
  {
   "cell_type": "code",
   "execution_count": 21,
   "id": "b201ecf1",
   "metadata": {},
   "outputs": [
    {
     "data": {
      "text/html": [
       "<div>\n",
       "<style scoped>\n",
       "    .dataframe tbody tr th:only-of-type {\n",
       "        vertical-align: middle;\n",
       "    }\n",
       "\n",
       "    .dataframe tbody tr th {\n",
       "        vertical-align: top;\n",
       "    }\n",
       "\n",
       "    .dataframe thead th {\n",
       "        text-align: right;\n",
       "    }\n",
       "</style>\n",
       "<table border=\"1\" class=\"dataframe\">\n",
       "  <thead>\n",
       "    <tr style=\"text-align: right;\">\n",
       "      <th>DSL</th>\n",
       "      <th>0</th>\n",
       "      <th>1</th>\n",
       "    </tr>\n",
       "    <tr>\n",
       "      <th>churn</th>\n",
       "      <th></th>\n",
       "      <th></th>\n",
       "    </tr>\n",
       "  </thead>\n",
       "  <tbody>\n",
       "    <tr>\n",
       "      <th>0</th>\n",
       "      <td>1791</td>\n",
       "      <td>1106</td>\n",
       "    </tr>\n",
       "    <tr>\n",
       "      <th>1</th>\n",
       "      <td>787</td>\n",
       "      <td>259</td>\n",
       "    </tr>\n",
       "  </tbody>\n",
       "</table>\n",
       "</div>"
      ],
      "text/plain": [
       "DSL       0     1\n",
       "churn            \n",
       "0      1791  1106\n",
       "1       787   259"
      ]
     },
     "execution_count": 21,
     "metadata": {},
     "output_type": "execute_result"
    }
   ],
   "source": [
    "observed = pd.crosstab(train.churn, train.DSL)\n",
    "observed"
   ]
  },
  {
   "cell_type": "code",
   "execution_count": 22,
   "id": "2bb625f7",
   "metadata": {},
   "outputs": [
    {
     "name": "stdout",
     "output_type": "stream",
     "text": [
      "Observed\n",
      "\n",
      "DSL       0     1\n",
      "churn            \n",
      "0      1791  1106\n",
      "1       787   259\n",
      "---------------------\n",
      "Expected\n",
      "\n",
      "[[1894 1002]\n",
      " [ 683  362]]\n",
      "---------------------\n",
      "\n",
      "chi^2 = 60.5262\n",
      "p     = 0.0000\n",
      "\n",
      " Our p value is less than our alpha and we can reject the null hypothesis\n",
      "         There is a relationship between payment type and churn.\n"
     ]
    }
   ],
   "source": [
    "# Categorical use Chi2\n",
    "alpha = .5\n",
    "chi2, p, degf, expected = stats.chi2_contingency(observed)\n",
    "\n",
    "\n",
    "print('Observed\\n')\n",
    "print(observed)\n",
    "print('---------------------\\nExpected\\n')\n",
    "print(expected.astype(int))\n",
    "print('---------------------\\n')\n",
    "print(f'chi^2 = {chi2:.4f}')\n",
    "print(f'p     = {p:.4f}')\n",
    "\n",
    "if p < alpha:\n",
    "    print('''\\n Our p value is less than our alpha and we can reject the null hypothesis\n",
    "         There is a relationship between payment type and churn.''')\n",
    "else:\n",
    "    print('We cannot reject the null hypothesis')"
   ]
  },
  {
   "cell_type": "code",
   "execution_count": 23,
   "id": "649445fd",
   "metadata": {},
   "outputs": [
    {
     "data": {
      "image/png": "[encoded data removed]",
      "text/plain": [
       "<Figure size 402.375x360 with 1 Axes>"
      ]
     },
     "metadata": {
      "needs_background": "light"
     },
     "output_type": "display_data"
    }
   ],
   "source": [
    "sns.displot(train, x=\"DSL\",hue=\"churn\", multiple='stack')\n",
    "plt.title('Tenure (in months) and Churn')\n",
    "plt.show();\n"
   ]
  },
  {
   "cell_type": "markdown",
   "id": "a4781119",
   "metadata": {},
   "source": [
    "\n",
    "## Hypothesis 2: Determine if there is a relationship between Fiber Optic and churn\n",
    "\n",
    "- Alpha = .05\n",
    "\n",
    "- $H_0$ : There is no relationship between fiber optic service and churn\n",
    "\n",
    "- $H_a$ : There is a relationship between fiber optic service and churn"
   ]
  },
  {
   "cell_type": "code",
   "execution_count": 24,
   "id": "d40eff4f",
   "metadata": {},
   "outputs": [
    {
     "data": {
      "text/html": [
       "<div>\n",
       "<style scoped>\n",
       "    .dataframe tbody tr th:only-of-type {\n",
       "        vertical-align: middle;\n",
       "    }\n",
       "\n",
       "    .dataframe tbody tr th {\n",
       "        vertical-align: top;\n",
       "    }\n",
       "\n",
       "    .dataframe thead th {\n",
       "        text-align: right;\n",
       "    }\n",
       "</style>\n",
       "<table border=\"1\" class=\"dataframe\">\n",
       "  <thead>\n",
       "    <tr style=\"text-align: right;\">\n",
       "      <th>fiber_optic</th>\n",
       "      <th>0</th>\n",
       "      <th>1</th>\n",
       "    </tr>\n",
       "    <tr>\n",
       "      <th>churn</th>\n",
       "      <th></th>\n",
       "      <th></th>\n",
       "    </tr>\n",
       "  </thead>\n",
       "  <tbody>\n",
       "    <tr>\n",
       "      <th>0</th>\n",
       "      <td>1881</td>\n",
       "      <td>1016</td>\n",
       "    </tr>\n",
       "    <tr>\n",
       "      <th>1</th>\n",
       "      <td>322</td>\n",
       "      <td>724</td>\n",
       "    </tr>\n",
       "  </tbody>\n",
       "</table>\n",
       "</div>"
      ],
      "text/plain": [
       "fiber_optic     0     1\n",
       "churn                  \n",
       "0            1881  1016\n",
       "1             322   724"
      ]
     },
     "execution_count": 24,
     "metadata": {},
     "output_type": "execute_result"
    }
   ],
   "source": [
    "observed = pd.crosstab(train.churn, train.fiber_optic)\n",
    "observed"
   ]
  },
  {
   "cell_type": "code",
   "execution_count": 25,
   "id": "450daedb",
   "metadata": {},
   "outputs": [
    {
     "name": "stdout",
     "output_type": "stream",
     "text": [
      "Observed\n",
      "\n",
      "fiber_optic     0     1\n",
      "churn                  \n",
      "0            1881  1016\n",
      "1             322   724\n",
      "---------------------\n",
      "Expected\n",
      "\n",
      "[[1618 1278]\n",
      " [ 584  461]]\n",
      "---------------------\n",
      "\n",
      "chi^2 = 362.0332\n",
      "p     = 0.0000\n",
      "\n",
      " Our p value is less than our alpha and we can reject the null hypothesis\n",
      "         There is a relationship between payment type and churn.\n"
     ]
    }
   ],
   "source": [
    "# Categorical use Chi2\n",
    "alpha = .5\n",
    "chi2, p, degf, expected = stats.chi2_contingency(observed)\n",
    "\n",
    "\n",
    "print('Observed\\n')\n",
    "print(observed)\n",
    "print('---------------------\\nExpected\\n')\n",
    "print(expected.astype(int))\n",
    "print('---------------------\\n')\n",
    "print(f'chi^2 = {chi2:.4f}')\n",
    "print(f'p     = {p:.4f}')\n",
    "\n",
    "if p < alpha:\n",
    "    print('''\\n Our p value is less than our alpha and we can reject the null hypothesis\n",
    "         There is a relationship between payment type and churn.''')\n",
    "else:\n",
    "    print('We cannot reject the null hypothesis')"
   ]
  },
  {
   "cell_type": "code",
   "execution_count": 26,
   "id": "e4e4e7cb",
   "metadata": {},
   "outputs": [
    {
     "data": {
      "image/png": "[encoded data removed]",
      "text/plain": [
       "<Figure size 402.375x360 with 1 Axes>"
      ]
     },
     "metadata": {
      "needs_background": "light"
     },
     "output_type": "display_data"
    }
   ],
   "source": [
    "sns.displot(train, x=\"fiber_optic\",hue=\"churn\", multiple='stack')\n",
    "plt.title('Tenure (in months) and Churn')\n",
    "plt.show();"
   ]
  },
  {
   "cell_type": "markdown",
   "id": "5464db3b",
   "metadata": {},
   "source": [
    "## Takeaways:\n",
    "- Both DSL and fiber optic tested to have a relationship with churn\n",
    "- Through data discovery we learned DSL has a lower churn rate and lower cost to customers\n",
    "- Fiber opitc should be a continued focus point in understanding churn"
   ]
  },
  {
   "cell_type": "markdown",
   "id": "781d0a7c",
   "metadata": {},
   "source": [
    "<hr style=\"border:2px solid black\"> </hr>\n"
   ]
  },
  {
   "cell_type": "markdown",
   "id": "d2b3db15",
   "metadata": {},
   "source": [
    "## Hypothesis 3: Determine if there is a relationship between payment type and churn\n",
    "\n",
    "Alpha = .05\n",
    "\n",
    "𝐻0  : There is no relationship between payment type and churn\n",
    "\n",
    "𝐻𝑎  : There is a relationship between payment type and churn"
   ]
  },
  {
   "cell_type": "code",
   "execution_count": 27,
   "id": "dbc2c969",
   "metadata": {},
   "outputs": [
    {
     "data": {
      "text/plain": [
       "0    3977\n",
       "1    3066\n",
       "Name: payment_type, dtype: int64"
      ]
     },
     "execution_count": 27,
     "metadata": {},
     "output_type": "execute_result"
    }
   ],
   "source": [
    "#3977 represent manual payments\n",
    "#3066 represent automatic payments\n",
    "\n",
    "df.payment_type.value_counts()"
   ]
  },
  {
   "cell_type": "code",
   "execution_count": 28,
   "id": "14e52e38",
   "metadata": {},
   "outputs": [
    {
     "data": {
      "text/html": [
       "<div>\n",
       "<style scoped>\n",
       "    .dataframe tbody tr th:only-of-type {\n",
       "        vertical-align: middle;\n",
       "    }\n",
       "\n",
       "    .dataframe tbody tr th {\n",
       "        vertical-align: top;\n",
       "    }\n",
       "\n",
       "    .dataframe thead th {\n",
       "        text-align: right;\n",
       "    }\n",
       "</style>\n",
       "<table border=\"1\" class=\"dataframe\">\n",
       "  <thead>\n",
       "    <tr style=\"text-align: right;\">\n",
       "      <th>payment_type</th>\n",
       "      <th>0</th>\n",
       "      <th>1</th>\n",
       "    </tr>\n",
       "    <tr>\n",
       "      <th>churn</th>\n",
       "      <th></th>\n",
       "      <th></th>\n",
       "    </tr>\n",
       "  </thead>\n",
       "  <tbody>\n",
       "    <tr>\n",
       "      <th>0</th>\n",
       "      <td>1450</td>\n",
       "      <td>1447</td>\n",
       "    </tr>\n",
       "    <tr>\n",
       "      <th>1</th>\n",
       "      <td>762</td>\n",
       "      <td>284</td>\n",
       "    </tr>\n",
       "  </tbody>\n",
       "</table>\n",
       "</div>"
      ],
      "text/plain": [
       "payment_type     0     1\n",
       "churn                   \n",
       "0             1450  1447\n",
       "1              762   284"
      ]
     },
     "execution_count": 28,
     "metadata": {},
     "output_type": "execute_result"
    }
   ],
   "source": [
    "observed = pd.crosstab(train.churn, train.payment_type)\n",
    "observed"
   ]
  },
  {
   "cell_type": "code",
   "execution_count": 29,
   "id": "e52330d2",
   "metadata": {
    "scrolled": true
   },
   "outputs": [
    {
     "name": "stdout",
     "output_type": "stream",
     "text": [
      "Observed\n",
      "\n",
      "payment_type     0     1\n",
      "churn                   \n",
      "0             1450  1447\n",
      "1              762   284\n",
      "---------------------\n",
      "Expected\n",
      "\n",
      "[[1625 1271]\n",
      " [ 586  459]]\n",
      "---------------------\n",
      "\n",
      "chi^2 = 161.2517\n",
      "p     = 0.0000\n",
      "\n",
      " Our p value is less than our alpha and we can reject the null hypothesis\n",
      "         There is a relationship between payment type and churn.\n"
     ]
    }
   ],
   "source": [
    "# Categorical use Chi2\n",
    "alpha = .5\n",
    "chi2, p, degf, expected = stats.chi2_contingency(observed)\n",
    "\n",
    "\n",
    "print('Observed\\n')\n",
    "print(observed)\n",
    "print('---------------------\\nExpected\\n')\n",
    "print(expected.astype(int))\n",
    "print('---------------------\\n')\n",
    "print(f'chi^2 = {chi2:.4f}')\n",
    "print(f'p     = {p:.4f}')\n",
    "\n",
    "if p < alpha:\n",
    "    print('''\\n Our p value is less than our alpha and we can reject the null hypothesis\n",
    "         There is a relationship between payment type and churn.''')\n",
    "else:\n",
    "    print('We cannot reject the null hypothesis')"
   ]
  },
  {
   "cell_type": "code",
   "execution_count": 30,
   "id": "6b0aefda",
   "metadata": {},
   "outputs": [
    {
     "data": {
      "image/png": "[encoded data removed]",
      "text/plain": [
       "<Figure size 402.375x360 with 1 Axes>"
      ]
     },
     "metadata": {
      "needs_background": "light"
     },
     "output_type": "display_data"
    }
   ],
   "source": [
    "sns.displot(train, x=\"payment_type\",hue=\"churn\", multiple='stack')\n",
    "plt.title('Tenure (in months) and Churn')\n",
    "plt.show();"
   ]
  },
  {
   "cell_type": "markdown",
   "id": "1f6b3063",
   "metadata": {},
   "source": [
    "## Takeaways:\n",
    "\n",
    "- "
   ]
  },
  {
   "cell_type": "markdown",
   "id": "59331ec5",
   "metadata": {},
   "source": [
    "<hr style=\"border:2px solid black\"> </hr>\n"
   ]
  },
  {
   "cell_type": "markdown",
   "id": "ac6cb75a",
   "metadata": {},
   "source": [
    "# Model and Evaluate:"
   ]
  },
  {
   "cell_type": "code",
   "execution_count": 31,
   "id": "50a5b095",
   "metadata": {},
   "outputs": [
    {
     "data": {
      "text/plain": [
       "0    2897\n",
       "1    1046\n",
       "Name: churn, dtype: int64"
      ]
     },
     "execution_count": 31,
     "metadata": {},
     "output_type": "execute_result"
    }
   ],
   "source": [
    "# First let us get our baseline prediction\n",
    "train.churn.value_counts()"
   ]
  },
  {
   "cell_type": "code",
   "execution_count": 32,
   "id": "ba441df5",
   "metadata": {},
   "outputs": [
    {
     "name": "stdout",
     "output_type": "stream",
     "text": [
      "The baseline accuracy is: 73.47%\n"
     ]
    }
   ],
   "source": [
    "#Determine that the majority will be our baseline\n",
    "train['baseline_prediction'] = 0\n",
    "\n",
    "baseline_accuracy = (train.churn == train.baseline_prediction).mean()\n",
    "print(f'The baseline accuracy is: {baseline_accuracy:.2%}')"
   ]
  },
  {
   "cell_type": "code",
   "execution_count": 33,
   "id": "6cb695ba",
   "metadata": {},
   "outputs": [],
   "source": [
    "#Determining the features we want to make predictions from\n",
    "\n",
    "X_column = ['payment_type', 'month_to_month', 'partner', 'dependents', 'senior_citizen']\n",
    "y_column = 'churn'"
   ]
  },
  {
   "cell_type": "code",
   "execution_count": 34,
   "id": "fc576a84",
   "metadata": {},
   "outputs": [],
   "source": [
    "# Specifying our train, validate, and test for our models\n",
    "\n",
    "X_train = train[X_column]\n",
    "y_train= train[y_column]\n",
    "\n",
    "X_validate = validate[X_column]\n",
    "y_validate= validate[y_column]\n",
    "\n",
    "X_test = test[X_column]\n",
    "y_test= test[y_column]\n"
   ]
  },
  {
   "cell_type": "markdown",
   "id": "ce85a5c1",
   "metadata": {},
   "source": [
    "## Decision Tree:"
   ]
  },
  {
   "cell_type": "code",
   "execution_count": 35,
   "id": "6e9e743d",
   "metadata": {},
   "outputs": [],
   "source": [
    "#created and fitted the model\n",
    "tree_time = DecisionTreeClassifier(max_depth=10, random_state=123)\n",
    "tree_time = tree_time.fit(X_train, y_train)\n",
    "tree_time_pred = tree_time.predict(X_train)"
   ]
  },
  {
   "cell_type": "code",
   "execution_count": 36,
   "id": "8044420e",
   "metadata": {},
   "outputs": [],
   "source": [
    "#defined our parameters for precision and recall\n",
    "TP = confusion_matrix(y_train, tree_time_pred)[0][0]\n",
    "FP = confusion_matrix(y_train, tree_time_pred)[0][1]\n",
    "FN = confusion_matrix(y_train, tree_time_pred)[1][0]\n",
    "precision = TP/(TP+FP)\n",
    "recall = TP/(TP+FN)"
   ]
  },
  {
   "cell_type": "code",
   "execution_count": 37,
   "id": "3a419cc6",
   "metadata": {},
   "outputs": [
    {
     "name": "stdout",
     "output_type": "stream",
     "text": [
      "training score: 75.04%\n",
      "\n",
      "validate score: 74.57%\n",
      "\n",
      "The baseline accuracy is: 73.47%\n",
      "\n",
      "The precision is: 95.79%\n",
      "The recall is: 76.30%\n"
     ]
    }
   ],
   "source": [
    "print(f'training score: {tree_time.score(X_train, y_train):.2%}\\n')\n",
    "print(f'validate score: {tree_time.score(X_validate, y_validate):.2%}\\n')\n",
    "#print('The difference from Baseline: {:.2f}%'.format(d))\n",
    "print(f'The baseline accuracy is: {baseline_accuracy:.2%}\\n')\n",
    "\n",
    "print(f'The precision is: {precision:.2%}')\n",
    "print(f'The recall is: {recall:.2%}')\n"
   ]
  },
  {
   "cell_type": "markdown",
   "id": "78d30805",
   "metadata": {},
   "source": [
    "### Decision Tree Takeaways:\n",
    "\n",
    "- Both our training score and validate score performed better than our baseline\n",
    "- Precision at 95.8% & recall at 76.3%"
   ]
  },
  {
   "cell_type": "markdown",
   "id": "973ec680",
   "metadata": {},
   "source": [
    "<hr style=\"border:2px solid black\"> </hr>"
   ]
  },
  {
   "cell_type": "markdown",
   "id": "e97e5ca7",
   "metadata": {},
   "source": [
    "# Random Forest:"
   ]
  },
  {
   "cell_type": "code",
   "execution_count": 38,
   "id": "4b23808a",
   "metadata": {},
   "outputs": [],
   "source": [
    "# Create and fit the model\n",
    "forest_time = RandomForestClassifier(min_samples_leaf = 1, max_depth = 12, random_state= 123)\n",
    "forest_time.fit(X_train, y_train)\n",
    "forest_time_pred = forest_time.predict(X_train)"
   ]
  },
  {
   "cell_type": "code",
   "execution_count": 39,
   "id": "01b9047e",
   "metadata": {},
   "outputs": [],
   "source": [
    "#defined our parameters for precision and recall\n",
    "TP = confusion_matrix(y_train, forest_time_pred)[0][0]\n",
    "FP = confusion_matrix(y_train, forest_time_pred)[0][1]\n",
    "FN = confusion_matrix(y_train, forest_time_pred)[1][0]\n",
    "precision = TP/(TP+FP)\n",
    "recall = TP/(TP+FN)"
   ]
  },
  {
   "cell_type": "code",
   "execution_count": 40,
   "id": "5be88f46",
   "metadata": {},
   "outputs": [
    {
     "name": "stdout",
     "output_type": "stream",
     "text": [
      "training score: 75.04%\n",
      "\n",
      "validate score: 73.98%\n",
      "\n",
      "The baseline accuracy is: 73.47%\n",
      "\n",
      "The precision is: 94.62%\n",
      "The recall is: 76.80%\n"
     ]
    }
   ],
   "source": [
    "print(f'training score: {forest_time.score(X_train, y_train):.2%}\\n')\n",
    "print(f'validate score: {forest_time.score(X_validate, y_validate):.2%}\\n')\n",
    "#print('The difference from Baseline: {:.2f}%'.format(d))\n",
    "print(f'The baseline accuracy is: {baseline_accuracy:.2%}\\n')\n",
    "\n",
    "print(f'The precision is: {precision:.2%}')\n",
    "print(f'The recall is: {recall:.2%}')\n"
   ]
  },
  {
   "cell_type": "markdown",
   "id": "8009cb21",
   "metadata": {},
   "source": [
    "### Random Forest Takeaways:\n",
    "\n",
    "- Both our training score and validate score performed better than our baseline\n",
    "- Precision at 94.6% & recall at 76.8%"
   ]
  },
  {
   "cell_type": "markdown",
   "id": "f7d11b5d",
   "metadata": {},
   "source": [
    "<hr style=\"border:2px solid black\"> </hr>\n"
   ]
  },
  {
   "cell_type": "markdown",
   "id": "5615dccf",
   "metadata": {},
   "source": [
    "# Logistic Regression:\n",
    "\n",
    "- Lets compare the same features but replace payment_type (automatic and manual) with DSL and Fiber Optic\n",
    "\n",
    "- Let's see if our models are able to predict churn better using DSL or Fiber Optic"
   ]
  },
  {
   "cell_type": "code",
   "execution_count": 41,
   "id": "0acd84e5",
   "metadata": {},
   "outputs": [],
   "source": [
    "#Create a function\n",
    "\n",
    "# Separate out our X and y values\n",
    "X_train = train.drop(columns=['churn'])\n",
    "y_train = train[['churn']]\n",
    "\n",
    "X_validate = validate.drop(columns=['churn'])\n",
    "y_validate = validate[['churn']]\n",
    "\n",
    "X_test = test.drop(columns=['churn'])\n",
    "y_test = test[['churn']]"
   ]
  },
  {
   "cell_type": "code",
   "execution_count": 47,
   "id": "85be2716",
   "metadata": {},
   "outputs": [
    {
     "name": "stdout",
     "output_type": "stream",
     "text": [
      "Logistic Regression using ['DSL', 'month_to_month', 'partner', 'dependents', 'senior_citizen']\n",
      "\n",
      " The baseline accuracy is: 73.47%\n",
      "\n",
      " The Accuracy of Logistic Regression on the DSL training set is: 70.15%\n"
     ]
    }
   ],
   "source": [
    "#creating the logistic regression \n",
    "lr_model1 = LogisticRegression(random_state=123)\n",
    "\n",
    "# features\n",
    "features = ['DSL', 'month_to_month', 'partner', 'dependents', 'senior_citizen']\n",
    "\n",
    "#fitting\n",
    "lr_model1.fit(X_train[features], y_train)\n",
    "\n",
    "lr_predictions  = lr_model1.predict(X_train[features])\n",
    "DSL_pred = lr_model.score(X_train[features], y_train)\n",
    "\n",
    "print(\"Logistic Regression using\", features)\n",
    "print(f'\\n The baseline accuracy is: {baseline_accuracy:.2%}\\n')\n",
    "print(f' The Accuracy of Logistic Regression on the DSL training set is: {DSL_pred:.2%}')\n",
    "\n"
   ]
  },
  {
   "cell_type": "code",
   "execution_count": 53,
   "id": "093c40f1",
   "metadata": {},
   "outputs": [
    {
     "name": "stdout",
     "output_type": "stream",
     "text": [
      "Logistic Regression using ['fiber_optic', 'month_to_month', 'partner', 'dependents', 'senior_citizen']\n",
      "\n",
      " The baseline accuracy is: 73.47%\n",
      "\n",
      " The Accuracy of Logistic Regression on the Fiber Optic training set is: 76.29%\n"
     ]
    }
   ],
   "source": [
    "#creating the logistic regression \n",
    "lr_model2 = LogisticRegression(random_state=123)\n",
    "\n",
    "# features\n",
    "features = ['fiber_optic', 'month_to_month', 'partner', 'dependents', 'senior_citizen']\n",
    "\n",
    "#fitting\n",
    "lr_model2.fit(X_train[features], y_train)\n",
    "\n",
    "lr_predictions  = lr_model2.predict(X_train[features])\n",
    "fiber_pred = lr_model.score(X_train[features], y_train)\n",
    "\n",
    "print(\"Logistic Regression using\", features)\n",
    "print(f'\\n The baseline accuracy is: {baseline_accuracy:.2%}\\n')\n",
    "print(f' The Accuracy of Logistic Regression on the Fiber Optic training set is: {fiber_pred:.2%}')"
   ]
  },
  {
   "cell_type": "markdown",
   "id": "3708468b",
   "metadata": {},
   "source": [
    "## Logistic Regression Takeaways:\n",
    "\n",
    "- Both models performed better than our baseline\n",
    "- Fiber proved to be a better feature than DSL for our model\n",
    "- We can assume that due to a higher ratio of fiber customers churning we are able to run a better model for churn"
   ]
  },
  {
   "cell_type": "markdown",
   "id": "897c3fce",
   "metadata": {},
   "source": [
    "<hr style=\"border:2px solid black\"> </hr>\n"
   ]
  },
  {
   "cell_type": "markdown",
   "id": "2b27e7f2",
   "metadata": {},
   "source": [
    "# THE TEST!"
   ]
  },
  {
   "cell_type": "code",
   "execution_count": 61,
   "id": "bf5f4737",
   "metadata": {},
   "outputs": [
    {
     "name": "stdout",
     "output_type": "stream",
     "text": [
      "\n",
      " The baseline accuracy is: 73.47%\n",
      "\n",
      " The Accuracy of Logistic Regression on the Fiber Optic test set is:\n",
      " 76.65%\n"
     ]
    }
   ],
   "source": [
    "lr_model2.fit(X_test[features], y_test)\n",
    "fiber_test = lr_model.score(X_test[features], y_test)\n",
    "\n",
    "#print(\"Logistic Regression using\", features)\n",
    "print(f'\\n The baseline accuracy is: {baseline_accuracy:.2%}\\n')\n",
    "print(f' The Accuracy of Logistic Regression on the Fiber Optic test set is:\\n {fiber_test:.2%}')"
   ]
  },
  {
   "cell_type": "markdown",
   "id": "bf7f1cb8",
   "metadata": {},
   "source": [
    "### We ran our final model based on what preformed best of our testing set.  Our logistic regression model based under fiber was the ideal candidate and performed very slightly better then the test at 76.65% accuracy"
   ]
  },
  {
   "cell_type": "markdown",
   "id": "3800c13c",
   "metadata": {},
   "source": [
    "<hr style=\"border:2px solid black\"> </hr>\n"
   ]
  },
  {
   "cell_type": "markdown",
   "id": "8afaf15c",
   "metadata": {},
   "source": [
    "# Conclusions:\n",
    "\n",
    "- Our data exploration helped us gain a greater understanding of drivers of churn\n",
    "- We highlighted the relationship between tenure & churn further diving into DSL vs fiber options and manual vs automatic payments.\n",
    "\n",
    "\n",
    "- All four models tested above the baseline\n",
    "- All three chi^2 tests rejected the null hypothesis\n",
    "\n",
    "\n",
    "- Through our data we can provide a model giving a 76.65% accuracy for predicting churn and offered feature groups of customers that we can specifically target to help better reduce churn"
   ]
  },
  {
   "cell_type": "markdown",
   "id": "76ca1f4d",
   "metadata": {},
   "source": [
    "<hr style=\"border:2px solid black\"> </hr>\n"
   ]
  },
  {
   "cell_type": "markdown",
   "id": "ec204817",
   "metadata": {},
   "source": [
    "# Recommendations:\n",
    "\n",
    "- Offer incentives to switch customers from automatic payments to manual\n",
    "\n",
    "- Target internet seeking customers to DSL rather than fiber in aiding against attrition\n",
    "\n"
   ]
  },
  {
   "cell_type": "code",
   "execution_count": null,
   "id": "ac8cfc7c",
   "metadata": {},
   "outputs": [],
   "source": []
  },
  {
   "cell_type": "markdown",
   "id": "cfebbde1",
   "metadata": {},
   "source": [
    "# 50%, 30%, and 20%,\n",
    "\n",
    "50%, 26%, 24%"
   ]
  },
  {
   "cell_type": "code",
   "execution_count": null,
   "id": "138ad303",
   "metadata": {},
   "outputs": [],
   "source": []
  },
  {
   "cell_type": "code",
   "execution_count": null,
   "id": "20f8c450",
   "metadata": {},
   "outputs": [],
   "source": []
  },
  {
   "cell_type": "code",
   "execution_count": 50,
   "id": "251ee211",
   "metadata": {},
   "outputs": [
    {
     "ename": "ValueError",
     "evalue": "could not convert string to float: 'Yes'",
     "output_type": "error",
     "traceback": [
      "\u001b[0;31m---------------------------------------------------------------------------\u001b[0m",
      "\u001b[0;31mValueError\u001b[0m                                Traceback (most recent call last)",
      "\u001b[0;32m<ipython-input-50-bebc13ba0962>\u001b[0m in \u001b[0;36m<module>\u001b[0;34m\u001b[0m\n\u001b[1;32m      1\u001b[0m \u001b[0;31m# final_test = y_test\u001b[0m\u001b[0;34m\u001b[0m\u001b[0;34m\u001b[0m\u001b[0;34m\u001b[0m\u001b[0m\n\u001b[1;32m      2\u001b[0m \u001b[0;31m# best_predicted = lr_model.predict(X_test)\u001b[0m\u001b[0;34m\u001b[0m\u001b[0;34m\u001b[0m\u001b[0;34m\u001b[0m\u001b[0m\n\u001b[0;32m----> 3\u001b[0;31m \u001b[0mprint\u001b[0m\u001b[0;34m(\u001b[0m\u001b[0mfinal_test\u001b[0m\u001b[0;34m,\u001b[0m \u001b[0mlr_model2\u001b[0m\u001b[0;34m.\u001b[0m\u001b[0mpredict\u001b[0m\u001b[0;34m(\u001b[0m\u001b[0mX_test\u001b[0m\u001b[0;34m)\u001b[0m\u001b[0;34m)\u001b[0m\u001b[0;34m\u001b[0m\u001b[0;34m\u001b[0m\u001b[0m\n\u001b[0m",
      "\u001b[0;32m~/opt/anaconda3/lib/python3.8/site-packages/sklearn/linear_model/_base.py\u001b[0m in \u001b[0;36mpredict\u001b[0;34m(self, X)\u001b[0m\n\u001b[1;32m    307\u001b[0m             \u001b[0mPredicted\u001b[0m \u001b[0;32mclass\u001b[0m \u001b[0mlabel\u001b[0m \u001b[0mper\u001b[0m \u001b[0msample\u001b[0m\u001b[0;34m.\u001b[0m\u001b[0;34m\u001b[0m\u001b[0;34m\u001b[0m\u001b[0m\n\u001b[1;32m    308\u001b[0m         \"\"\"\n\u001b[0;32m--> 309\u001b[0;31m         \u001b[0mscores\u001b[0m \u001b[0;34m=\u001b[0m \u001b[0mself\u001b[0m\u001b[0;34m.\u001b[0m\u001b[0mdecision_function\u001b[0m\u001b[0;34m(\u001b[0m\u001b[0mX\u001b[0m\u001b[0;34m)\u001b[0m\u001b[0;34m\u001b[0m\u001b[0;34m\u001b[0m\u001b[0m\n\u001b[0m\u001b[1;32m    310\u001b[0m         \u001b[0;32mif\u001b[0m \u001b[0mlen\u001b[0m\u001b[0;34m(\u001b[0m\u001b[0mscores\u001b[0m\u001b[0;34m.\u001b[0m\u001b[0mshape\u001b[0m\u001b[0;34m)\u001b[0m \u001b[0;34m==\u001b[0m \u001b[0;36m1\u001b[0m\u001b[0;34m:\u001b[0m\u001b[0;34m\u001b[0m\u001b[0;34m\u001b[0m\u001b[0m\n\u001b[1;32m    311\u001b[0m             \u001b[0mindices\u001b[0m \u001b[0;34m=\u001b[0m \u001b[0;34m(\u001b[0m\u001b[0mscores\u001b[0m \u001b[0;34m>\u001b[0m \u001b[0;36m0\u001b[0m\u001b[0;34m)\u001b[0m\u001b[0;34m.\u001b[0m\u001b[0mastype\u001b[0m\u001b[0;34m(\u001b[0m\u001b[0mint\u001b[0m\u001b[0;34m)\u001b[0m\u001b[0;34m\u001b[0m\u001b[0;34m\u001b[0m\u001b[0m\n",
      "\u001b[0;32m~/opt/anaconda3/lib/python3.8/site-packages/sklearn/linear_model/_base.py\u001b[0m in \u001b[0;36mdecision_function\u001b[0;34m(self, X)\u001b[0m\n\u001b[1;32m    282\u001b[0m         \u001b[0mcheck_is_fitted\u001b[0m\u001b[0;34m(\u001b[0m\u001b[0mself\u001b[0m\u001b[0;34m)\u001b[0m\u001b[0;34m\u001b[0m\u001b[0;34m\u001b[0m\u001b[0m\n\u001b[1;32m    283\u001b[0m \u001b[0;34m\u001b[0m\u001b[0m\n\u001b[0;32m--> 284\u001b[0;31m         \u001b[0mX\u001b[0m \u001b[0;34m=\u001b[0m \u001b[0mcheck_array\u001b[0m\u001b[0;34m(\u001b[0m\u001b[0mX\u001b[0m\u001b[0;34m,\u001b[0m \u001b[0maccept_sparse\u001b[0m\u001b[0;34m=\u001b[0m\u001b[0;34m'csr'\u001b[0m\u001b[0;34m)\u001b[0m\u001b[0;34m\u001b[0m\u001b[0;34m\u001b[0m\u001b[0m\n\u001b[0m\u001b[1;32m    285\u001b[0m \u001b[0;34m\u001b[0m\u001b[0m\n\u001b[1;32m    286\u001b[0m         \u001b[0mn_features\u001b[0m \u001b[0;34m=\u001b[0m \u001b[0mself\u001b[0m\u001b[0;34m.\u001b[0m\u001b[0mcoef_\u001b[0m\u001b[0;34m.\u001b[0m\u001b[0mshape\u001b[0m\u001b[0;34m[\u001b[0m\u001b[0;36m1\u001b[0m\u001b[0;34m]\u001b[0m\u001b[0;34m\u001b[0m\u001b[0;34m\u001b[0m\u001b[0m\n",
      "\u001b[0;32m~/opt/anaconda3/lib/python3.8/site-packages/sklearn/utils/validation.py\u001b[0m in \u001b[0;36minner_f\u001b[0;34m(*args, **kwargs)\u001b[0m\n\u001b[1;32m     61\u001b[0m             \u001b[0mextra_args\u001b[0m \u001b[0;34m=\u001b[0m \u001b[0mlen\u001b[0m\u001b[0;34m(\u001b[0m\u001b[0margs\u001b[0m\u001b[0;34m)\u001b[0m \u001b[0;34m-\u001b[0m \u001b[0mlen\u001b[0m\u001b[0;34m(\u001b[0m\u001b[0mall_args\u001b[0m\u001b[0;34m)\u001b[0m\u001b[0;34m\u001b[0m\u001b[0;34m\u001b[0m\u001b[0m\n\u001b[1;32m     62\u001b[0m             \u001b[0;32mif\u001b[0m \u001b[0mextra_args\u001b[0m \u001b[0;34m<=\u001b[0m \u001b[0;36m0\u001b[0m\u001b[0;34m:\u001b[0m\u001b[0;34m\u001b[0m\u001b[0;34m\u001b[0m\u001b[0m\n\u001b[0;32m---> 63\u001b[0;31m                 \u001b[0;32mreturn\u001b[0m \u001b[0mf\u001b[0m\u001b[0;34m(\u001b[0m\u001b[0;34m*\u001b[0m\u001b[0margs\u001b[0m\u001b[0;34m,\u001b[0m \u001b[0;34m**\u001b[0m\u001b[0mkwargs\u001b[0m\u001b[0;34m)\u001b[0m\u001b[0;34m\u001b[0m\u001b[0;34m\u001b[0m\u001b[0m\n\u001b[0m\u001b[1;32m     64\u001b[0m \u001b[0;34m\u001b[0m\u001b[0m\n\u001b[1;32m     65\u001b[0m             \u001b[0;31m# extra_args > 0\u001b[0m\u001b[0;34m\u001b[0m\u001b[0;34m\u001b[0m\u001b[0;34m\u001b[0m\u001b[0m\n",
      "\u001b[0;32m~/opt/anaconda3/lib/python3.8/site-packages/sklearn/utils/validation.py\u001b[0m in \u001b[0;36mcheck_array\u001b[0;34m(array, accept_sparse, accept_large_sparse, dtype, order, copy, force_all_finite, ensure_2d, allow_nd, ensure_min_samples, ensure_min_features, estimator)\u001b[0m\n\u001b[1;32m    614\u001b[0m                     \u001b[0marray\u001b[0m \u001b[0;34m=\u001b[0m \u001b[0marray\u001b[0m\u001b[0;34m.\u001b[0m\u001b[0mastype\u001b[0m\u001b[0;34m(\u001b[0m\u001b[0mdtype\u001b[0m\u001b[0;34m,\u001b[0m \u001b[0mcasting\u001b[0m\u001b[0;34m=\u001b[0m\u001b[0;34m\"unsafe\"\u001b[0m\u001b[0;34m,\u001b[0m \u001b[0mcopy\u001b[0m\u001b[0;34m=\u001b[0m\u001b[0;32mFalse\u001b[0m\u001b[0;34m)\u001b[0m\u001b[0;34m\u001b[0m\u001b[0;34m\u001b[0m\u001b[0m\n\u001b[1;32m    615\u001b[0m                 \u001b[0;32melse\u001b[0m\u001b[0;34m:\u001b[0m\u001b[0;34m\u001b[0m\u001b[0;34m\u001b[0m\u001b[0m\n\u001b[0;32m--> 616\u001b[0;31m                     \u001b[0marray\u001b[0m \u001b[0;34m=\u001b[0m \u001b[0mnp\u001b[0m\u001b[0;34m.\u001b[0m\u001b[0masarray\u001b[0m\u001b[0;34m(\u001b[0m\u001b[0marray\u001b[0m\u001b[0;34m,\u001b[0m \u001b[0morder\u001b[0m\u001b[0;34m=\u001b[0m\u001b[0morder\u001b[0m\u001b[0;34m,\u001b[0m \u001b[0mdtype\u001b[0m\u001b[0;34m=\u001b[0m\u001b[0mdtype\u001b[0m\u001b[0;34m)\u001b[0m\u001b[0;34m\u001b[0m\u001b[0;34m\u001b[0m\u001b[0m\n\u001b[0m\u001b[1;32m    617\u001b[0m             \u001b[0;32mexcept\u001b[0m \u001b[0mComplexWarning\u001b[0m \u001b[0;32mas\u001b[0m \u001b[0mcomplex_warning\u001b[0m\u001b[0;34m:\u001b[0m\u001b[0;34m\u001b[0m\u001b[0;34m\u001b[0m\u001b[0m\n\u001b[1;32m    618\u001b[0m                 raise ValueError(\"Complex data not supported\\n\"\n",
      "\u001b[0;32m~/opt/anaconda3/lib/python3.8/site-packages/numpy/core/_asarray.py\u001b[0m in \u001b[0;36masarray\u001b[0;34m(a, dtype, order, like)\u001b[0m\n\u001b[1;32m    100\u001b[0m         \u001b[0;32mreturn\u001b[0m \u001b[0m_asarray_with_like\u001b[0m\u001b[0;34m(\u001b[0m\u001b[0ma\u001b[0m\u001b[0;34m,\u001b[0m \u001b[0mdtype\u001b[0m\u001b[0;34m=\u001b[0m\u001b[0mdtype\u001b[0m\u001b[0;34m,\u001b[0m \u001b[0morder\u001b[0m\u001b[0;34m=\u001b[0m\u001b[0morder\u001b[0m\u001b[0;34m,\u001b[0m \u001b[0mlike\u001b[0m\u001b[0;34m=\u001b[0m\u001b[0mlike\u001b[0m\u001b[0;34m)\u001b[0m\u001b[0;34m\u001b[0m\u001b[0;34m\u001b[0m\u001b[0m\n\u001b[1;32m    101\u001b[0m \u001b[0;34m\u001b[0m\u001b[0m\n\u001b[0;32m--> 102\u001b[0;31m     \u001b[0;32mreturn\u001b[0m \u001b[0marray\u001b[0m\u001b[0;34m(\u001b[0m\u001b[0ma\u001b[0m\u001b[0;34m,\u001b[0m \u001b[0mdtype\u001b[0m\u001b[0;34m,\u001b[0m \u001b[0mcopy\u001b[0m\u001b[0;34m=\u001b[0m\u001b[0;32mFalse\u001b[0m\u001b[0;34m,\u001b[0m \u001b[0morder\u001b[0m\u001b[0;34m=\u001b[0m\u001b[0morder\u001b[0m\u001b[0;34m)\u001b[0m\u001b[0;34m\u001b[0m\u001b[0;34m\u001b[0m\u001b[0m\n\u001b[0m\u001b[1;32m    103\u001b[0m \u001b[0;34m\u001b[0m\u001b[0m\n\u001b[1;32m    104\u001b[0m \u001b[0;34m\u001b[0m\u001b[0m\n",
      "\u001b[0;32m~/opt/anaconda3/lib/python3.8/site-packages/pandas/core/generic.py\u001b[0m in \u001b[0;36m__array__\u001b[0;34m(self, dtype)\u001b[0m\n\u001b[1;32m   1991\u001b[0m \u001b[0;34m\u001b[0m\u001b[0m\n\u001b[1;32m   1992\u001b[0m     \u001b[0;32mdef\u001b[0m \u001b[0m__array__\u001b[0m\u001b[0;34m(\u001b[0m\u001b[0mself\u001b[0m\u001b[0;34m,\u001b[0m \u001b[0mdtype\u001b[0m\u001b[0;34m:\u001b[0m \u001b[0mNpDtype\u001b[0m \u001b[0;34m|\u001b[0m \u001b[0;32mNone\u001b[0m \u001b[0;34m=\u001b[0m \u001b[0;32mNone\u001b[0m\u001b[0;34m)\u001b[0m \u001b[0;34m->\u001b[0m \u001b[0mnp\u001b[0m\u001b[0;34m.\u001b[0m\u001b[0mndarray\u001b[0m\u001b[0;34m:\u001b[0m\u001b[0;34m\u001b[0m\u001b[0;34m\u001b[0m\u001b[0m\n\u001b[0;32m-> 1993\u001b[0;31m         \u001b[0;32mreturn\u001b[0m \u001b[0mnp\u001b[0m\u001b[0;34m.\u001b[0m\u001b[0masarray\u001b[0m\u001b[0;34m(\u001b[0m\u001b[0mself\u001b[0m\u001b[0;34m.\u001b[0m\u001b[0m_values\u001b[0m\u001b[0;34m,\u001b[0m \u001b[0mdtype\u001b[0m\u001b[0;34m=\u001b[0m\u001b[0mdtype\u001b[0m\u001b[0;34m)\u001b[0m\u001b[0;34m\u001b[0m\u001b[0;34m\u001b[0m\u001b[0m\n\u001b[0m\u001b[1;32m   1994\u001b[0m \u001b[0;34m\u001b[0m\u001b[0m\n\u001b[1;32m   1995\u001b[0m     def __array_wrap__(\n",
      "\u001b[0;32m~/opt/anaconda3/lib/python3.8/site-packages/numpy/core/_asarray.py\u001b[0m in \u001b[0;36masarray\u001b[0;34m(a, dtype, order, like)\u001b[0m\n\u001b[1;32m    100\u001b[0m         \u001b[0;32mreturn\u001b[0m \u001b[0m_asarray_with_like\u001b[0m\u001b[0;34m(\u001b[0m\u001b[0ma\u001b[0m\u001b[0;34m,\u001b[0m \u001b[0mdtype\u001b[0m\u001b[0;34m=\u001b[0m\u001b[0mdtype\u001b[0m\u001b[0;34m,\u001b[0m \u001b[0morder\u001b[0m\u001b[0;34m=\u001b[0m\u001b[0morder\u001b[0m\u001b[0;34m,\u001b[0m \u001b[0mlike\u001b[0m\u001b[0;34m=\u001b[0m\u001b[0mlike\u001b[0m\u001b[0;34m)\u001b[0m\u001b[0;34m\u001b[0m\u001b[0;34m\u001b[0m\u001b[0m\n\u001b[1;32m    101\u001b[0m \u001b[0;34m\u001b[0m\u001b[0m\n\u001b[0;32m--> 102\u001b[0;31m     \u001b[0;32mreturn\u001b[0m \u001b[0marray\u001b[0m\u001b[0;34m(\u001b[0m\u001b[0ma\u001b[0m\u001b[0;34m,\u001b[0m \u001b[0mdtype\u001b[0m\u001b[0;34m,\u001b[0m \u001b[0mcopy\u001b[0m\u001b[0;34m=\u001b[0m\u001b[0;32mFalse\u001b[0m\u001b[0;34m,\u001b[0m \u001b[0morder\u001b[0m\u001b[0;34m=\u001b[0m\u001b[0morder\u001b[0m\u001b[0;34m)\u001b[0m\u001b[0;34m\u001b[0m\u001b[0;34m\u001b[0m\u001b[0m\n\u001b[0m\u001b[1;32m    103\u001b[0m \u001b[0;34m\u001b[0m\u001b[0m\n\u001b[1;32m    104\u001b[0m \u001b[0;34m\u001b[0m\u001b[0m\n",
      "\u001b[0;31mValueError\u001b[0m: could not convert string to float: 'Yes'"
     ]
    }
   ],
   "source": [
    "# final_test = y_test\n",
    "# best_predicted = lr_model.predict(X_test)\n",
    "print(final_test, lr_model2.predict(X_test))"
   ]
  },
  {
   "cell_type": "code",
   "execution_count": 46,
   "id": "bda8472a",
   "metadata": {},
   "outputs": [
    {
     "ename": "ValueError",
     "evalue": "could not convert string to float: 'Yes'",
     "output_type": "error",
     "traceback": [
      "\u001b[0;31m---------------------------------------------------------------------------\u001b[0m",
      "\u001b[0;31mValueError\u001b[0m                                Traceback (most recent call last)",
      "\u001b[0;32m<ipython-input-46-6f3ea683afe8>\u001b[0m in \u001b[0;36m<module>\u001b[0;34m\u001b[0m\n\u001b[1;32m      1\u001b[0m \u001b[0mactual_test\u001b[0m \u001b[0;34m=\u001b[0m \u001b[0my_test\u001b[0m\u001b[0;34m\u001b[0m\u001b[0;34m\u001b[0m\u001b[0m\n\u001b[0;32m----> 2\u001b[0;31m \u001b[0mpredicted_test\u001b[0m \u001b[0;34m=\u001b[0m \u001b[0mtree_time\u001b[0m\u001b[0;34m.\u001b[0m\u001b[0mpredict\u001b[0m\u001b[0;34m(\u001b[0m\u001b[0mX_test\u001b[0m\u001b[0;34m)\u001b[0m\u001b[0;34m\u001b[0m\u001b[0;34m\u001b[0m\u001b[0m\n\u001b[0m\u001b[1;32m      3\u001b[0m \u001b[0mprint\u001b[0m\u001b[0;34m(\u001b[0m\u001b[0mclassification_report\u001b[0m\u001b[0;34m(\u001b[0m\u001b[0mactual_test\u001b[0m\u001b[0;34m,\u001b[0m \u001b[0mpredicted_test\u001b[0m\u001b[0;34m)\u001b[0m\u001b[0;34m)\u001b[0m\u001b[0;34m\u001b[0m\u001b[0;34m\u001b[0m\u001b[0m\n",
      "\u001b[0;32m~/opt/anaconda3/lib/python3.8/site-packages/sklearn/tree/_classes.py\u001b[0m in \u001b[0;36mpredict\u001b[0;34m(self, X, check_input)\u001b[0m\n\u001b[1;32m    435\u001b[0m         \"\"\"\n\u001b[1;32m    436\u001b[0m         \u001b[0mcheck_is_fitted\u001b[0m\u001b[0;34m(\u001b[0m\u001b[0mself\u001b[0m\u001b[0;34m)\u001b[0m\u001b[0;34m\u001b[0m\u001b[0;34m\u001b[0m\u001b[0m\n\u001b[0;32m--> 437\u001b[0;31m         \u001b[0mX\u001b[0m \u001b[0;34m=\u001b[0m \u001b[0mself\u001b[0m\u001b[0;34m.\u001b[0m\u001b[0m_validate_X_predict\u001b[0m\u001b[0;34m(\u001b[0m\u001b[0mX\u001b[0m\u001b[0;34m,\u001b[0m \u001b[0mcheck_input\u001b[0m\u001b[0;34m)\u001b[0m\u001b[0;34m\u001b[0m\u001b[0;34m\u001b[0m\u001b[0m\n\u001b[0m\u001b[1;32m    438\u001b[0m         \u001b[0mproba\u001b[0m \u001b[0;34m=\u001b[0m \u001b[0mself\u001b[0m\u001b[0;34m.\u001b[0m\u001b[0mtree_\u001b[0m\u001b[0;34m.\u001b[0m\u001b[0mpredict\u001b[0m\u001b[0;34m(\u001b[0m\u001b[0mX\u001b[0m\u001b[0;34m)\u001b[0m\u001b[0;34m\u001b[0m\u001b[0;34m\u001b[0m\u001b[0m\n\u001b[1;32m    439\u001b[0m         \u001b[0mn_samples\u001b[0m \u001b[0;34m=\u001b[0m \u001b[0mX\u001b[0m\u001b[0;34m.\u001b[0m\u001b[0mshape\u001b[0m\u001b[0;34m[\u001b[0m\u001b[0;36m0\u001b[0m\u001b[0;34m]\u001b[0m\u001b[0;34m\u001b[0m\u001b[0;34m\u001b[0m\u001b[0m\n",
      "\u001b[0;32m~/opt/anaconda3/lib/python3.8/site-packages/sklearn/tree/_classes.py\u001b[0m in \u001b[0;36m_validate_X_predict\u001b[0;34m(self, X, check_input)\u001b[0m\n\u001b[1;32m    400\u001b[0m         \u001b[0;34m\"\"\"Validate the training data on predict (probabilities).\"\"\"\u001b[0m\u001b[0;34m\u001b[0m\u001b[0;34m\u001b[0m\u001b[0m\n\u001b[1;32m    401\u001b[0m         \u001b[0;32mif\u001b[0m \u001b[0mcheck_input\u001b[0m\u001b[0;34m:\u001b[0m\u001b[0;34m\u001b[0m\u001b[0;34m\u001b[0m\u001b[0m\n\u001b[0;32m--> 402\u001b[0;31m             X = self._validate_data(X, dtype=DTYPE, accept_sparse=\"csr\",\n\u001b[0m\u001b[1;32m    403\u001b[0m                                     reset=False)\n\u001b[1;32m    404\u001b[0m             if issparse(X) and (X.indices.dtype != np.intc or\n",
      "\u001b[0;32m~/opt/anaconda3/lib/python3.8/site-packages/sklearn/base.py\u001b[0m in \u001b[0;36m_validate_data\u001b[0;34m(self, X, y, reset, validate_separately, **check_params)\u001b[0m\n\u001b[1;32m    419\u001b[0m             \u001b[0mout\u001b[0m \u001b[0;34m=\u001b[0m \u001b[0mX\u001b[0m\u001b[0;34m\u001b[0m\u001b[0;34m\u001b[0m\u001b[0m\n\u001b[1;32m    420\u001b[0m         \u001b[0;32melif\u001b[0m \u001b[0misinstance\u001b[0m\u001b[0;34m(\u001b[0m\u001b[0my\u001b[0m\u001b[0;34m,\u001b[0m \u001b[0mstr\u001b[0m\u001b[0;34m)\u001b[0m \u001b[0;32mand\u001b[0m \u001b[0my\u001b[0m \u001b[0;34m==\u001b[0m \u001b[0;34m'no_validation'\u001b[0m\u001b[0;34m:\u001b[0m\u001b[0;34m\u001b[0m\u001b[0;34m\u001b[0m\u001b[0m\n\u001b[0;32m--> 421\u001b[0;31m             \u001b[0mX\u001b[0m \u001b[0;34m=\u001b[0m \u001b[0mcheck_array\u001b[0m\u001b[0;34m(\u001b[0m\u001b[0mX\u001b[0m\u001b[0;34m,\u001b[0m \u001b[0;34m**\u001b[0m\u001b[0mcheck_params\u001b[0m\u001b[0;34m)\u001b[0m\u001b[0;34m\u001b[0m\u001b[0;34m\u001b[0m\u001b[0m\n\u001b[0m\u001b[1;32m    422\u001b[0m             \u001b[0mout\u001b[0m \u001b[0;34m=\u001b[0m \u001b[0mX\u001b[0m\u001b[0;34m\u001b[0m\u001b[0;34m\u001b[0m\u001b[0m\n\u001b[1;32m    423\u001b[0m         \u001b[0;32melse\u001b[0m\u001b[0;34m:\u001b[0m\u001b[0;34m\u001b[0m\u001b[0;34m\u001b[0m\u001b[0m\n",
      "\u001b[0;32m~/opt/anaconda3/lib/python3.8/site-packages/sklearn/utils/validation.py\u001b[0m in \u001b[0;36minner_f\u001b[0;34m(*args, **kwargs)\u001b[0m\n\u001b[1;32m     61\u001b[0m             \u001b[0mextra_args\u001b[0m \u001b[0;34m=\u001b[0m \u001b[0mlen\u001b[0m\u001b[0;34m(\u001b[0m\u001b[0margs\u001b[0m\u001b[0;34m)\u001b[0m \u001b[0;34m-\u001b[0m \u001b[0mlen\u001b[0m\u001b[0;34m(\u001b[0m\u001b[0mall_args\u001b[0m\u001b[0;34m)\u001b[0m\u001b[0;34m\u001b[0m\u001b[0;34m\u001b[0m\u001b[0m\n\u001b[1;32m     62\u001b[0m             \u001b[0;32mif\u001b[0m \u001b[0mextra_args\u001b[0m \u001b[0;34m<=\u001b[0m \u001b[0;36m0\u001b[0m\u001b[0;34m:\u001b[0m\u001b[0;34m\u001b[0m\u001b[0;34m\u001b[0m\u001b[0m\n\u001b[0;32m---> 63\u001b[0;31m                 \u001b[0;32mreturn\u001b[0m \u001b[0mf\u001b[0m\u001b[0;34m(\u001b[0m\u001b[0;34m*\u001b[0m\u001b[0margs\u001b[0m\u001b[0;34m,\u001b[0m \u001b[0;34m**\u001b[0m\u001b[0mkwargs\u001b[0m\u001b[0;34m)\u001b[0m\u001b[0;34m\u001b[0m\u001b[0;34m\u001b[0m\u001b[0m\n\u001b[0m\u001b[1;32m     64\u001b[0m \u001b[0;34m\u001b[0m\u001b[0m\n\u001b[1;32m     65\u001b[0m             \u001b[0;31m# extra_args > 0\u001b[0m\u001b[0;34m\u001b[0m\u001b[0;34m\u001b[0m\u001b[0;34m\u001b[0m\u001b[0m\n",
      "\u001b[0;32m~/opt/anaconda3/lib/python3.8/site-packages/sklearn/utils/validation.py\u001b[0m in \u001b[0;36mcheck_array\u001b[0;34m(array, accept_sparse, accept_large_sparse, dtype, order, copy, force_all_finite, ensure_2d, allow_nd, ensure_min_samples, ensure_min_features, estimator)\u001b[0m\n\u001b[1;32m    614\u001b[0m                     \u001b[0marray\u001b[0m \u001b[0;34m=\u001b[0m \u001b[0marray\u001b[0m\u001b[0;34m.\u001b[0m\u001b[0mastype\u001b[0m\u001b[0;34m(\u001b[0m\u001b[0mdtype\u001b[0m\u001b[0;34m,\u001b[0m \u001b[0mcasting\u001b[0m\u001b[0;34m=\u001b[0m\u001b[0;34m\"unsafe\"\u001b[0m\u001b[0;34m,\u001b[0m \u001b[0mcopy\u001b[0m\u001b[0;34m=\u001b[0m\u001b[0;32mFalse\u001b[0m\u001b[0;34m)\u001b[0m\u001b[0;34m\u001b[0m\u001b[0;34m\u001b[0m\u001b[0m\n\u001b[1;32m    615\u001b[0m                 \u001b[0;32melse\u001b[0m\u001b[0;34m:\u001b[0m\u001b[0;34m\u001b[0m\u001b[0;34m\u001b[0m\u001b[0m\n\u001b[0;32m--> 616\u001b[0;31m                     \u001b[0marray\u001b[0m \u001b[0;34m=\u001b[0m \u001b[0mnp\u001b[0m\u001b[0;34m.\u001b[0m\u001b[0masarray\u001b[0m\u001b[0;34m(\u001b[0m\u001b[0marray\u001b[0m\u001b[0;34m,\u001b[0m \u001b[0morder\u001b[0m\u001b[0;34m=\u001b[0m\u001b[0morder\u001b[0m\u001b[0;34m,\u001b[0m \u001b[0mdtype\u001b[0m\u001b[0;34m=\u001b[0m\u001b[0mdtype\u001b[0m\u001b[0;34m)\u001b[0m\u001b[0;34m\u001b[0m\u001b[0;34m\u001b[0m\u001b[0m\n\u001b[0m\u001b[1;32m    617\u001b[0m             \u001b[0;32mexcept\u001b[0m \u001b[0mComplexWarning\u001b[0m \u001b[0;32mas\u001b[0m \u001b[0mcomplex_warning\u001b[0m\u001b[0;34m:\u001b[0m\u001b[0;34m\u001b[0m\u001b[0;34m\u001b[0m\u001b[0m\n\u001b[1;32m    618\u001b[0m                 raise ValueError(\"Complex data not supported\\n\"\n",
      "\u001b[0;32m~/opt/anaconda3/lib/python3.8/site-packages/numpy/core/_asarray.py\u001b[0m in \u001b[0;36masarray\u001b[0;34m(a, dtype, order, like)\u001b[0m\n\u001b[1;32m    100\u001b[0m         \u001b[0;32mreturn\u001b[0m \u001b[0m_asarray_with_like\u001b[0m\u001b[0;34m(\u001b[0m\u001b[0ma\u001b[0m\u001b[0;34m,\u001b[0m \u001b[0mdtype\u001b[0m\u001b[0;34m=\u001b[0m\u001b[0mdtype\u001b[0m\u001b[0;34m,\u001b[0m \u001b[0morder\u001b[0m\u001b[0;34m=\u001b[0m\u001b[0morder\u001b[0m\u001b[0;34m,\u001b[0m \u001b[0mlike\u001b[0m\u001b[0;34m=\u001b[0m\u001b[0mlike\u001b[0m\u001b[0;34m)\u001b[0m\u001b[0;34m\u001b[0m\u001b[0;34m\u001b[0m\u001b[0m\n\u001b[1;32m    101\u001b[0m \u001b[0;34m\u001b[0m\u001b[0m\n\u001b[0;32m--> 102\u001b[0;31m     \u001b[0;32mreturn\u001b[0m \u001b[0marray\u001b[0m\u001b[0;34m(\u001b[0m\u001b[0ma\u001b[0m\u001b[0;34m,\u001b[0m \u001b[0mdtype\u001b[0m\u001b[0;34m,\u001b[0m \u001b[0mcopy\u001b[0m\u001b[0;34m=\u001b[0m\u001b[0;32mFalse\u001b[0m\u001b[0;34m,\u001b[0m \u001b[0morder\u001b[0m\u001b[0;34m=\u001b[0m\u001b[0morder\u001b[0m\u001b[0;34m)\u001b[0m\u001b[0;34m\u001b[0m\u001b[0;34m\u001b[0m\u001b[0m\n\u001b[0m\u001b[1;32m    103\u001b[0m \u001b[0;34m\u001b[0m\u001b[0m\n\u001b[1;32m    104\u001b[0m \u001b[0;34m\u001b[0m\u001b[0m\n",
      "\u001b[0;32m~/opt/anaconda3/lib/python3.8/site-packages/pandas/core/generic.py\u001b[0m in \u001b[0;36m__array__\u001b[0;34m(self, dtype)\u001b[0m\n\u001b[1;32m   1991\u001b[0m \u001b[0;34m\u001b[0m\u001b[0m\n\u001b[1;32m   1992\u001b[0m     \u001b[0;32mdef\u001b[0m \u001b[0m__array__\u001b[0m\u001b[0;34m(\u001b[0m\u001b[0mself\u001b[0m\u001b[0;34m,\u001b[0m \u001b[0mdtype\u001b[0m\u001b[0;34m:\u001b[0m \u001b[0mNpDtype\u001b[0m \u001b[0;34m|\u001b[0m \u001b[0;32mNone\u001b[0m \u001b[0;34m=\u001b[0m \u001b[0;32mNone\u001b[0m\u001b[0;34m)\u001b[0m \u001b[0;34m->\u001b[0m \u001b[0mnp\u001b[0m\u001b[0;34m.\u001b[0m\u001b[0mndarray\u001b[0m\u001b[0;34m:\u001b[0m\u001b[0;34m\u001b[0m\u001b[0;34m\u001b[0m\u001b[0m\n\u001b[0;32m-> 1993\u001b[0;31m         \u001b[0;32mreturn\u001b[0m \u001b[0mnp\u001b[0m\u001b[0;34m.\u001b[0m\u001b[0masarray\u001b[0m\u001b[0;34m(\u001b[0m\u001b[0mself\u001b[0m\u001b[0;34m.\u001b[0m\u001b[0m_values\u001b[0m\u001b[0;34m,\u001b[0m \u001b[0mdtype\u001b[0m\u001b[0;34m=\u001b[0m\u001b[0mdtype\u001b[0m\u001b[0;34m)\u001b[0m\u001b[0;34m\u001b[0m\u001b[0;34m\u001b[0m\u001b[0m\n\u001b[0m\u001b[1;32m   1994\u001b[0m \u001b[0;34m\u001b[0m\u001b[0m\n\u001b[1;32m   1995\u001b[0m     def __array_wrap__(\n",
      "\u001b[0;32m~/opt/anaconda3/lib/python3.8/site-packages/numpy/core/_asarray.py\u001b[0m in \u001b[0;36masarray\u001b[0;34m(a, dtype, order, like)\u001b[0m\n\u001b[1;32m    100\u001b[0m         \u001b[0;32mreturn\u001b[0m \u001b[0m_asarray_with_like\u001b[0m\u001b[0;34m(\u001b[0m\u001b[0ma\u001b[0m\u001b[0;34m,\u001b[0m \u001b[0mdtype\u001b[0m\u001b[0;34m=\u001b[0m\u001b[0mdtype\u001b[0m\u001b[0;34m,\u001b[0m \u001b[0morder\u001b[0m\u001b[0;34m=\u001b[0m\u001b[0morder\u001b[0m\u001b[0;34m,\u001b[0m \u001b[0mlike\u001b[0m\u001b[0;34m=\u001b[0m\u001b[0mlike\u001b[0m\u001b[0;34m)\u001b[0m\u001b[0;34m\u001b[0m\u001b[0;34m\u001b[0m\u001b[0m\n\u001b[1;32m    101\u001b[0m \u001b[0;34m\u001b[0m\u001b[0m\n\u001b[0;32m--> 102\u001b[0;31m     \u001b[0;32mreturn\u001b[0m \u001b[0marray\u001b[0m\u001b[0;34m(\u001b[0m\u001b[0ma\u001b[0m\u001b[0;34m,\u001b[0m \u001b[0mdtype\u001b[0m\u001b[0;34m,\u001b[0m \u001b[0mcopy\u001b[0m\u001b[0;34m=\u001b[0m\u001b[0;32mFalse\u001b[0m\u001b[0;34m,\u001b[0m \u001b[0morder\u001b[0m\u001b[0;34m=\u001b[0m\u001b[0morder\u001b[0m\u001b[0;34m)\u001b[0m\u001b[0;34m\u001b[0m\u001b[0;34m\u001b[0m\u001b[0m\n\u001b[0m\u001b[1;32m    103\u001b[0m \u001b[0;34m\u001b[0m\u001b[0m\n\u001b[1;32m    104\u001b[0m \u001b[0;34m\u001b[0m\u001b[0m\n",
      "\u001b[0;31mValueError\u001b[0m: could not convert string to float: 'Yes'"
     ]
    }
   ],
   "source": [
    "actual_test = y_test\n",
    "predicted_test = tree_time.predict(X_test)\n",
    "print(classification_report(actual_test, predicted_test))"
   ]
  },
  {
   "cell_type": "code",
   "execution_count": null,
   "id": "12b8c510",
   "metadata": {},
   "outputs": [],
   "source": []
  },
  {
   "cell_type": "code",
   "execution_count": null,
   "id": "3f5ae2fa",
   "metadata": {},
   "outputs": [],
   "source": []
  },
  {
   "cell_type": "code",
   "execution_count": null,
   "id": "d35f3cf3",
   "metadata": {},
   "outputs": [],
   "source": []
  },
  {
   "cell_type": "code",
   "execution_count": null,
   "id": "2125c0c4",
   "metadata": {},
   "outputs": [],
   "source": []
  },
  {
   "cell_type": "code",
   "execution_count": null,
   "id": "3eb9991b",
   "metadata": {},
   "outputs": [],
   "source": []
  },
  {
   "cell_type": "code",
   "execution_count": null,
   "id": "dc82489a",
   "metadata": {},
   "outputs": [],
   "source": []
  },
  {
   "cell_type": "code",
   "execution_count": null,
   "id": "43b1f463",
   "metadata": {},
   "outputs": [],
   "source": []
  },
  {
   "cell_type": "code",
   "execution_count": null,
   "id": "d22c80ce",
   "metadata": {},
   "outputs": [],
   "source": []
  },
  {
   "cell_type": "code",
   "execution_count": null,
   "id": "0179a8cd",
   "metadata": {},
   "outputs": [],
   "source": []
  },
  {
   "cell_type": "code",
   "execution_count": null,
   "id": "01e4a2c7",
   "metadata": {},
   "outputs": [],
   "source": [
    "#creating the logistic regression \n",
    "lr_model = LogisticRegression(random_state=123)\n",
    "\n",
    "# features\n",
    "features = ['DSL', 'month_to_month', 'partner', 'dependents']\n",
    "\n",
    "lr_model.fit(X_train[features], y_train)\n",
    "\n",
    "lr_predictions  = lr_model.predict(X_train[features])\n",
    "\n",
    "print(\"Logistic Regression using\", features)\n",
    "print(f'\\n The baseline accuracy is: {baseline_accuracy:.2%}')\n",
    "\n",
    "print('\\n Accuracy of Logistic Regression classifier on training set: {:.2f}'.\n",
    "     format(lr_model.score(X_train[features], y_train)))"
   ]
  },
  {
   "cell_type": "code",
   "execution_count": null,
   "id": "b69c558d",
   "metadata": {},
   "outputs": [],
   "source": []
  },
  {
   "cell_type": "code",
   "execution_count": null,
   "id": "a567cd71",
   "metadata": {},
   "outputs": [],
   "source": [
    "TP = confusion_matrix(y_train, random_forest_predictions)[0][0]\n",
    "FP = confusion_matrix(y_train, random_forest_predictions)[0][1]\n",
    "FN = confusion_matrix(y_train, random_forest_predictions)[1][0]\n",
    "precision = TP/(TP+FP)\n",
    "recall = TP/(TP+FN)\n",
    "\n",
    "print(precision)"
   ]
  },
  {
   "cell_type": "code",
   "execution_count": null,
   "id": "bd3d4c9c",
   "metadata": {},
   "outputs": [],
   "source": []
  },
  {
   "cell_type": "code",
   "execution_count": null,
   "id": "e86ae9b3",
   "metadata": {},
   "outputs": [],
   "source": [
    "# Making things easy to read:\n",
    "print('Accuracy of Datasets on Random Forest Model:\\nRandom Forest on Training: {:.2f}%'\n",
    "      .format((random_forest_model.score(X_train, y_train)*100)))\n",
    "print('Random Forest on Validate: {:.2f}%'\n",
    "      .format((random_forest_model.score(X_validate, y_validate)*100)))\n",
    "print('Percent Difference from Baseline: {:.2f}%'\n",
    "      .format((random_forest_model.score(X_train, y_train) - baseline_accuracy)*100))\n",
    "print(\"\\nRandom Forest Recall:\", round(recall*100, 2) , \"%\")\n",
    "print(\"Random Forest Precision:\", round(precision*100, 2) , \"%\")"
   ]
  },
  {
   "cell_type": "code",
   "execution_count": null,
   "id": "5b9733d9",
   "metadata": {},
   "outputs": [],
   "source": []
  },
  {
   "cell_type": "code",
   "execution_count": null,
   "id": "deb614d8",
   "metadata": {},
   "outputs": [],
   "source": []
  },
  {
   "cell_type": "code",
   "execution_count": null,
   "id": "e6255b60",
   "metadata": {},
   "outputs": [],
   "source": []
  },
  {
   "cell_type": "code",
   "execution_count": null,
   "id": "7621998c",
   "metadata": {
    "scrolled": true
   },
   "outputs": [],
   "source": []
  },
  {
   "cell_type": "code",
   "execution_count": null,
   "id": "c923a23e",
   "metadata": {},
   "outputs": [],
   "source": [
    "X_train = train.drop(columns=[\"churn\"])\n",
    "y_train = train.churn\n",
    "\n",
    "X_validate = validate.drop(columns=[\"churn\"])\n",
    "y_validate = validate.churn\n",
    "\n",
    "X_test = test.drop(columns=[\"churn\"])\n",
    "y_test = test.churn\n"
   ]
  },
  {
   "cell_type": "code",
   "execution_count": null,
   "id": "451044ab",
   "metadata": {},
   "outputs": [],
   "source": [
    "# X_test = test.drop(columns = ['churn'])\n",
    "# y_test = test.churn"
   ]
  },
  {
   "cell_type": "code",
   "execution_count": null,
   "id": "c0432afb",
   "metadata": {},
   "outputs": [],
   "source": []
  },
  {
   "cell_type": "code",
   "execution_count": null,
   "id": "9200331d",
   "metadata": {
    "scrolled": true
   },
   "outputs": [],
   "source": [
    "X_train, y_train = train[X_cols], train[y_col]\n",
    "X_validate, y_validate = validate[X_cols], validate[y_col]\n",
    "X_test, y_test = test[X_cols], test[y_col]\n",
    "    \n",
    "X_train, y_train, X_validate, y_validate, X_test, y_test"
   ]
  },
  {
   "cell_type": "code",
   "execution_count": null,
   "id": "83c1de39",
   "metadata": {},
   "outputs": [],
   "source": []
  },
  {
   "cell_type": "code",
   "execution_count": null,
   "id": "5070715c",
   "metadata": {},
   "outputs": [],
   "source": [
    "#Create a function\n",
    "\n",
    "# Separate out our X and y values\n",
    "X_train = train.drop(columns=['churn'])\n",
    "y_train = train[['churn']]\n",
    "\n",
    "X_validate = validate.drop(columns=['churn'])\n",
    "y_validate = validate[['churn']]\n",
    "\n",
    "X_test = test.drop(columns=['churn'])\n",
    "y_test = test[['churn']]"
   ]
  },
  {
   "cell_type": "code",
   "execution_count": null,
   "id": "19d19742",
   "metadata": {},
   "outputs": [],
   "source": [
    "train.columns"
   ]
  },
  {
   "cell_type": "code",
   "execution_count": null,
   "id": "38292552",
   "metadata": {},
   "outputs": [],
   "source": [
    "train.DSL"
   ]
  },
  {
   "cell_type": "code",
   "execution_count": null,
   "id": "de85aa83",
   "metadata": {},
   "outputs": [],
   "source": [
    "#creating the logistic regression \n",
    "lr_model = LogisticRegression(random_state=123)\n",
    "\n",
    "# features\n",
    "features = ['DSL','month_to_month', 'partner', 'dependents']\n",
    "\n",
    "lr_model.fit(X_train[features], y_train)\n",
    "\n",
    "lr_predictions  = lr_model.predict(X_train[features])\n",
    "\n",
    "print(\"Logistic Regression using\", features)\n",
    "print(f'\\n The baseline accuracy is: {baseline_accuracy:.2%}')\n",
    "\n",
    "print('\\n Accuracy of Logistic Regression classifier on training set: {:.2f}'.\n",
    "     format(lr_model.score(X_train[features], y_train)))\n",
    "\n",
    "#print(f'training score: {logit.score(X_train, y_train):.2%}')\n",
    "#print(f'validate score: {logit.score(X_validate, y_validate):.2%}')"
   ]
  },
  {
   "cell_type": "code",
   "execution_count": null,
   "id": "86160c91",
   "metadata": {},
   "outputs": [],
   "source": [
    "#creating the logistic regression \n",
    "lr_model = LogisticRegression(random_state=123)\n",
    "\n",
    "# features\n",
    "features = ['fiber_optic', 'month_to_month', 'partner', 'dependents']\n",
    "\n",
    "lr_model.fit(X_train[features], y_train)\n",
    "\n",
    "lr_predictions  = lr_model.predict(X_train[features])\n",
    "\n",
    "print(\"Logistic Regression using\", features)\n",
    "print(f'\\n The baseline accuracy is: {baseline_accuracy:.2%}')\n",
    "print('\\n Accuracy of Logistic Regression classifier on training set: {:.2f}'.\n",
    "     format(lr_model.score(X_train[features], y_train)))"
   ]
  },
  {
   "cell_type": "markdown",
   "id": "94f4f649",
   "metadata": {},
   "source": []
  },
  {
   "cell_type": "code",
   "execution_count": null,
   "id": "37d65c54",
   "metadata": {
    "scrolled": true
   },
   "outputs": [],
   "source": [
    "plt.figure(figsize = (22, 8))\n",
    "sns.countplot(df.tenure.groupby(manual_payment), palette=(\"crest\"))\n",
    "plt.title('Customer Tenure by Months of Service', fontsize= 20)\n",
    "plt.xlabel('Tenure in Months', fontsize= 20)\n",
    "plt.xticks(fontsize = 10)\n",
    "plt.ylabel('Customer Count', fontsize = 20)\n",
    "plt.show()"
   ]
  },
  {
   "cell_type": "code",
   "execution_count": null,
   "id": "68ae9724",
   "metadata": {},
   "outputs": [],
   "source": []
  },
  {
   "cell_type": "code",
   "execution_count": null,
   "id": "158cc048",
   "metadata": {},
   "outputs": [],
   "source": []
  },
  {
   "cell_type": "code",
   "execution_count": null,
   "id": "4428db10",
   "metadata": {},
   "outputs": [],
   "source": [
    "def num_distributions(df):\n",
    "    '''\n",
    "    pulled from Faith Kane's notebook\n",
    "    This functions takes in a dataframe and displays\n",
    "    the distribution of each numeric column.\n",
    "    '''\n",
    "    for col in df.columns:\n",
    "        if df[col].dtype != 'object':\n",
    "            plt.hist(df[col])\n",
    "            plt.title(f'Distribution of {col}')\n",
    "            plt.show()"
   ]
  },
  {
   "cell_type": "code",
   "execution_count": null,
   "id": "a163b89f",
   "metadata": {},
   "outputs": [],
   "source": [
    "num_distributions(df)"
   ]
  },
  {
   "cell_type": "markdown",
   "id": "3c98f2c2",
   "metadata": {},
   "source": [
    "# DSL VS FIBER"
   ]
  },
  {
   "cell_type": "code",
   "execution_count": null,
   "id": "fb4cba8e",
   "metadata": {},
   "outputs": [],
   "source": [
    "df.DSL.value_counts()"
   ]
  },
  {
   "cell_type": "code",
   "execution_count": null,
   "id": "55d22a5f",
   "metadata": {},
   "outputs": [],
   "source": [
    "df.fiber_optic.value_counts()"
   ]
  },
  {
   "cell_type": "code",
   "execution_count": null,
   "id": "f7f750a5",
   "metadata": {},
   "outputs": [],
   "source": [
    "df.groupby('fiber_optic').monthly_charges.agg(['min', 'mean', 'max'])"
   ]
  },
  {
   "cell_type": "code",
   "execution_count": null,
   "id": "dc97f115",
   "metadata": {},
   "outputs": [],
   "source": [
    "df.groupby('fiber_optic').monthly_charges.agg(['min', 'mean', 'max'])"
   ]
  },
  {
   "cell_type": "code",
   "execution_count": null,
   "id": "99fd272a",
   "metadata": {},
   "outputs": [],
   "source": [
    "df.groupby('DSL').monthly_charges.agg(['min', 'mean', 'max'])"
   ]
  },
  {
   "cell_type": "code",
   "execution_count": null,
   "id": "46dd2253",
   "metadata": {},
   "outputs": [],
   "source": [
    "churned = df[df['churn'] == 1].tenure\n",
    "dsl = df[df['DSL'] == 1]\n",
    "fiber = df[df['fiber_optic'] == 1]"
   ]
  },
  {
   "cell_type": "code",
   "execution_count": null,
   "id": "3de65ea8",
   "metadata": {},
   "outputs": [],
   "source": [
    "dsl = df[df['DSL'] == 1]"
   ]
  },
  {
   "cell_type": "code",
   "execution_count": null,
   "id": "67361829",
   "metadata": {},
   "outputs": [],
   "source": [
    "fiber = df[df['fiber_optic'] == 1]"
   ]
  },
  {
   "cell_type": "code",
   "execution_count": null,
   "id": "e6c588eb",
   "metadata": {},
   "outputs": [],
   "source": [
    "observed = pd.crosstab(mpg.drv, mpg.transmission)\n",
    "observed"
   ]
  },
  {
   "cell_type": "code",
   "execution_count": null,
   "id": "0e9f7135",
   "metadata": {},
   "outputs": [],
   "source": [
    "observed = pd.crosstab(df.DSL, df.churn)\n",
    "observed"
   ]
  },
  {
   "cell_type": "code",
   "execution_count": null,
   "id": "e2b21656",
   "metadata": {},
   "outputs": [],
   "source": [
    "observed = pd.crosstab(df.fiber_optic, df.churn)\n",
    "observed"
   ]
  },
  {
   "cell_type": "markdown",
   "id": "85e570d0",
   "metadata": {},
   "source": [
    "# Churn"
   ]
  },
  {
   "cell_type": "code",
   "execution_count": null,
   "id": "e2fe305e",
   "metadata": {},
   "outputs": [],
   "source": [
    "plt.figure(figsize=(10,6))\n",
    "sns.countplot(x='churn', data=train, palette='inferno_r')\n",
    "plt.show()"
   ]
  },
  {
   "cell_type": "code",
   "execution_count": null,
   "id": "2c4709b1",
   "metadata": {},
   "outputs": [],
   "source": [
    "telco_correlation = train.corr['churn']\n",
    "telco_correlation"
   ]
  },
  {
   "cell_type": "markdown",
   "id": "c8c8d23f",
   "metadata": {},
   "source": [
    "ValueError: 'Set4' is not a valid value for name; supported values are 'Accent', 'Accent_r', 'Blues', 'Blues_r', 'BrBG', 'BrBG_r', 'BuGn', 'BuGn_r', 'BuPu', 'BuPu_r', 'CMRmap', 'CMRmap_r', 'Dark2', 'Dark2_r', 'GnBu', 'GnBu_r', 'Greens', 'Greens_r', 'Greys', 'Greys_r', 'OrRd', 'OrRd_r', 'Oranges', 'Oranges_r', 'PRGn', 'PRGn_r', 'Paired', 'Paired_r', 'Pastel1', 'Pastel1_r', 'Pastel2', 'Pastel2_r', 'PiYG', 'PiYG_r', 'PuBu', 'PuBuGn', 'PuBuGn_r', 'PuBu_r', 'PuOr', 'PuOr_r', 'PuRd', 'PuRd_r', 'Purples', 'Purples_r', 'RdBu', 'RdBu_r', 'RdGy', 'RdGy_r', 'RdPu', 'RdPu_r', 'RdYlBu', 'RdYlBu_r', 'RdYlGn', 'RdYlGn_r', 'Reds', 'Reds_r', 'Set1', 'Set1_r', 'Set2', 'Set2_r', 'Set3', 'Set3_r', 'Spectral', 'Spectral_r', 'Wistia', 'Wistia_r', 'YlGn', 'YlGnBu', 'YlGnBu_r', 'YlGn_r', 'YlOrBr', 'YlOrBr_r', 'YlOrRd', 'YlOrRd_r', 'afmhot', 'afmhot_r', 'autumn', 'autumn_r', 'binary', 'binary_r', 'bone', 'bone_r', 'brg', 'brg_r', 'bwr', 'bwr_r', 'cividis', 'cividis_r', 'cool', 'cool_r', 'coolwarm', 'coolwarm_r', 'copper', 'copper_r', 'crest', 'crest_r', 'cubehelix', 'cubehelix_r', 'flag', 'flag_r', 'flare', 'flare_r', 'gist_earth', 'gist_earth_r', 'gist_gray', 'gist_gray_r', 'gist_heat', 'gist_heat_r', 'gist_ncar', 'gist_ncar_r', 'gist_rainbow', 'gist_rainbow_r', 'gist_stern', 'gist_stern_r', 'gist_yarg', 'gist_yarg_r', 'gnuplot', 'gnuplot2', 'gnuplot2_r', 'gnuplot_r', 'gray', 'gray_r', 'hot', 'hot_r', 'hsv', 'hsv_r', 'icefire', 'icefire_r', 'inferno', 'inferno_r', 'jet', 'jet_r', 'magma', 'magma_r', 'mako', 'mako_r', 'nipy_spectral', 'nipy_spectral_r', 'ocean', 'ocean_r', 'pink', 'pink_r', 'plasma', 'plasma_r', 'prism', 'prism_r', 'rainbow', 'rainbow_r', 'rocket', 'rocket_r', 'seismic', 'seismic_r', 'spring', 'spring_r', 'summer', 'summer_r', 'tab10', 'tab10_r', 'tab20', 'tab20_r', 'tab20b', 'tab20b_r', 'tab20c', 'tab20c_r', 'terrain', 'terrain_r', 'turbo', 'turbo_r', 'twilight', 'twilight_r', 'twilight_shifted', 'twilight_shifted_r', 'viridis', 'viridis_r', 'vlag', 'vlag_r', 'winter', 'winter_r'"
   ]
  },
  {
   "cell_type": "code",
   "execution_count": null,
   "id": "bfa7d37e",
   "metadata": {},
   "outputs": [],
   "source": []
  },
  {
   "cell_type": "code",
   "execution_count": null,
   "id": "cdc8d923",
   "metadata": {},
   "outputs": [],
   "source": []
  },
  {
   "cell_type": "code",
   "execution_count": null,
   "id": "130e70a3",
   "metadata": {},
   "outputs": [],
   "source": [
    "categ = df.nunique()[df.nunique() <= 5].index\n",
    "list(categ)"
   ]
  },
  {
   "cell_type": "code",
   "execution_count": null,
   "id": "438ceee7",
   "metadata": {},
   "outputs": [],
   "source": [
    "cat_vars = ['contract_type',\n",
    " 'is_male',\n",
    " 'senior_citizen',\n",
    " 'partner',\n",
    " 'dependents',\n",
    " 'phone_service',\n",
    " 'multiple_lines',\n",
    " 'online_security',\n",
    " 'online_backup',\n",
    " 'device_protection',\n",
    " 'tech_support',\n",
    " 'streaming_tv',\n",
    " 'streaming_movies',\n",
    " 'paperless_billing',\n",
    " 'churn',\n",
    " 'contract',\n",
    " 'payment_type',\n",
    " 'online_secuirty',\n",
    " 'payment_type',\n",
    " 'DSL',\n",
    " 'fiber_optic',\n",
    " 'no_internet',\n",
    " 'month_to_month',\n",
    " 'one_year_contract',\n",
    " 'two_year_contract']\n",
    "\n",
    "quant_vars = ['total_charges', 'tenure', 'monthly_charges']"
   ]
  },
  {
   "cell_type": "code",
   "execution_count": null,
   "id": "454dd29d",
   "metadata": {},
   "outputs": [],
   "source": [
    "df.drop_duplicates()"
   ]
  },
  {
   "cell_type": "code",
   "execution_count": null,
   "id": "7f45eaf7",
   "metadata": {},
   "outputs": [],
   "source": [
    "user_defined_functions.explore_univariate(df, cat_vars, quant_vars)"
   ]
  },
  {
   "cell_type": "code",
   "execution_count": null,
   "id": "091d65f8",
   "metadata": {},
   "outputs": [],
   "source": []
  },
  {
   "cell_type": "code",
   "execution_count": null,
   "id": "498c4bfb",
   "metadata": {},
   "outputs": [],
   "source": []
  },
  {
   "cell_type": "code",
   "execution_count": null,
   "id": "2545f832",
   "metadata": {},
   "outputs": [],
   "source": [
    "x = sns.barplot(x=\"DSL\", y=\"churn\", data=df, color=\"blue\")\n",
    "x.set(xlabel=\"Had DSL\", ylabel = \"Churn\")\n",
    "plt.show()"
   ]
  },
  {
   "cell_type": "code",
   "execution_count": null,
   "id": "1cd94072",
   "metadata": {},
   "outputs": [],
   "source": []
  },
  {
   "cell_type": "code",
   "execution_count": null,
   "id": "f91a3e44",
   "metadata": {},
   "outputs": [],
   "source": []
  },
  {
   "cell_type": "markdown",
   "id": "3f569074",
   "metadata": {},
   "source": [
    "## Hypothesis 2: Determine if there is a relationship between payment type and churn"
   ]
  },
  {
   "cell_type": "markdown",
   "id": "33e6b7ac",
   "metadata": {},
   "source": [
    "- Alpha = .05\n",
    "\n",
    "- $H_0$ : There is no relationship between payment type and churn\n",
    "\n",
    "- $H_a$ : There is a relationship between payment type and churn"
   ]
  },
  {
   "cell_type": "code",
   "execution_count": null,
   "id": "b00cbb02",
   "metadata": {},
   "outputs": [],
   "source": [
    "df.payment_type.value_counts()"
   ]
  },
  {
   "cell_type": "code",
   "execution_count": null,
   "id": "7d03a277",
   "metadata": {},
   "outputs": [],
   "source": [
    "observed = pd.crosstab(train.churn, train.payment_type)\n",
    "observed"
   ]
  },
  {
   "cell_type": "code",
   "execution_count": null,
   "id": "04b23ec6",
   "metadata": {},
   "outputs": [],
   "source": [
    "# Categorical use Chi2\n",
    "alpha = .5\n",
    "chi2, p, degf, expected = stats.chi2_contingency(observed)\n",
    "\n",
    "\n",
    "print('Observed\\n')\n",
    "print(observed)\n",
    "print('---------------------\\nExpected\\n')\n",
    "print(expected.astype(int))\n",
    "print('---------------------\\n')\n",
    "print(f'chi^2 = {chi2:.4f}')\n",
    "print(f'p     = {p:.4f}')\n",
    "\n",
    "if p < alpha:\n",
    "    print('''\\n Our p value is less than our alpha and we can reject the null hypothesis\n",
    "         There is a relationship between payment type and churn.''')\n",
    "else:\n",
    "    print('We cannot reject the null hypothesis')"
   ]
  },
  {
   "cell_type": "code",
   "execution_count": null,
   "id": "20e75875",
   "metadata": {},
   "outputs": [],
   "source": []
  },
  {
   "cell_type": "code",
   "execution_count": null,
   "id": "dd4de19e",
   "metadata": {},
   "outputs": [],
   "source": []
  },
  {
   "cell_type": "code",
   "execution_count": null,
   "id": "b77abd81",
   "metadata": {},
   "outputs": [],
   "source": []
  },
  {
   "cell_type": "code",
   "execution_count": null,
   "id": "591aee53",
   "metadata": {},
   "outputs": [],
   "source": []
  },
  {
   "cell_type": "code",
   "execution_count": null,
   "id": "ee8c1044",
   "metadata": {},
   "outputs": [],
   "source": []
  },
  {
   "cell_type": "code",
   "execution_count": null,
   "id": "17b36815",
   "metadata": {},
   "outputs": [],
   "source": [
    "sns.pairplot(df[[ 'DSL', 'fiber_optic', 'churn']], hue='churn')\n",
    "plt.show()"
   ]
  },
  {
   "cell_type": "code",
   "execution_count": null,
   "id": "337eaee5",
   "metadata": {},
   "outputs": [],
   "source": [
    "sns.pairplot(df[['tenure', 'monthly_charges', 'total_charges', 'churn']], hue='churn')\n",
    "plt.show()"
   ]
  },
  {
   "cell_type": "code",
   "execution_count": null,
   "id": "156c71f7",
   "metadata": {},
   "outputs": [],
   "source": [
    "#bar plots to show rate of churn within each category\n",
    "#statistical test - category & category = chi^2\n",
    "    #if finidng a significant difference then include it in the modeling phase"
   ]
  },
  {
   "cell_type": "markdown",
   "id": "d46332ba",
   "metadata": {},
   "source": [
    "## Sample questions\n",
    "\n",
    "### Are customers with DSL more or less likely to churn?\n",
    "### What month are customers most likely to churn and does that depend on their contract type?\n",
    "### Is there a service that is associated with more churn than expected?\n",
    "### Do customers who churn have a higher average monthly spend than those who don't?"
   ]
  },
  {
   "cell_type": "code",
   "execution_count": null,
   "id": "e93575b0",
   "metadata": {},
   "outputs": [],
   "source": [
    "###### PRIMARY FUNCTION!!!!"
   ]
  },
  {
   "cell_type": "code",
   "execution_count": null,
   "id": "20aff70e",
   "metadata": {},
   "outputs": [],
   "source": [
    "# #preliminary clean delco:\n",
    "# def prep_telco(df):\n",
    "\n",
    "#     df = df.drop_duplicates()  #Drop duplicates\n",
    "    \n",
    "#     #11 values are blank strings for total charges representing 11 customers at 0 tenure\n",
    "#     df['total_charges'] = df['total_charges'].str.strip() #eliminate white space\n",
    "#     df['total_charges'] = df['total_charges'].replace('', 0) #replace empty values as 0\n",
    "#     df['total_charges'] = df['total_charges'].astype('float64')\n",
    "\n",
    "#     #15 columns encoded to '0' = No, '1'= Yes\n",
    "#     #contract type MtM = 0, 1year = 1, 2year =2\n",
    "#     #concated manual billing = 0 , automatic billing = 1\n",
    "#     df['gender'] = df.gender.replace({'Female': 0, 'Male': 1})\n",
    "#     df['partner'] = df.partner.replace({'Yes': 1, 'No': 0})\n",
    "#     df['dependents'] = df.dependents.replace({'Yes': 1, 'No': 0})\n",
    "#     df['phone_service'] = df.phone_service.replace({'Yes': 1, 'No': 0})\n",
    "#     df['churn'] = df.churn.replace({'Yes': 1, 'No': 0})\n",
    "#     df['multiple_lines'] = df.multiple_lines.replace({'No': 0, \"Yes\": 1, \"No phone service\": 0})\n",
    "#     df['online_secuirty'] = df.online_security.replace({'No': 0, \"Yes\": 1, \"No internet service\": 0})\n",
    "#     df['online_backup'] = df.online_backup.replace({'No': 0, \"Yes\": 1, \"No internet service\": 0})\n",
    "#     df['device_protection'] = df.device_protection.replace({'No': 0, \"Yes\": 1, \"No internet service\": 0})\n",
    "#     df['tech_support'] = df.tech_support.replace({'No': 0, \"Yes\": 1, \"No internet service\": 0})\n",
    "#     df['streaming_tv'] = df.streaming_tv.replace({'No': 0, \"Yes\": 1, \"No internet service\": 0})\n",
    "#     df['streaming_movies'] = df.streaming_movies.replace({'No': 0, \"Yes\": 1, \"No internet service\": 0})\n",
    "#     df['paperless_billing'] = df.paperless_billing.replace({'Yes': 1, 'No': 0})\n",
    "#     #df['contract_type'] = df.contract_type.replace({'Month-to-month': 0, 'One year': 1, 'Two year': 2})\n",
    "#     df['payment_type'] = df.payment_type.replace({'Mailed check': 0, 'Credit card (automatic)': 1, \n",
    "#                                                'Bank transfer (automatic)': 1,  'Electronic check': 0})\n",
    "\n",
    "\n",
    "#     # creating dummy values for payment, internet, & contract (*important values*)\n",
    "#     dummy_df = pd.get_dummies(df[['payment_type',\"internet_service_type\",\"contract_type\"]])\n",
    "#     df = pd.concat([df, dummy_df], axis=1)\n",
    "\n",
    "#     #Rename columns\n",
    "#     columns_to_rename = {'contract_type': 'contract',\n",
    "#                     'internet_service_type': 'internet',\n",
    "#                     'gender': 'is_male',\n",
    "#                      'payment_type_id': 'payment_id',\n",
    "#                      'contract_type_id': 'contract_type',\n",
    "#                      'internet_service_type_DSL': 'DSL',\n",
    "#                      'internet_service_type_Fiber optic': 'fiber_optic',\n",
    "#                      'internet_service_type_None': 'no_internet',\n",
    "#                      'contract_type_Month-to-month': 'month_to_month',\n",
    "#                      'contract_type_One year': 'one_year_contract',\n",
    "#                      'contract_type_Two year': 'two_year_contract'}\n",
    "#     df = df.rename(columns = columns_to_rename)\n",
    "    \n",
    "#     #dropping columns not need (#potentially update)\n",
    "#     columns_to_drop = {'customer_id'}\n",
    "#     df = df.drop(columns=columns_to_drop)\n",
    "    \n",
    "#     return df\n",
    "    \n"
   ]
  },
  {
   "cell_type": "code",
   "execution_count": null,
   "id": "e1ec5a4d",
   "metadata": {},
   "outputs": [],
   "source": [
    "938 * 1.71399"
   ]
  },
  {
   "cell_type": "code",
   "execution_count": null,
   "id": "501d9e11",
   "metadata": {},
   "outputs": [],
   "source": [
    "1607 - 1492"
   ]
  },
  {
   "cell_type": "code",
   "execution_count": null,
   "id": "31bcc6e0",
   "metadata": {},
   "outputs": [],
   "source": [
    "<hr style=\"border:2px solid blue\"> </hr>"
   ]
  }
 ],
 "metadata": {
  "kernelspec": {
   "display_name": "Python 3",
   "language": "python",
   "name": "python3"
  },
  "language_info": {
   "codemirror_mode": {
    "name": "ipython",
    "version": 3
   },
   "file_extension": ".py",
   "mimetype": "text/x-python",
   "name": "python",
   "nbconvert_exporter": "python",
   "pygments_lexer": "ipython3",
   "version": "3.8.8"
  }
 },
 "nbformat": 4,
 "nbformat_minor": 5
}
