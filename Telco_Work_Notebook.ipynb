{
 "cells": [
  {
   "cell_type": "markdown",
   "id": "f4c8ff0a",
   "metadata": {},
   "source": [
    "# Telco Churn Classification Project\n",
    "\n",
    "### By : Daniel Northcutt\n",
    "### 11/29/21"
   ]
  },
  {
   "cell_type": "markdown",
   "id": "9eef66dd",
   "metadata": {},
   "source": [
    "# Project Overview"
   ]
  },
  {
   "cell_type": "markdown",
   "id": "7ce6d804",
   "metadata": {},
   "source": [
    "(To be completed)"
   ]
  },
  {
   "cell_type": "markdown",
   "id": "2c001f00",
   "metadata": {},
   "source": [
    "# Project Goal"
   ]
  },
  {
   "cell_type": "markdown",
   "id": "ac7dbc0d",
   "metadata": {},
   "source": [
    "(To be completed)"
   ]
  },
  {
   "cell_type": "markdown",
   "id": "08d9e0e8",
   "metadata": {},
   "source": [
    "# EXECUTIVE SUMMARY\n",
    "\n",
    "(To be completed)"
   ]
  },
  {
   "cell_type": "markdown",
   "id": "9524715f",
   "metadata": {},
   "source": [
    "# Imports:"
   ]
  },
  {
   "cell_type": "code",
   "execution_count": 1,
   "id": "ed8dd4ce",
   "metadata": {},
   "outputs": [],
   "source": [
    "# ignore warnings\n",
    "import warnings\n",
    "warnings.filterwarnings(\"ignore\")\n",
    "\n",
    "import numpy as np\n",
    "import pandas as pd \n",
    "\n",
    "from pydataset import data\n",
    "\n",
    "from sklearn.model_selection import train_test_split\n",
    "from sklearn.tree import DecisionTreeClassifier\n",
    "from sklearn.tree import export_graphviz\n",
    "from sklearn.metrics import classification_report\n",
    "from sklearn.metrics import confusion_matrix\n",
    "\n",
    "import matplotlib.pyplot as plt\n",
    "import seaborn as sns\n",
    "\n",
    "import graphviz\n",
    "from graphviz import Graph\n",
    "\n",
    "import acquire\n",
    "import prepare\n",
    "import user_defined_functions\n",
    "\n",
    "from sklearn.metrics import classification_report\n",
    "from sklearn.neighbors import KNeighborsClassifier\n",
    "from sklearn.metrics import recall_score, precision_score, f1_score, accuracy_score\n",
    "from sklearn.metrics import classification_report, confusion_matrix"
   ]
  },
  {
   "cell_type": "markdown",
   "id": "e6181072",
   "metadata": {},
   "source": [
    "# Acquire Data"
   ]
  },
  {
   "cell_type": "code",
   "execution_count": 2,
   "id": "c85cd48d",
   "metadata": {},
   "outputs": [
    {
     "data": {
      "text/html": [
       "<div>\n",
       "<style scoped>\n",
       "    .dataframe tbody tr th:only-of-type {\n",
       "        vertical-align: middle;\n",
       "    }\n",
       "\n",
       "    .dataframe tbody tr th {\n",
       "        vertical-align: top;\n",
       "    }\n",
       "\n",
       "    .dataframe thead th {\n",
       "        text-align: right;\n",
       "    }\n",
       "</style>\n",
       "<table border=\"1\" class=\"dataframe\">\n",
       "  <thead>\n",
       "    <tr style=\"text-align: right;\">\n",
       "      <th></th>\n",
       "      <th>payment_type_id</th>\n",
       "      <th>internet_service_type_id</th>\n",
       "      <th>contract_type_id</th>\n",
       "      <th>customer_id</th>\n",
       "      <th>gender</th>\n",
       "      <th>senior_citizen</th>\n",
       "      <th>partner</th>\n",
       "      <th>dependents</th>\n",
       "      <th>tenure</th>\n",
       "      <th>phone_service</th>\n",
       "      <th>...</th>\n",
       "      <th>tech_support</th>\n",
       "      <th>streaming_tv</th>\n",
       "      <th>streaming_movies</th>\n",
       "      <th>paperless_billing</th>\n",
       "      <th>monthly_charges</th>\n",
       "      <th>total_charges</th>\n",
       "      <th>churn</th>\n",
       "      <th>contract_type</th>\n",
       "      <th>internet_service_type</th>\n",
       "      <th>payment_type</th>\n",
       "    </tr>\n",
       "  </thead>\n",
       "  <tbody>\n",
       "    <tr>\n",
       "      <th>0</th>\n",
       "      <td>2</td>\n",
       "      <td>1</td>\n",
       "      <td>3</td>\n",
       "      <td>0016-QLJIS</td>\n",
       "      <td>Female</td>\n",
       "      <td>0</td>\n",
       "      <td>Yes</td>\n",
       "      <td>Yes</td>\n",
       "      <td>65</td>\n",
       "      <td>Yes</td>\n",
       "      <td>...</td>\n",
       "      <td>Yes</td>\n",
       "      <td>Yes</td>\n",
       "      <td>Yes</td>\n",
       "      <td>Yes</td>\n",
       "      <td>90.45</td>\n",
       "      <td>5957.9</td>\n",
       "      <td>No</td>\n",
       "      <td>Two year</td>\n",
       "      <td>DSL</td>\n",
       "      <td>Mailed check</td>\n",
       "    </tr>\n",
       "    <tr>\n",
       "      <th>1</th>\n",
       "      <td>4</td>\n",
       "      <td>1</td>\n",
       "      <td>3</td>\n",
       "      <td>0017-DINOC</td>\n",
       "      <td>Male</td>\n",
       "      <td>0</td>\n",
       "      <td>No</td>\n",
       "      <td>No</td>\n",
       "      <td>54</td>\n",
       "      <td>No</td>\n",
       "      <td>...</td>\n",
       "      <td>Yes</td>\n",
       "      <td>Yes</td>\n",
       "      <td>No</td>\n",
       "      <td>No</td>\n",
       "      <td>45.20</td>\n",
       "      <td>2460.55</td>\n",
       "      <td>No</td>\n",
       "      <td>Two year</td>\n",
       "      <td>DSL</td>\n",
       "      <td>Credit card (automatic)</td>\n",
       "    </tr>\n",
       "    <tr>\n",
       "      <th>2</th>\n",
       "      <td>3</td>\n",
       "      <td>1</td>\n",
       "      <td>3</td>\n",
       "      <td>0019-GFNTW</td>\n",
       "      <td>Female</td>\n",
       "      <td>0</td>\n",
       "      <td>No</td>\n",
       "      <td>No</td>\n",
       "      <td>56</td>\n",
       "      <td>No</td>\n",
       "      <td>...</td>\n",
       "      <td>Yes</td>\n",
       "      <td>No</td>\n",
       "      <td>No</td>\n",
       "      <td>No</td>\n",
       "      <td>45.05</td>\n",
       "      <td>2560.1</td>\n",
       "      <td>No</td>\n",
       "      <td>Two year</td>\n",
       "      <td>DSL</td>\n",
       "      <td>Bank transfer (automatic)</td>\n",
       "    </tr>\n",
       "    <tr>\n",
       "      <th>3</th>\n",
       "      <td>4</td>\n",
       "      <td>1</td>\n",
       "      <td>3</td>\n",
       "      <td>0056-EPFBG</td>\n",
       "      <td>Male</td>\n",
       "      <td>0</td>\n",
       "      <td>Yes</td>\n",
       "      <td>Yes</td>\n",
       "      <td>20</td>\n",
       "      <td>No</td>\n",
       "      <td>...</td>\n",
       "      <td>Yes</td>\n",
       "      <td>No</td>\n",
       "      <td>No</td>\n",
       "      <td>Yes</td>\n",
       "      <td>39.40</td>\n",
       "      <td>825.4</td>\n",
       "      <td>No</td>\n",
       "      <td>Two year</td>\n",
       "      <td>DSL</td>\n",
       "      <td>Credit card (automatic)</td>\n",
       "    </tr>\n",
       "    <tr>\n",
       "      <th>4</th>\n",
       "      <td>3</td>\n",
       "      <td>1</td>\n",
       "      <td>3</td>\n",
       "      <td>0078-XZMHT</td>\n",
       "      <td>Male</td>\n",
       "      <td>0</td>\n",
       "      <td>Yes</td>\n",
       "      <td>No</td>\n",
       "      <td>72</td>\n",
       "      <td>Yes</td>\n",
       "      <td>...</td>\n",
       "      <td>Yes</td>\n",
       "      <td>Yes</td>\n",
       "      <td>Yes</td>\n",
       "      <td>Yes</td>\n",
       "      <td>85.15</td>\n",
       "      <td>6316.2</td>\n",
       "      <td>No</td>\n",
       "      <td>Two year</td>\n",
       "      <td>DSL</td>\n",
       "      <td>Bank transfer (automatic)</td>\n",
       "    </tr>\n",
       "  </tbody>\n",
       "</table>\n",
       "<p>5 rows × 24 columns</p>\n",
       "</div>"
      ],
      "text/plain": [
       "   payment_type_id  internet_service_type_id  contract_type_id customer_id  \\\n",
       "0                2                         1                 3  0016-QLJIS   \n",
       "1                4                         1                 3  0017-DINOC   \n",
       "2                3                         1                 3  0019-GFNTW   \n",
       "3                4                         1                 3  0056-EPFBG   \n",
       "4                3                         1                 3  0078-XZMHT   \n",
       "\n",
       "   gender  senior_citizen partner dependents  tenure phone_service  ...  \\\n",
       "0  Female               0     Yes        Yes      65           Yes  ...   \n",
       "1    Male               0      No         No      54            No  ...   \n",
       "2  Female               0      No         No      56            No  ...   \n",
       "3    Male               0     Yes        Yes      20            No  ...   \n",
       "4    Male               0     Yes         No      72           Yes  ...   \n",
       "\n",
       "  tech_support streaming_tv streaming_movies paperless_billing  \\\n",
       "0          Yes          Yes              Yes               Yes   \n",
       "1          Yes          Yes               No                No   \n",
       "2          Yes           No               No                No   \n",
       "3          Yes           No               No               Yes   \n",
       "4          Yes          Yes              Yes               Yes   \n",
       "\n",
       "  monthly_charges total_charges churn contract_type  internet_service_type  \\\n",
       "0           90.45        5957.9    No      Two year                    DSL   \n",
       "1           45.20       2460.55    No      Two year                    DSL   \n",
       "2           45.05        2560.1    No      Two year                    DSL   \n",
       "3           39.40         825.4    No      Two year                    DSL   \n",
       "4           85.15        6316.2    No      Two year                    DSL   \n",
       "\n",
       "                payment_type  \n",
       "0               Mailed check  \n",
       "1    Credit card (automatic)  \n",
       "2  Bank transfer (automatic)  \n",
       "3    Credit card (automatic)  \n",
       "4  Bank transfer (automatic)  \n",
       "\n",
       "[5 rows x 24 columns]"
      ]
     },
     "execution_count": 2,
     "metadata": {},
     "output_type": "execute_result"
    }
   ],
   "source": [
    "telco = acquire.get_telco_data()\n",
    "df = telco\n",
    "df.head()"
   ]
  },
  {
   "cell_type": "markdown",
   "id": "3606a529",
   "metadata": {},
   "source": [
    "# Acquire Takeaways\n",
    "\n",
    "- (To be completed)\n",
    "\n"
   ]
  },
  {
   "cell_type": "markdown",
   "id": "74e32fa6",
   "metadata": {},
   "source": [
    "# ----------------------------------------------------------------"
   ]
  },
  {
   "cell_type": "markdown",
   "id": "b0aa5bb9",
   "metadata": {},
   "source": [
    "# Prepare Data"
   ]
  },
  {
   "cell_type": "code",
   "execution_count": 36,
   "id": "a94a4d62",
   "metadata": {},
   "outputs": [],
   "source": [
    "#preliminary clean delco:\n",
    "def prep_telco(df):\n",
    "\n",
    "    df = df.drop_duplicates()  #Drop duplicates\n",
    "    \n",
    "    #11 values are blank strings for total charges representing 11 customers at 0 tenure\n",
    "    df['total_charges'] = df['total_charges'].str.strip() #eliminate white space\n",
    "    df['total_charges'] = df['total_charges'].replace('', 0) #replace empty values as 0\n",
    "    df['total_charges'] = df['total_charges'].astype('float64')\n",
    "\n",
    "    #15 columns encoded to '0' = No, '1'= Yes\n",
    "    #contract type MtM = 0, 1year = 1, 2year =2\n",
    "    #concated manual billing = 0 , automatic billing = 1\n",
    "    df['gender'] = df.gender.replace({'Female': 0, 'Male': 1})\n",
    "    df['partner'] = df.partner.replace({'Yes': 1, 'No': 0})\n",
    "    df['dependents'] = df.dependents.replace({'Yes': 1, 'No': 0})\n",
    "    df['phone_service'] = df.phone_service.replace({'Yes': 1, 'No': 0})\n",
    "    df['churn'] = df.churn.replace({'Yes': 1, 'No': 0})\n",
    "    df['multiple_lines'] = df.multiple_lines.replace({'No': 0, \"Yes\": 1, \"No phone service\": 0})\n",
    "    df['online_secuirty'] = df.online_security.replace({'No': 0, \"Yes\": 1, \"No internet service\": 0})\n",
    "    df['online_backup'] = df.online_backup.replace({'No': 0, \"Yes\": 1, \"No internet service\": 0})\n",
    "    df['device_protection'] = df.device_protection.replace({'No': 0, \"Yes\": 1, \"No internet service\": 0})\n",
    "    df['tech_support'] = df.tech_support.replace({'No': 0, \"Yes\": 1, \"No internet service\": 0})\n",
    "    df['streaming_tv'] = df.streaming_tv.replace({'No': 0, \"Yes\": 1, \"No internet service\": 0})\n",
    "    df['streaming_movies'] = df.streaming_movies.replace({'No': 0, \"Yes\": 1, \"No internet service\": 0})\n",
    "    df['paperless_billing'] = df.paperless_billing.replace({'Yes': 1, 'No': 0})\n",
    "    #df['contract_type'] = df.contract_type.replace({'Month-to-month': 0, 'One year': 1, 'Two year': 2})\n",
    "    df['payment_type'] = df.payment_type.replace({'Mailed check': 0, 'Credit card (automatic)': 1, \n",
    "                                               'Bank transfer (automatic)': 1,  'Electronic check': 0})\n",
    "\n",
    "\n",
    "    # creating dummy values for payment, internet, & contract (*important values*)\n",
    "    dummy_df = pd.get_dummies(df[['payment_type',\"internet_service_type\",\"contract_type\"]])\n",
    "    df = pd.concat([df, dummy_df], axis=1)\n",
    "\n",
    "    #Rename columns\n",
    "    columns_to_rename = {'contract_type': 'contract',\n",
    "                    'internet_service_type': 'internet',\n",
    "                    'gender': 'is_male',\n",
    "                     'payment_type_id': 'payment_id',\n",
    "                     'contract_type_id': 'contract_type',\n",
    "                     'internet_service_type_DSL': 'DSL',\n",
    "                     'internet_service_type_Fiber optic': 'fiber_optic',\n",
    "                     'internet_service_type_None': 'no_internet',\n",
    "                     'contract_type_Month-to-month': 'month_to_month',\n",
    "                     'contract_type_One year': 'one_year_contract',\n",
    "                     'contract_type_Two year': 'two_year_contract'}\n",
    "    df = df.rename(columns = columns_to_rename)\n",
    "    \n",
    "    #dropping columns not need (#potentially update)\n",
    "    columns_to_drop = {'customer_id', 'internet_service_type_id', 'internet', 'payment_id'}\n",
    "    df = df.drop(columns=columns_to_drop)\n",
    "    \n",
    "    return df\n",
    "    \n",
    "####FUNCTION NOTES:\n",
    "#drop internet, internet_service_type_id, payment_id"
   ]
  },
  {
   "cell_type": "code",
   "execution_count": 5,
   "id": "8cf6ca1d",
   "metadata": {},
   "outputs": [],
   "source": [
    "df = prep_telco(df)"
   ]
  },
  {
   "cell_type": "code",
   "execution_count": 45,
   "id": "1d3cc9da",
   "metadata": {},
   "outputs": [],
   "source": [
    "def split_telco_data(df):\n",
    "    '''\n",
    "    This function performs split on telco data, stratify churn.\n",
    "    Returns train, validate, and test dfs.\n",
    "    '''\n",
    "    train_validate, test = train_test_split(df, test_size=.2, \n",
    "                                        random_state=123, \n",
    "                                        stratify=df.churn)\n",
    "    train, validate = train_test_split(train_validate, test_size=.3, \n",
    "                                   random_state=123, \n",
    "                                   stratify=train_validate.churn)\n",
    "    return train, validate, test"
   ]
  },
  {
   "cell_type": "code",
   "execution_count": 47,
   "id": "98732b40",
   "metadata": {},
   "outputs": [],
   "source": [
    "train, validate, test = split_telco_data(df)"
   ]
  },
  {
   "cell_type": "code",
   "execution_count": 49,
   "id": "32b4c6e8",
   "metadata": {},
   "outputs": [
    {
     "name": "stdout",
     "output_type": "stream",
     "text": [
      " train shape = (3943, 28)\n",
      " validate shape = (1691, 28)\n",
      " test shape = (1409, 28)\n"
     ]
    }
   ],
   "source": [
    "print(f' train shape = {train.shape}')\n",
    "print(f' validate shape = {validate.shape}')\n",
    "print(f' test shape = {test.shape}')"
   ]
  },
  {
   "cell_type": "code",
   "execution_count": 6,
   "id": "fd9592ee",
   "metadata": {},
   "outputs": [
    {
     "data": {
      "text/html": [
       "<div>\n",
       "<style scoped>\n",
       "    .dataframe tbody tr th:only-of-type {\n",
       "        vertical-align: middle;\n",
       "    }\n",
       "\n",
       "    .dataframe tbody tr th {\n",
       "        vertical-align: top;\n",
       "    }\n",
       "\n",
       "    .dataframe thead th {\n",
       "        text-align: right;\n",
       "    }\n",
       "</style>\n",
       "<table border=\"1\" class=\"dataframe\">\n",
       "  <thead>\n",
       "    <tr style=\"text-align: right;\">\n",
       "      <th></th>\n",
       "      <th>contract_type</th>\n",
       "      <th>is_male</th>\n",
       "      <th>senior_citizen</th>\n",
       "      <th>partner</th>\n",
       "      <th>dependents</th>\n",
       "      <th>tenure</th>\n",
       "      <th>phone_service</th>\n",
       "      <th>multiple_lines</th>\n",
       "      <th>online_security</th>\n",
       "      <th>online_backup</th>\n",
       "      <th>...</th>\n",
       "      <th>contract</th>\n",
       "      <th>payment_type</th>\n",
       "      <th>online_secuirty</th>\n",
       "      <th>payment_type</th>\n",
       "      <th>DSL</th>\n",
       "      <th>fiber_optic</th>\n",
       "      <th>no_internet</th>\n",
       "      <th>month_to_month</th>\n",
       "      <th>one_year_contract</th>\n",
       "      <th>two_year_contract</th>\n",
       "    </tr>\n",
       "  </thead>\n",
       "  <tbody>\n",
       "    <tr>\n",
       "      <th>0</th>\n",
       "      <td>3</td>\n",
       "      <td>0</td>\n",
       "      <td>0</td>\n",
       "      <td>1</td>\n",
       "      <td>1</td>\n",
       "      <td>65</td>\n",
       "      <td>1</td>\n",
       "      <td>1</td>\n",
       "      <td>Yes</td>\n",
       "      <td>1</td>\n",
       "      <td>...</td>\n",
       "      <td>Two year</td>\n",
       "      <td>0</td>\n",
       "      <td>1</td>\n",
       "      <td>0</td>\n",
       "      <td>1</td>\n",
       "      <td>0</td>\n",
       "      <td>0</td>\n",
       "      <td>0</td>\n",
       "      <td>0</td>\n",
       "      <td>1</td>\n",
       "    </tr>\n",
       "    <tr>\n",
       "      <th>1</th>\n",
       "      <td>3</td>\n",
       "      <td>1</td>\n",
       "      <td>0</td>\n",
       "      <td>0</td>\n",
       "      <td>0</td>\n",
       "      <td>54</td>\n",
       "      <td>0</td>\n",
       "      <td>0</td>\n",
       "      <td>Yes</td>\n",
       "      <td>0</td>\n",
       "      <td>...</td>\n",
       "      <td>Two year</td>\n",
       "      <td>1</td>\n",
       "      <td>1</td>\n",
       "      <td>1</td>\n",
       "      <td>1</td>\n",
       "      <td>0</td>\n",
       "      <td>0</td>\n",
       "      <td>0</td>\n",
       "      <td>0</td>\n",
       "      <td>1</td>\n",
       "    </tr>\n",
       "    <tr>\n",
       "      <th>2</th>\n",
       "      <td>3</td>\n",
       "      <td>0</td>\n",
       "      <td>0</td>\n",
       "      <td>0</td>\n",
       "      <td>0</td>\n",
       "      <td>56</td>\n",
       "      <td>0</td>\n",
       "      <td>0</td>\n",
       "      <td>Yes</td>\n",
       "      <td>1</td>\n",
       "      <td>...</td>\n",
       "      <td>Two year</td>\n",
       "      <td>1</td>\n",
       "      <td>1</td>\n",
       "      <td>1</td>\n",
       "      <td>1</td>\n",
       "      <td>0</td>\n",
       "      <td>0</td>\n",
       "      <td>0</td>\n",
       "      <td>0</td>\n",
       "      <td>1</td>\n",
       "    </tr>\n",
       "    <tr>\n",
       "      <th>3</th>\n",
       "      <td>3</td>\n",
       "      <td>1</td>\n",
       "      <td>0</td>\n",
       "      <td>1</td>\n",
       "      <td>1</td>\n",
       "      <td>20</td>\n",
       "      <td>0</td>\n",
       "      <td>0</td>\n",
       "      <td>Yes</td>\n",
       "      <td>0</td>\n",
       "      <td>...</td>\n",
       "      <td>Two year</td>\n",
       "      <td>1</td>\n",
       "      <td>1</td>\n",
       "      <td>1</td>\n",
       "      <td>1</td>\n",
       "      <td>0</td>\n",
       "      <td>0</td>\n",
       "      <td>0</td>\n",
       "      <td>0</td>\n",
       "      <td>1</td>\n",
       "    </tr>\n",
       "    <tr>\n",
       "      <th>4</th>\n",
       "      <td>3</td>\n",
       "      <td>1</td>\n",
       "      <td>0</td>\n",
       "      <td>1</td>\n",
       "      <td>0</td>\n",
       "      <td>72</td>\n",
       "      <td>1</td>\n",
       "      <td>1</td>\n",
       "      <td>No</td>\n",
       "      <td>1</td>\n",
       "      <td>...</td>\n",
       "      <td>Two year</td>\n",
       "      <td>1</td>\n",
       "      <td>0</td>\n",
       "      <td>1</td>\n",
       "      <td>1</td>\n",
       "      <td>0</td>\n",
       "      <td>0</td>\n",
       "      <td>0</td>\n",
       "      <td>0</td>\n",
       "      <td>1</td>\n",
       "    </tr>\n",
       "  </tbody>\n",
       "</table>\n",
       "<p>5 rows × 28 columns</p>\n",
       "</div>"
      ],
      "text/plain": [
       "   contract_type  is_male  senior_citizen  partner  dependents  tenure  \\\n",
       "0              3        0               0        1           1      65   \n",
       "1              3        1               0        0           0      54   \n",
       "2              3        0               0        0           0      56   \n",
       "3              3        1               0        1           1      20   \n",
       "4              3        1               0        1           0      72   \n",
       "\n",
       "   phone_service  multiple_lines online_security  online_backup  ...  \\\n",
       "0              1               1             Yes              1  ...   \n",
       "1              0               0             Yes              0  ...   \n",
       "2              0               0             Yes              1  ...   \n",
       "3              0               0             Yes              0  ...   \n",
       "4              1               1              No              1  ...   \n",
       "\n",
       "   contract  payment_type  online_secuirty  payment_type  DSL  fiber_optic  \\\n",
       "0  Two year             0                1             0    1            0   \n",
       "1  Two year             1                1             1    1            0   \n",
       "2  Two year             1                1             1    1            0   \n",
       "3  Two year             1                1             1    1            0   \n",
       "4  Two year             1                0             1    1            0   \n",
       "\n",
       "   no_internet  month_to_month one_year_contract  two_year_contract  \n",
       "0            0               0                 0                  1  \n",
       "1            0               0                 0                  1  \n",
       "2            0               0                 0                  1  \n",
       "3            0               0                 0                  1  \n",
       "4            0               0                 0                  1  \n",
       "\n",
       "[5 rows x 28 columns]"
      ]
     },
     "execution_count": 6,
     "metadata": {},
     "output_type": "execute_result"
    }
   ],
   "source": [
    "df.head()"
   ]
  },
  {
   "cell_type": "code",
   "execution_count": 7,
   "id": "f63ba6af",
   "metadata": {},
   "outputs": [
    {
     "data": {
      "text/plain": [
       "Index(['contract_type', 'is_male', 'senior_citizen', 'partner', 'dependents',\n",
       "       'tenure', 'phone_service', 'multiple_lines', 'online_security',\n",
       "       'online_backup', 'device_protection', 'tech_support', 'streaming_tv',\n",
       "       'streaming_movies', 'paperless_billing', 'monthly_charges',\n",
       "       'total_charges', 'churn', 'contract', 'payment_type', 'online_secuirty',\n",
       "       'payment_type', 'DSL', 'fiber_optic', 'no_internet', 'month_to_month',\n",
       "       'one_year_contract', 'two_year_contract'],\n",
       "      dtype='object')"
      ]
     },
     "execution_count": 7,
     "metadata": {},
     "output_type": "execute_result"
    }
   ],
   "source": [
    "df.columns"
   ]
  },
  {
   "cell_type": "code",
   "execution_count": 40,
   "id": "ff351bff",
   "metadata": {},
   "outputs": [
    {
     "name": "stdout",
     "output_type": "stream",
     "text": [
      "<class 'pandas.core.frame.DataFrame'>\n",
      "Int64Index: 7043 entries, 0 to 7042\n",
      "Data columns (total 28 columns):\n",
      " #   Column             Non-Null Count  Dtype  \n",
      "---  ------             --------------  -----  \n",
      " 0   contract_type      7043 non-null   int64  \n",
      " 1   is_male            7043 non-null   int64  \n",
      " 2   senior_citizen     7043 non-null   int64  \n",
      " 3   partner            7043 non-null   int64  \n",
      " 4   dependents         7043 non-null   int64  \n",
      " 5   tenure             7043 non-null   int64  \n",
      " 6   phone_service      7043 non-null   int64  \n",
      " 7   multiple_lines     7043 non-null   int64  \n",
      " 8   online_security    7043 non-null   object \n",
      " 9   online_backup      7043 non-null   int64  \n",
      " 10  device_protection  7043 non-null   int64  \n",
      " 11  tech_support       7043 non-null   int64  \n",
      " 12  streaming_tv       7043 non-null   int64  \n",
      " 13  streaming_movies   7043 non-null   int64  \n",
      " 14  paperless_billing  7043 non-null   int64  \n",
      " 15  monthly_charges    7043 non-null   float64\n",
      " 16  total_charges      7043 non-null   float64\n",
      " 17  churn              7043 non-null   int64  \n",
      " 18  contract           7043 non-null   object \n",
      " 19  payment_type       7043 non-null   int64  \n",
      " 20  online_secuirty    7043 non-null   int64  \n",
      " 21  payment_type       7043 non-null   int64  \n",
      " 22  DSL                7043 non-null   uint8  \n",
      " 23  fiber_optic        7043 non-null   uint8  \n",
      " 24  no_internet        7043 non-null   uint8  \n",
      " 25  month_to_month     7043 non-null   uint8  \n",
      " 26  one_year_contract  7043 non-null   uint8  \n",
      " 27  two_year_contract  7043 non-null   uint8  \n",
      "dtypes: float64(2), int64(18), object(2), uint8(6)\n",
      "memory usage: 1.5+ MB\n"
     ]
    }
   ],
   "source": [
    "df.info()"
   ]
  },
  {
   "cell_type": "code",
   "execution_count": 43,
   "id": "888c0ea2",
   "metadata": {},
   "outputs": [
    {
     "ename": "TypeError",
     "evalue": "data type 'o' not understood",
     "output_type": "error",
     "traceback": [
      "\u001b[0;31m---------------------------------------------------------------------------\u001b[0m",
      "\u001b[0;31mTypeError\u001b[0m                                 Traceback (most recent call last)",
      "\u001b[0;32m<ipython-input-43-6524ede6845c>\u001b[0m in \u001b[0;36m<module>\u001b[0;34m\u001b[0m\n\u001b[1;32m      1\u001b[0m \u001b[0;31m# Get summary statistics\u001b[0m\u001b[0;34m\u001b[0m\u001b[0;34m\u001b[0m\u001b[0;34m\u001b[0m\u001b[0m\n\u001b[0;32m----> 2\u001b[0;31m \u001b[0mobj_cols\u001b[0m \u001b[0;34m=\u001b[0m \u001b[0mdf\u001b[0m\u001b[0;34m.\u001b[0m\u001b[0mcolumns\u001b[0m\u001b[0;34m[\u001b[0m\u001b[0;34m[\u001b[0m\u001b[0mdf\u001b[0m\u001b[0;34m[\u001b[0m\u001b[0mcol\u001b[0m\u001b[0;34m]\u001b[0m\u001b[0;34m.\u001b[0m\u001b[0mdtype\u001b[0m \u001b[0;34m==\u001b[0m \u001b[0;34m'o'\u001b[0m \u001b[0;32mfor\u001b[0m \u001b[0mcol\u001b[0m \u001b[0;32min\u001b[0m \u001b[0mdf\u001b[0m\u001b[0;34m.\u001b[0m\u001b[0mcolumns\u001b[0m\u001b[0;34m]\u001b[0m\u001b[0;34m]\u001b[0m\u001b[0;34m\u001b[0m\u001b[0;34m\u001b[0m\u001b[0m\n\u001b[0m\u001b[1;32m      3\u001b[0m \u001b[0;32mfor\u001b[0m \u001b[0mcol\u001b[0m \u001b[0;32min\u001b[0m \u001b[0mobj_cols\u001b[0m\u001b[0;34m:\u001b[0m\u001b[0;34m\u001b[0m\u001b[0;34m\u001b[0m\u001b[0m\n\u001b[1;32m      4\u001b[0m     \u001b[0mprint\u001b[0m\u001b[0;34m(\u001b[0m\u001b[0mdf\u001b[0m\u001b[0;34m[\u001b[0m\u001b[0mcol\u001b[0m\u001b[0;34m]\u001b[0m\u001b[0;34m.\u001b[0m\u001b[0mvalue_counts\u001b[0m\u001b[0;34m(\u001b[0m\u001b[0;34m)\u001b[0m\u001b[0;34m)\u001b[0m\u001b[0;34m\u001b[0m\u001b[0;34m\u001b[0m\u001b[0m\n\u001b[1;32m      5\u001b[0m     \u001b[0mprint\u001b[0m\u001b[0;34m(\u001b[0m\u001b[0mdf\u001b[0m\u001b[0;34m[\u001b[0m\u001b[0mcol\u001b[0m\u001b[0;34m]\u001b[0m\u001b[0;34m.\u001b[0m\u001b[0mvalue_counts\u001b[0m\u001b[0;34m(\u001b[0m\u001b[0mnormalize\u001b[0m\u001b[0;34m=\u001b[0m\u001b[0;32mTrue\u001b[0m\u001b[0;34m,\u001b[0m \u001b[0mdropna\u001b[0m\u001b[0;34m=\u001b[0m\u001b[0;32mFalse\u001b[0m\u001b[0;34m)\u001b[0m\u001b[0;34m)\u001b[0m\u001b[0;34m\u001b[0m\u001b[0;34m\u001b[0m\u001b[0m\n",
      "\u001b[0;32m<ipython-input-43-6524ede6845c>\u001b[0m in \u001b[0;36m<listcomp>\u001b[0;34m(.0)\u001b[0m\n\u001b[1;32m      1\u001b[0m \u001b[0;31m# Get summary statistics\u001b[0m\u001b[0;34m\u001b[0m\u001b[0;34m\u001b[0m\u001b[0;34m\u001b[0m\u001b[0m\n\u001b[0;32m----> 2\u001b[0;31m \u001b[0mobj_cols\u001b[0m \u001b[0;34m=\u001b[0m \u001b[0mdf\u001b[0m\u001b[0;34m.\u001b[0m\u001b[0mcolumns\u001b[0m\u001b[0;34m[\u001b[0m\u001b[0;34m[\u001b[0m\u001b[0mdf\u001b[0m\u001b[0;34m[\u001b[0m\u001b[0mcol\u001b[0m\u001b[0;34m]\u001b[0m\u001b[0;34m.\u001b[0m\u001b[0mdtype\u001b[0m \u001b[0;34m==\u001b[0m \u001b[0;34m'o'\u001b[0m \u001b[0;32mfor\u001b[0m \u001b[0mcol\u001b[0m \u001b[0;32min\u001b[0m \u001b[0mdf\u001b[0m\u001b[0;34m.\u001b[0m\u001b[0mcolumns\u001b[0m\u001b[0;34m]\u001b[0m\u001b[0;34m]\u001b[0m\u001b[0;34m\u001b[0m\u001b[0;34m\u001b[0m\u001b[0m\n\u001b[0m\u001b[1;32m      3\u001b[0m \u001b[0;32mfor\u001b[0m \u001b[0mcol\u001b[0m \u001b[0;32min\u001b[0m \u001b[0mobj_cols\u001b[0m\u001b[0;34m:\u001b[0m\u001b[0;34m\u001b[0m\u001b[0;34m\u001b[0m\u001b[0m\n\u001b[1;32m      4\u001b[0m     \u001b[0mprint\u001b[0m\u001b[0;34m(\u001b[0m\u001b[0mdf\u001b[0m\u001b[0;34m[\u001b[0m\u001b[0mcol\u001b[0m\u001b[0;34m]\u001b[0m\u001b[0;34m.\u001b[0m\u001b[0mvalue_counts\u001b[0m\u001b[0;34m(\u001b[0m\u001b[0;34m)\u001b[0m\u001b[0;34m)\u001b[0m\u001b[0;34m\u001b[0m\u001b[0;34m\u001b[0m\u001b[0m\n\u001b[1;32m      5\u001b[0m     \u001b[0mprint\u001b[0m\u001b[0;34m(\u001b[0m\u001b[0mdf\u001b[0m\u001b[0;34m[\u001b[0m\u001b[0mcol\u001b[0m\u001b[0;34m]\u001b[0m\u001b[0;34m.\u001b[0m\u001b[0mvalue_counts\u001b[0m\u001b[0;34m(\u001b[0m\u001b[0mnormalize\u001b[0m\u001b[0;34m=\u001b[0m\u001b[0;32mTrue\u001b[0m\u001b[0;34m,\u001b[0m \u001b[0mdropna\u001b[0m\u001b[0;34m=\u001b[0m\u001b[0;32mFalse\u001b[0m\u001b[0;34m)\u001b[0m\u001b[0;34m)\u001b[0m\u001b[0;34m\u001b[0m\u001b[0;34m\u001b[0m\u001b[0m\n",
      "\u001b[0;31mTypeError\u001b[0m: data type 'o' not understood"
     ]
    }
   ],
   "source": []
  },
  {
   "cell_type": "code",
   "execution_count": null,
   "id": "7cab0821",
   "metadata": {},
   "outputs": [],
   "source": []
  },
  {
   "cell_type": "markdown",
   "id": "5b7f6af4",
   "metadata": {},
   "source": [
    "# Prepare Takeaways:\n",
    "\n",
    "- (to be completed)"
   ]
  },
  {
   "cell_type": "code",
   "execution_count": null,
   "id": "68ae9724",
   "metadata": {},
   "outputs": [],
   "source": []
  },
  {
   "cell_type": "code",
   "execution_count": null,
   "id": "158cc048",
   "metadata": {},
   "outputs": [],
   "source": []
  },
  {
   "cell_type": "code",
   "execution_count": 9,
   "id": "4428db10",
   "metadata": {},
   "outputs": [],
   "source": [
    "def num_distributions(df):\n",
    "    '''\n",
    "    pulled from Faith Kane's notebook\n",
    "    This functions takes in a dataframe and displays\n",
    "    the distribution of each numeric column.\n",
    "    '''\n",
    "    for col in df.columns:\n",
    "        if df[col].dtype != 'object':\n",
    "            plt.hist(df[col])\n",
    "            plt.title(f'Distribution of {col}')\n",
    "            plt.show()"
   ]
  },
  {
   "cell_type": "code",
   "execution_count": 10,
   "id": "a163b89f",
   "metadata": {},
   "outputs": [
    {
     "data": {
      "image/png": "[encoded data removed]",
      "text/plain": [
       "<Figure size 432x288 with 1 Axes>"
      ]
     },
     "metadata": {
      "needs_background": "light"
     },
     "output_type": "display_data"
    },
    {
     "data": {
      "image/png": "[encoded data removed]",
      "text/plain": [
       "<Figure size 432x288 with 1 Axes>"
      ]
     },
     "metadata": {
      "needs_background": "light"
     },
     "output_type": "display_data"
    },
    {
     "data": {
      "image/png": "[encoded data removed]",
      "text/plain": [
       "<Figure size 432x288 with 1 Axes>"
      ]
     },
     "metadata": {
      "needs_background": "light"
     },
     "output_type": "display_data"
    },
    {
     "data": {
      "image/png": "[encoded data removed]",
      "text/plain": [
       "<Figure size 432x288 with 1 Axes>"
      ]
     },
     "metadata": {
      "needs_background": "light"
     },
     "output_type": "display_data"
    },
    {
     "data": {
      "image/png": "[encoded data removed]",
      "text/plain": [
       "<Figure size 432x288 with 1 Axes>"
      ]
     },
     "metadata": {
      "needs_background": "light"
     },
     "output_type": "display_data"
    },
    {
     "data": {
      "image/png": "[encoded data removed]",
      "text/plain": [
       "<Figure size 432x288 with 1 Axes>"
      ]
     },
     "metadata": {
      "needs_background": "light"
     },
     "output_type": "display_data"
    },
    {
     "data": {
      "image/png": "[encoded data removed]",
      "text/plain": [
       "<Figure size 432x288 with 1 Axes>"
      ]
     },
     "metadata": {
      "needs_background": "light"
     },
     "output_type": "display_data"
    },
    {
     "data": {
      "image/png": "[encoded data removed]",
      "text/plain": [
       "<Figure size 432x288 with 1 Axes>"
      ]
     },
     "metadata": {
      "needs_background": "light"
     },
     "output_type": "display_data"
    },
    {
     "data": {
      "image/png": "[encoded data removed]",
      "text/plain": [
       "<Figure size 432x288 with 1 Axes>"
      ]
     },
     "metadata": {
      "needs_background": "light"
     },
     "output_type": "display_data"
    },
    {
     "data": {
      "image/png": "[encoded data removed]",
      "text/plain": [
       "<Figure size 432x288 with 1 Axes>"
      ]
     },
     "metadata": {
      "needs_background": "light"
     },
     "output_type": "display_data"
    },
    {
     "data": {
      "image/png": "[encoded data removed]",
      "text/plain": [
       "<Figure size 432x288 with 1 Axes>"
      ]
     },
     "metadata": {
      "needs_background": "light"
     },
     "output_type": "display_data"
    },
    {
     "data": {
      "image/png": "[encoded data removed]",
      "text/plain": [
       "<Figure size 432x288 with 1 Axes>"
      ]
     },
     "metadata": {
      "needs_background": "light"
     },
     "output_type": "display_data"
    },
    {
     "data": {
      "image/png": "[encoded data removed]",
      "text/plain": [
       "<Figure size 432x288 with 1 Axes>"
      ]
     },
     "metadata": {
      "needs_background": "light"
     },
     "output_type": "display_data"
    },
    {
     "data": {
      "image/png": "[encoded data removed]",
      "text/plain": [
       "<Figure size 432x288 with 1 Axes>"
      ]
     },
     "metadata": {
      "needs_background": "light"
     },
     "output_type": "display_data"
    },
    {
     "data": {
      "image/png": "[encoded data removed]",
      "text/plain": [
       "<Figure size 432x288 with 1 Axes>"
      ]
     },
     "metadata": {
      "needs_background": "light"
     },
     "output_type": "display_data"
    },
    {
     "data": {
      "image/png": "[encoded data removed]",
      "text/plain": [
       "<Figure size 432x288 with 1 Axes>"
      ]
     },
     "metadata": {
      "needs_background": "light"
     },
     "output_type": "display_data"
    },
    {
     "data": {
      "image/png": "[encoded data removed]",
      "text/plain": [
       "<Figure size 432x288 with 1 Axes>"
      ]
     },
     "metadata": {
      "needs_background": "light"
     },
     "output_type": "display_data"
    },
    {
     "ename": "AttributeError",
     "evalue": "'DataFrame' object has no attribute 'dtype'",
     "output_type": "error",
     "traceback": [
      "\u001b[0;31m---------------------------------------------------------------------------\u001b[0m",
      "\u001b[0;31mAttributeError\u001b[0m                            Traceback (most recent call last)",
      "\u001b[0;32m<ipython-input-10-485d5039d797>\u001b[0m in \u001b[0;36m<module>\u001b[0;34m\u001b[0m\n\u001b[0;32m----> 1\u001b[0;31m \u001b[0mnum_distributions\u001b[0m\u001b[0;34m(\u001b[0m\u001b[0mdf\u001b[0m\u001b[0;34m)\u001b[0m\u001b[0;34m\u001b[0m\u001b[0;34m\u001b[0m\u001b[0m\n\u001b[0m",
      "\u001b[0;32m<ipython-input-9-e2aee3afd4b3>\u001b[0m in \u001b[0;36mnum_distributions\u001b[0;34m(df)\u001b[0m\n\u001b[1;32m      6\u001b[0m     '''\n\u001b[1;32m      7\u001b[0m     \u001b[0;32mfor\u001b[0m \u001b[0mcol\u001b[0m \u001b[0;32min\u001b[0m \u001b[0mdf\u001b[0m\u001b[0;34m.\u001b[0m\u001b[0mcolumns\u001b[0m\u001b[0;34m:\u001b[0m\u001b[0;34m\u001b[0m\u001b[0;34m\u001b[0m\u001b[0m\n\u001b[0;32m----> 8\u001b[0;31m         \u001b[0;32mif\u001b[0m \u001b[0mdf\u001b[0m\u001b[0;34m[\u001b[0m\u001b[0mcol\u001b[0m\u001b[0;34m]\u001b[0m\u001b[0;34m.\u001b[0m\u001b[0mdtype\u001b[0m \u001b[0;34m!=\u001b[0m \u001b[0;34m'object'\u001b[0m\u001b[0;34m:\u001b[0m\u001b[0;34m\u001b[0m\u001b[0;34m\u001b[0m\u001b[0m\n\u001b[0m\u001b[1;32m      9\u001b[0m             \u001b[0mplt\u001b[0m\u001b[0;34m.\u001b[0m\u001b[0mhist\u001b[0m\u001b[0;34m(\u001b[0m\u001b[0mdf\u001b[0m\u001b[0;34m[\u001b[0m\u001b[0mcol\u001b[0m\u001b[0;34m]\u001b[0m\u001b[0;34m)\u001b[0m\u001b[0;34m\u001b[0m\u001b[0;34m\u001b[0m\u001b[0m\n\u001b[1;32m     10\u001b[0m             \u001b[0mplt\u001b[0m\u001b[0;34m.\u001b[0m\u001b[0mtitle\u001b[0m\u001b[0;34m(\u001b[0m\u001b[0;34mf'Distribution of {col}'\u001b[0m\u001b[0;34m)\u001b[0m\u001b[0;34m\u001b[0m\u001b[0;34m\u001b[0m\u001b[0m\n",
      "\u001b[0;32m~/opt/anaconda3/lib/python3.8/site-packages/pandas/core/generic.py\u001b[0m in \u001b[0;36m__getattr__\u001b[0;34m(self, name)\u001b[0m\n\u001b[1;32m   5485\u001b[0m         ):\n\u001b[1;32m   5486\u001b[0m             \u001b[0;32mreturn\u001b[0m \u001b[0mself\u001b[0m\u001b[0;34m[\u001b[0m\u001b[0mname\u001b[0m\u001b[0;34m]\u001b[0m\u001b[0;34m\u001b[0m\u001b[0;34m\u001b[0m\u001b[0m\n\u001b[0;32m-> 5487\u001b[0;31m         \u001b[0;32mreturn\u001b[0m \u001b[0mobject\u001b[0m\u001b[0;34m.\u001b[0m\u001b[0m__getattribute__\u001b[0m\u001b[0;34m(\u001b[0m\u001b[0mself\u001b[0m\u001b[0;34m,\u001b[0m \u001b[0mname\u001b[0m\u001b[0;34m)\u001b[0m\u001b[0;34m\u001b[0m\u001b[0;34m\u001b[0m\u001b[0m\n\u001b[0m\u001b[1;32m   5488\u001b[0m \u001b[0;34m\u001b[0m\u001b[0m\n\u001b[1;32m   5489\u001b[0m     \u001b[0;32mdef\u001b[0m \u001b[0m__setattr__\u001b[0m\u001b[0;34m(\u001b[0m\u001b[0mself\u001b[0m\u001b[0;34m,\u001b[0m \u001b[0mname\u001b[0m\u001b[0;34m:\u001b[0m \u001b[0mstr\u001b[0m\u001b[0;34m,\u001b[0m \u001b[0mvalue\u001b[0m\u001b[0;34m)\u001b[0m \u001b[0;34m->\u001b[0m \u001b[0;32mNone\u001b[0m\u001b[0;34m:\u001b[0m\u001b[0;34m\u001b[0m\u001b[0;34m\u001b[0m\u001b[0m\n",
      "\u001b[0;31mAttributeError\u001b[0m: 'DataFrame' object has no attribute 'dtype'"
     ]
    }
   ],
   "source": [
    "num_distributions(df)"
   ]
  },
  {
   "cell_type": "markdown",
   "id": "3c98f2c2",
   "metadata": {},
   "source": [
    "# DSL VS FIBER"
   ]
  },
  {
   "cell_type": "code",
   "execution_count": 11,
   "id": "fb4cba8e",
   "metadata": {},
   "outputs": [
    {
     "data": {
      "text/plain": [
       "0    4622\n",
       "1    2421\n",
       "Name: DSL, dtype: int64"
      ]
     },
     "execution_count": 11,
     "metadata": {},
     "output_type": "execute_result"
    }
   ],
   "source": [
    "df.DSL.value_counts()"
   ]
  },
  {
   "cell_type": "code",
   "execution_count": 12,
   "id": "55d22a5f",
   "metadata": {},
   "outputs": [
    {
     "data": {
      "text/plain": [
       "0    3947\n",
       "1    3096\n",
       "Name: fiber_optic, dtype: int64"
      ]
     },
     "execution_count": 12,
     "metadata": {},
     "output_type": "execute_result"
    }
   ],
   "source": [
    "df.fiber_optic.value_counts()"
   ]
  },
  {
   "cell_type": "code",
   "execution_count": 13,
   "id": "f7f750a5",
   "metadata": {},
   "outputs": [
    {
     "data": {
      "text/html": [
       "<div>\n",
       "<style scoped>\n",
       "    .dataframe tbody tr th:only-of-type {\n",
       "        vertical-align: middle;\n",
       "    }\n",
       "\n",
       "    .dataframe tbody tr th {\n",
       "        vertical-align: top;\n",
       "    }\n",
       "\n",
       "    .dataframe thead th {\n",
       "        text-align: right;\n",
       "    }\n",
       "</style>\n",
       "<table border=\"1\" class=\"dataframe\">\n",
       "  <thead>\n",
       "    <tr style=\"text-align: right;\">\n",
       "      <th></th>\n",
       "      <th>min</th>\n",
       "      <th>mean</th>\n",
       "      <th>max</th>\n",
       "    </tr>\n",
       "    <tr>\n",
       "      <th>fiber_optic</th>\n",
       "      <th></th>\n",
       "      <th></th>\n",
       "      <th></th>\n",
       "    </tr>\n",
       "  </thead>\n",
       "  <tbody>\n",
       "    <tr>\n",
       "      <th>0</th>\n",
       "      <td>18.25</td>\n",
       "      <td>43.788244</td>\n",
       "      <td>94.80</td>\n",
       "    </tr>\n",
       "    <tr>\n",
       "      <th>1</th>\n",
       "      <td>67.75</td>\n",
       "      <td>91.500129</td>\n",
       "      <td>118.75</td>\n",
       "    </tr>\n",
       "  </tbody>\n",
       "</table>\n",
       "</div>"
      ],
      "text/plain": [
       "               min       mean     max\n",
       "fiber_optic                          \n",
       "0            18.25  43.788244   94.80\n",
       "1            67.75  91.500129  118.75"
      ]
     },
     "execution_count": 13,
     "metadata": {},
     "output_type": "execute_result"
    }
   ],
   "source": [
    "df.groupby('fiber_optic').monthly_charges.agg(['min', 'mean', 'max'])"
   ]
  },
  {
   "cell_type": "code",
   "execution_count": 14,
   "id": "dc97f115",
   "metadata": {},
   "outputs": [
    {
     "data": {
      "text/html": [
       "<div>\n",
       "<style scoped>\n",
       "    .dataframe tbody tr th:only-of-type {\n",
       "        vertical-align: middle;\n",
       "    }\n",
       "\n",
       "    .dataframe tbody tr th {\n",
       "        vertical-align: top;\n",
       "    }\n",
       "\n",
       "    .dataframe thead th {\n",
       "        text-align: right;\n",
       "    }\n",
       "</style>\n",
       "<table border=\"1\" class=\"dataframe\">\n",
       "  <thead>\n",
       "    <tr style=\"text-align: right;\">\n",
       "      <th></th>\n",
       "      <th>min</th>\n",
       "      <th>mean</th>\n",
       "      <th>max</th>\n",
       "    </tr>\n",
       "    <tr>\n",
       "      <th>fiber_optic</th>\n",
       "      <th></th>\n",
       "      <th></th>\n",
       "      <th></th>\n",
       "    </tr>\n",
       "  </thead>\n",
       "  <tbody>\n",
       "    <tr>\n",
       "      <th>0</th>\n",
       "      <td>18.25</td>\n",
       "      <td>43.788244</td>\n",
       "      <td>94.80</td>\n",
       "    </tr>\n",
       "    <tr>\n",
       "      <th>1</th>\n",
       "      <td>67.75</td>\n",
       "      <td>91.500129</td>\n",
       "      <td>118.75</td>\n",
       "    </tr>\n",
       "  </tbody>\n",
       "</table>\n",
       "</div>"
      ],
      "text/plain": [
       "               min       mean     max\n",
       "fiber_optic                          \n",
       "0            18.25  43.788244   94.80\n",
       "1            67.75  91.500129  118.75"
      ]
     },
     "execution_count": 14,
     "metadata": {},
     "output_type": "execute_result"
    }
   ],
   "source": [
    "df.groupby('fiber_optic').monthly_charges.agg(['min', 'mean', 'max'])"
   ]
  },
  {
   "cell_type": "code",
   "execution_count": 15,
   "id": "99fd272a",
   "metadata": {},
   "outputs": [
    {
     "data": {
      "text/html": [
       "<div>\n",
       "<style scoped>\n",
       "    .dataframe tbody tr th:only-of-type {\n",
       "        vertical-align: middle;\n",
       "    }\n",
       "\n",
       "    .dataframe tbody tr th {\n",
       "        vertical-align: top;\n",
       "    }\n",
       "\n",
       "    .dataframe thead th {\n",
       "        text-align: right;\n",
       "    }\n",
       "</style>\n",
       "<table border=\"1\" class=\"dataframe\">\n",
       "  <thead>\n",
       "    <tr style=\"text-align: right;\">\n",
       "      <th></th>\n",
       "      <th>min</th>\n",
       "      <th>mean</th>\n",
       "      <th>max</th>\n",
       "    </tr>\n",
       "    <tr>\n",
       "      <th>DSL</th>\n",
       "      <th></th>\n",
       "      <th></th>\n",
       "      <th></th>\n",
       "    </tr>\n",
       "  </thead>\n",
       "  <tbody>\n",
       "    <tr>\n",
       "      <th>0</th>\n",
       "      <td>18.25</td>\n",
       "      <td>68.249946</td>\n",
       "      <td>118.75</td>\n",
       "    </tr>\n",
       "    <tr>\n",
       "      <th>1</th>\n",
       "      <td>23.45</td>\n",
       "      <td>58.102169</td>\n",
       "      <td>94.80</td>\n",
       "    </tr>\n",
       "  </tbody>\n",
       "</table>\n",
       "</div>"
      ],
      "text/plain": [
       "       min       mean     max\n",
       "DSL                          \n",
       "0    18.25  68.249946  118.75\n",
       "1    23.45  58.102169   94.80"
      ]
     },
     "execution_count": 15,
     "metadata": {},
     "output_type": "execute_result"
    }
   ],
   "source": [
    "df.groupby('DSL').monthly_charges.agg(['min', 'mean', 'max'])"
   ]
  },
  {
   "cell_type": "code",
   "execution_count": 16,
   "id": "46dd2253",
   "metadata": {},
   "outputs": [],
   "source": [
    "churned = df[df['churn'] == 1].tenure\n"
   ]
  },
  {
   "cell_type": "code",
   "execution_count": 17,
   "id": "3de65ea8",
   "metadata": {},
   "outputs": [],
   "source": [
    "dsl = df[df['DSL'] == 1]"
   ]
  },
  {
   "cell_type": "code",
   "execution_count": 18,
   "id": "67361829",
   "metadata": {},
   "outputs": [],
   "source": [
    "fiber = df[df['fiber_optic'] == 1]"
   ]
  },
  {
   "cell_type": "code",
   "execution_count": 25,
   "id": "de918a29",
   "metadata": {},
   "outputs": [
    {
     "name": "stdout",
     "output_type": "stream",
     "text": [
      "<class 'pandas.core.frame.DataFrame'>\n",
      "Int64Index: 7043 entries, 0 to 7042\n",
      "Data columns (total 28 columns):\n",
      " #   Column             Non-Null Count  Dtype  \n",
      "---  ------             --------------  -----  \n",
      " 0   contract_type      7043 non-null   int64  \n",
      " 1   is_male            7043 non-null   int64  \n",
      " 2   senior_citizen     7043 non-null   int64  \n",
      " 3   partner            7043 non-null   int64  \n",
      " 4   dependents         7043 non-null   int64  \n",
      " 5   tenure             7043 non-null   int64  \n",
      " 6   phone_service      7043 non-null   int64  \n",
      " 7   multiple_lines     7043 non-null   int64  \n",
      " 8   online_security    7043 non-null   object \n",
      " 9   online_backup      7043 non-null   int64  \n",
      " 10  device_protection  7043 non-null   int64  \n",
      " 11  tech_support       7043 non-null   int64  \n",
      " 12  streaming_tv       7043 non-null   int64  \n",
      " 13  streaming_movies   7043 non-null   int64  \n",
      " 14  paperless_billing  7043 non-null   int64  \n",
      " 15  monthly_charges    7043 non-null   float64\n",
      " 16  total_charges      7043 non-null   float64\n",
      " 17  churn              7043 non-null   int64  \n",
      " 18  contract           7043 non-null   object \n",
      " 19  payment_type       7043 non-null   int64  \n",
      " 20  online_secuirty    7043 non-null   int64  \n",
      " 21  payment_type       7043 non-null   int64  \n",
      " 22  DSL                7043 non-null   uint8  \n",
      " 23  fiber_optic        7043 non-null   uint8  \n",
      " 24  no_internet        7043 non-null   uint8  \n",
      " 25  month_to_month     7043 non-null   uint8  \n",
      " 26  one_year_contract  7043 non-null   uint8  \n",
      " 27  two_year_contract  7043 non-null   uint8  \n",
      "dtypes: float64(2), int64(18), object(2), uint8(6)\n",
      "memory usage: 1.3+ MB\n"
     ]
    }
   ],
   "source": [
    "df.info()"
   ]
  },
  {
   "cell_type": "code",
   "execution_count": 19,
   "id": "e6c588eb",
   "metadata": {},
   "outputs": [
    {
     "ename": "NameError",
     "evalue": "name 'mpg' is not defined",
     "output_type": "error",
     "traceback": [
      "\u001b[0;31m---------------------------------------------------------------------------\u001b[0m",
      "\u001b[0;31mNameError\u001b[0m                                 Traceback (most recent call last)",
      "\u001b[0;32m<ipython-input-19-87bf6255048b>\u001b[0m in \u001b[0;36m<module>\u001b[0;34m\u001b[0m\n\u001b[0;32m----> 1\u001b[0;31m \u001b[0mobserved\u001b[0m \u001b[0;34m=\u001b[0m \u001b[0mpd\u001b[0m\u001b[0;34m.\u001b[0m\u001b[0mcrosstab\u001b[0m\u001b[0;34m(\u001b[0m\u001b[0mmpg\u001b[0m\u001b[0;34m.\u001b[0m\u001b[0mdrv\u001b[0m\u001b[0;34m,\u001b[0m \u001b[0mmpg\u001b[0m\u001b[0;34m.\u001b[0m\u001b[0mtransmission\u001b[0m\u001b[0;34m)\u001b[0m\u001b[0;34m\u001b[0m\u001b[0;34m\u001b[0m\u001b[0m\n\u001b[0m\u001b[1;32m      2\u001b[0m \u001b[0mobserved\u001b[0m\u001b[0;34m\u001b[0m\u001b[0;34m\u001b[0m\u001b[0m\n",
      "\u001b[0;31mNameError\u001b[0m: name 'mpg' is not defined"
     ]
    }
   ],
   "source": [
    "observed = pd.crosstab(mpg.drv, mpg.transmission)\n",
    "observed"
   ]
  },
  {
   "cell_type": "code",
   "execution_count": 20,
   "id": "0e9f7135",
   "metadata": {},
   "outputs": [
    {
     "data": {
      "text/html": [
       "<div>\n",
       "<style scoped>\n",
       "    .dataframe tbody tr th:only-of-type {\n",
       "        vertical-align: middle;\n",
       "    }\n",
       "\n",
       "    .dataframe tbody tr th {\n",
       "        vertical-align: top;\n",
       "    }\n",
       "\n",
       "    .dataframe thead th {\n",
       "        text-align: right;\n",
       "    }\n",
       "</style>\n",
       "<table border=\"1\" class=\"dataframe\">\n",
       "  <thead>\n",
       "    <tr style=\"text-align: right;\">\n",
       "      <th>churn</th>\n",
       "      <th>0</th>\n",
       "      <th>1</th>\n",
       "    </tr>\n",
       "    <tr>\n",
       "      <th>DSL</th>\n",
       "      <th></th>\n",
       "      <th></th>\n",
       "    </tr>\n",
       "  </thead>\n",
       "  <tbody>\n",
       "    <tr>\n",
       "      <th>0</th>\n",
       "      <td>3212</td>\n",
       "      <td>1410</td>\n",
       "    </tr>\n",
       "    <tr>\n",
       "      <th>1</th>\n",
       "      <td>1962</td>\n",
       "      <td>459</td>\n",
       "    </tr>\n",
       "  </tbody>\n",
       "</table>\n",
       "</div>"
      ],
      "text/plain": [
       "churn     0     1\n",
       "DSL              \n",
       "0      3212  1410\n",
       "1      1962   459"
      ]
     },
     "execution_count": 20,
     "metadata": {},
     "output_type": "execute_result"
    }
   ],
   "source": [
    "observed = pd.crosstab(df.DSL, df.churn)\n",
    "observed"
   ]
  },
  {
   "cell_type": "code",
   "execution_count": 21,
   "id": "e2b21656",
   "metadata": {},
   "outputs": [
    {
     "data": {
      "text/html": [
       "<div>\n",
       "<style scoped>\n",
       "    .dataframe tbody tr th:only-of-type {\n",
       "        vertical-align: middle;\n",
       "    }\n",
       "\n",
       "    .dataframe tbody tr th {\n",
       "        vertical-align: top;\n",
       "    }\n",
       "\n",
       "    .dataframe thead th {\n",
       "        text-align: right;\n",
       "    }\n",
       "</style>\n",
       "<table border=\"1\" class=\"dataframe\">\n",
       "  <thead>\n",
       "    <tr style=\"text-align: right;\">\n",
       "      <th>churn</th>\n",
       "      <th>0</th>\n",
       "      <th>1</th>\n",
       "    </tr>\n",
       "    <tr>\n",
       "      <th>fiber_optic</th>\n",
       "      <th></th>\n",
       "      <th></th>\n",
       "    </tr>\n",
       "  </thead>\n",
       "  <tbody>\n",
       "    <tr>\n",
       "      <th>0</th>\n",
       "      <td>3375</td>\n",
       "      <td>572</td>\n",
       "    </tr>\n",
       "    <tr>\n",
       "      <th>1</th>\n",
       "      <td>1799</td>\n",
       "      <td>1297</td>\n",
       "    </tr>\n",
       "  </tbody>\n",
       "</table>\n",
       "</div>"
      ],
      "text/plain": [
       "churn           0     1\n",
       "fiber_optic            \n",
       "0            3375   572\n",
       "1            1799  1297"
      ]
     },
     "execution_count": 21,
     "metadata": {},
     "output_type": "execute_result"
    }
   ],
   "source": [
    "observed = pd.crosstab(df.fiber_optic, df.churn)\n",
    "observed"
   ]
  },
  {
   "cell_type": "markdown",
   "id": "85e570d0",
   "metadata": {},
   "source": [
    "# Churn"
   ]
  },
  {
   "cell_type": "code",
   "execution_count": 73,
   "id": "e2fe305e",
   "metadata": {},
   "outputs": [
    {
     "data": {
      "image/png": "[encoded data removed]",
      "text/plain": [
       "<Figure size 720x432 with 1 Axes>"
      ]
     },
     "metadata": {
      "needs_background": "light"
     },
     "output_type": "display_data"
    }
   ],
   "source": [
    "plt.figure(figsize=(10,6))\n",
    "sns.countplot(x='churn', data=train, palette='inferno_r')\n",
    "plt.show()"
   ]
  },
  {
   "cell_type": "code",
   "execution_count": 77,
   "id": "2c4709b1",
   "metadata": {},
   "outputs": [
    {
     "data": {
      "text/html": [
       "<div>\n",
       "<style scoped>\n",
       "    .dataframe tbody tr th:only-of-type {\n",
       "        vertical-align: middle;\n",
       "    }\n",
       "\n",
       "    .dataframe tbody tr th {\n",
       "        vertical-align: top;\n",
       "    }\n",
       "\n",
       "    .dataframe thead th {\n",
       "        text-align: right;\n",
       "    }\n",
       "</style>\n",
       "<table border=\"1\" class=\"dataframe\">\n",
       "  <thead>\n",
       "    <tr style=\"text-align: right;\">\n",
       "      <th></th>\n",
       "      <th>contract_type</th>\n",
       "      <th>is_male</th>\n",
       "      <th>senior_citizen</th>\n",
       "      <th>partner</th>\n",
       "      <th>dependents</th>\n",
       "      <th>tenure</th>\n",
       "      <th>phone_service</th>\n",
       "      <th>multiple_lines</th>\n",
       "      <th>online_backup</th>\n",
       "      <th>device_protection</th>\n",
       "      <th>...</th>\n",
       "      <th>churn</th>\n",
       "      <th>payment_type</th>\n",
       "      <th>online_secuirty</th>\n",
       "      <th>payment_type</th>\n",
       "      <th>DSL</th>\n",
       "      <th>fiber_optic</th>\n",
       "      <th>no_internet</th>\n",
       "      <th>month_to_month</th>\n",
       "      <th>one_year_contract</th>\n",
       "      <th>two_year_contract</th>\n",
       "    </tr>\n",
       "  </thead>\n",
       "  <tbody>\n",
       "    <tr>\n",
       "      <th>contract_type</th>\n",
       "      <td>1.000000</td>\n",
       "      <td>0.000909</td>\n",
       "      <td>-0.162383</td>\n",
       "      <td>0.284303</td>\n",
       "      <td>0.250273</td>\n",
       "      <td>0.660485</td>\n",
       "      <td>-0.002429</td>\n",
       "      <td>0.101511</td>\n",
       "      <td>0.153642</td>\n",
       "      <td>0.216590</td>\n",
       "      <td>...</td>\n",
       "      <td>-0.396156</td>\n",
       "      <td>0.329100</td>\n",
       "      <td>0.256118</td>\n",
       "      <td>0.329100</td>\n",
       "      <td>0.064948</td>\n",
       "      <td>-0.254200</td>\n",
       "      <td>0.233006</td>\n",
       "      <td>-0.917134</td>\n",
       "      <td>0.182088</td>\n",
       "      <td>0.887957</td>\n",
       "    </tr>\n",
       "    <tr>\n",
       "      <th>is_male</th>\n",
       "      <td>0.000909</td>\n",
       "      <td>1.000000</td>\n",
       "      <td>0.007243</td>\n",
       "      <td>-0.014710</td>\n",
       "      <td>-0.007656</td>\n",
       "      <td>0.004282</td>\n",
       "      <td>-0.009084</td>\n",
       "      <td>-0.006712</td>\n",
       "      <td>-0.026238</td>\n",
       "      <td>-0.007760</td>\n",
       "      <td>...</td>\n",
       "      <td>0.006885</td>\n",
       "      <td>-0.008913</td>\n",
       "      <td>-0.010711</td>\n",
       "      <td>-0.008913</td>\n",
       "      <td>0.003341</td>\n",
       "      <td>-0.006451</td>\n",
       "      <td>0.003944</td>\n",
       "      <td>-0.005867</td>\n",
       "      <td>0.012583</td>\n",
       "      <td>-0.005001</td>\n",
       "    </tr>\n",
       "    <tr>\n",
       "      <th>senior_citizen</th>\n",
       "      <td>-0.162383</td>\n",
       "      <td>0.007243</td>\n",
       "      <td>1.000000</td>\n",
       "      <td>0.021704</td>\n",
       "      <td>-0.201859</td>\n",
       "      <td>0.007666</td>\n",
       "      <td>0.017884</td>\n",
       "      <td>0.137272</td>\n",
       "      <td>0.063849</td>\n",
       "      <td>0.054971</td>\n",
       "      <td>...</td>\n",
       "      <td>0.165482</td>\n",
       "      <td>-0.023511</td>\n",
       "      <td>-0.052215</td>\n",
       "      <td>-0.023511</td>\n",
       "      <td>-0.120798</td>\n",
       "      <td>0.273674</td>\n",
       "      <td>-0.191692</td>\n",
       "      <td>0.157663</td>\n",
       "      <td>-0.051119</td>\n",
       "      <td>-0.134109</td>\n",
       "    </tr>\n",
       "    <tr>\n",
       "      <th>partner</th>\n",
       "      <td>0.284303</td>\n",
       "      <td>-0.014710</td>\n",
       "      <td>0.021704</td>\n",
       "      <td>1.000000</td>\n",
       "      <td>0.463617</td>\n",
       "      <td>0.366470</td>\n",
       "      <td>0.041129</td>\n",
       "      <td>0.155811</td>\n",
       "      <td>0.135489</td>\n",
       "      <td>0.140242</td>\n",
       "      <td>...</td>\n",
       "      <td>-0.137696</td>\n",
       "      <td>0.149661</td>\n",
       "      <td>0.144792</td>\n",
       "      <td>0.149661</td>\n",
       "      <td>-0.010031</td>\n",
       "      <td>0.005104</td>\n",
       "      <td>0.005469</td>\n",
       "      <td>-0.268490</td>\n",
       "      <td>0.070877</td>\n",
       "      <td>0.243511</td>\n",
       "    </tr>\n",
       "    <tr>\n",
       "      <th>dependents</th>\n",
       "      <td>0.250273</td>\n",
       "      <td>-0.007656</td>\n",
       "      <td>-0.201859</td>\n",
       "      <td>0.463617</td>\n",
       "      <td>1.000000</td>\n",
       "      <td>0.160178</td>\n",
       "      <td>0.000945</td>\n",
       "      <td>-0.013628</td>\n",
       "      <td>0.029841</td>\n",
       "      <td>0.013517</td>\n",
       "      <td>...</td>\n",
       "      <td>-0.160315</td>\n",
       "      <td>0.102038</td>\n",
       "      <td>0.093181</td>\n",
       "      <td>0.102038</td>\n",
       "      <td>0.049894</td>\n",
       "      <td>-0.167655</td>\n",
       "      <td>0.145469</td>\n",
       "      <td>-0.236495</td>\n",
       "      <td>0.062744</td>\n",
       "      <td>0.214199</td>\n",
       "    </tr>\n",
       "    <tr>\n",
       "      <th>tenure</th>\n",
       "      <td>0.660485</td>\n",
       "      <td>0.004282</td>\n",
       "      <td>0.007666</td>\n",
       "      <td>0.366470</td>\n",
       "      <td>0.160178</td>\n",
       "      <td>1.000000</td>\n",
       "      <td>0.006187</td>\n",
       "      <td>0.325379</td>\n",
       "      <td>0.364211</td>\n",
       "      <td>0.349927</td>\n",
       "      <td>...</td>\n",
       "      <td>-0.352282</td>\n",
       "      <td>0.392603</td>\n",
       "      <td>0.328232</td>\n",
       "      <td>0.392603</td>\n",
       "      <td>0.020264</td>\n",
       "      <td>0.023973</td>\n",
       "      <td>-0.052663</td>\n",
       "      <td>-0.637509</td>\n",
       "      <td>0.198606</td>\n",
       "      <td>0.549839</td>\n",
       "    </tr>\n",
       "    <tr>\n",
       "      <th>phone_service</th>\n",
       "      <td>-0.002429</td>\n",
       "      <td>-0.009084</td>\n",
       "      <td>0.017884</td>\n",
       "      <td>0.041129</td>\n",
       "      <td>0.000945</td>\n",
       "      <td>0.006187</td>\n",
       "      <td>1.000000</td>\n",
       "      <td>0.284602</td>\n",
       "      <td>-0.035837</td>\n",
       "      <td>-0.069898</td>\n",
       "      <td>...</td>\n",
       "      <td>0.011995</td>\n",
       "      <td>-0.007627</td>\n",
       "      <td>-0.097775</td>\n",
       "      <td>-0.007627</td>\n",
       "      <td>-0.457254</td>\n",
       "      <td>0.295699</td>\n",
       "      <td>0.172852</td>\n",
       "      <td>0.004231</td>\n",
       "      <td>-0.005385</td>\n",
       "      <td>0.000155</td>\n",
       "    </tr>\n",
       "    <tr>\n",
       "      <th>multiple_lines</th>\n",
       "      <td>0.101511</td>\n",
       "      <td>-0.006712</td>\n",
       "      <td>0.137272</td>\n",
       "      <td>0.155811</td>\n",
       "      <td>-0.013628</td>\n",
       "      <td>0.325379</td>\n",
       "      <td>0.284602</td>\n",
       "      <td>1.000000</td>\n",
       "      <td>0.211970</td>\n",
       "      <td>0.201066</td>\n",
       "      <td>...</td>\n",
       "      <td>0.041917</td>\n",
       "      <td>0.116511</td>\n",
       "      <td>0.098892</td>\n",
       "      <td>0.116511</td>\n",
       "      <td>-0.214480</td>\n",
       "      <td>0.382392</td>\n",
       "      <td>-0.214702</td>\n",
       "      <td>-0.086136</td>\n",
       "      <td>0.001305</td>\n",
       "      <td>0.098173</td>\n",
       "    </tr>\n",
       "    <tr>\n",
       "      <th>online_backup</th>\n",
       "      <td>0.153642</td>\n",
       "      <td>-0.026238</td>\n",
       "      <td>0.063849</td>\n",
       "      <td>0.135489</td>\n",
       "      <td>0.029841</td>\n",
       "      <td>0.364211</td>\n",
       "      <td>-0.035837</td>\n",
       "      <td>0.211970</td>\n",
       "      <td>1.000000</td>\n",
       "      <td>0.310676</td>\n",
       "      <td>...</td>\n",
       "      <td>-0.079113</td>\n",
       "      <td>0.157486</td>\n",
       "      <td>0.280355</td>\n",
       "      <td>0.157486</td>\n",
       "      <td>0.158861</td>\n",
       "      <td>0.165721</td>\n",
       "      <td>-0.385889</td>\n",
       "      <td>-0.158345</td>\n",
       "      <td>0.070988</td>\n",
       "      <td>0.116309</td>\n",
       "    </tr>\n",
       "    <tr>\n",
       "      <th>device_protection</th>\n",
       "      <td>0.216590</td>\n",
       "      <td>-0.007760</td>\n",
       "      <td>0.054971</td>\n",
       "      <td>0.140242</td>\n",
       "      <td>0.013517</td>\n",
       "      <td>0.349927</td>\n",
       "      <td>-0.069898</td>\n",
       "      <td>0.201066</td>\n",
       "      <td>0.310676</td>\n",
       "      <td>1.000000</td>\n",
       "      <td>...</td>\n",
       "      <td>-0.063270</td>\n",
       "      <td>0.167897</td>\n",
       "      <td>0.283492</td>\n",
       "      <td>0.167897</td>\n",
       "      <td>0.154877</td>\n",
       "      <td>0.170772</td>\n",
       "      <td>-0.387386</td>\n",
       "      <td>-0.217549</td>\n",
       "      <td>0.086082</td>\n",
       "      <td>0.170505</td>\n",
       "    </tr>\n",
       "    <tr>\n",
       "      <th>tech_support</th>\n",
       "      <td>0.302377</td>\n",
       "      <td>-0.019327</td>\n",
       "      <td>-0.075292</td>\n",
       "      <td>0.100511</td>\n",
       "      <td>0.071267</td>\n",
       "      <td>0.328066</td>\n",
       "      <td>-0.096026</td>\n",
       "      <td>0.106113</td>\n",
       "      <td>0.288971</td>\n",
       "      <td>0.342797</td>\n",
       "      <td>...</td>\n",
       "      <td>-0.176822</td>\n",
       "      <td>0.176395</td>\n",
       "      <td>0.357947</td>\n",
       "      <td>0.176395</td>\n",
       "      <td>0.314140</td>\n",
       "      <td>-0.020598</td>\n",
       "      <td>-0.340323</td>\n",
       "      <td>-0.295957</td>\n",
       "      <td>0.101034</td>\n",
       "      <td>0.246993</td>\n",
       "    </tr>\n",
       "    <tr>\n",
       "      <th>streaming_tv</th>\n",
       "      <td>0.094719</td>\n",
       "      <td>-0.010305</td>\n",
       "      <td>0.103641</td>\n",
       "      <td>0.109379</td>\n",
       "      <td>-0.024973</td>\n",
       "      <td>0.276815</td>\n",
       "      <td>-0.020377</td>\n",
       "      <td>0.255495</td>\n",
       "      <td>0.286506</td>\n",
       "      <td>0.382370</td>\n",
       "      <td>...</td>\n",
       "      <td>0.069691</td>\n",
       "      <td>0.073588</td>\n",
       "      <td>0.167171</td>\n",
       "      <td>0.073588</td>\n",
       "      <td>0.005436</td>\n",
       "      <td>0.331623</td>\n",
       "      <td>-0.408830</td>\n",
       "      <td>-0.088982</td>\n",
       "      <td>0.022458</td>\n",
       "      <td>0.081669</td>\n",
       "    </tr>\n",
       "    <tr>\n",
       "      <th>streaming_movies</th>\n",
       "      <td>0.094113</td>\n",
       "      <td>0.001707</td>\n",
       "      <td>0.130568</td>\n",
       "      <td>0.107582</td>\n",
       "      <td>-0.061967</td>\n",
       "      <td>0.272839</td>\n",
       "      <td>-0.027915</td>\n",
       "      <td>0.259943</td>\n",
       "      <td>0.276963</td>\n",
       "      <td>0.390633</td>\n",
       "      <td>...</td>\n",
       "      <td>0.062017</td>\n",
       "      <td>0.091806</td>\n",
       "      <td>0.178357</td>\n",
       "      <td>0.091806</td>\n",
       "      <td>0.015307</td>\n",
       "      <td>0.330541</td>\n",
       "      <td>-0.418995</td>\n",
       "      <td>-0.090813</td>\n",
       "      <td>0.028234</td>\n",
       "      <td>0.078378</td>\n",
       "    </tr>\n",
       "    <tr>\n",
       "      <th>paperless_billing</th>\n",
       "      <td>-0.191500</td>\n",
       "      <td>-0.012850</td>\n",
       "      <td>0.170268</td>\n",
       "      <td>-0.028135</td>\n",
       "      <td>-0.114746</td>\n",
       "      <td>-0.006974</td>\n",
       "      <td>0.021742</td>\n",
       "      <td>0.172271</td>\n",
       "      <td>0.122413</td>\n",
       "      <td>0.100626</td>\n",
       "      <td>...</td>\n",
       "      <td>0.187409</td>\n",
       "      <td>-0.029346</td>\n",
       "      <td>-0.002518</td>\n",
       "      <td>-0.029346</td>\n",
       "      <td>-0.058006</td>\n",
       "      <td>0.317130</td>\n",
       "      <td>-0.317460</td>\n",
       "      <td>0.185139</td>\n",
       "      <td>-0.058325</td>\n",
       "      <td>-0.159073</td>\n",
       "    </tr>\n",
       "    <tr>\n",
       "      <th>monthly_charges</th>\n",
       "      <td>-0.073387</td>\n",
       "      <td>-0.012991</td>\n",
       "      <td>0.230111</td>\n",
       "      <td>0.096066</td>\n",
       "      <td>-0.117644</td>\n",
       "      <td>0.250854</td>\n",
       "      <td>0.255629</td>\n",
       "      <td>0.501330</td>\n",
       "      <td>0.448144</td>\n",
       "      <td>0.481129</td>\n",
       "      <td>...</td>\n",
       "      <td>0.189040</td>\n",
       "      <td>0.070080</td>\n",
       "      <td>0.290532</td>\n",
       "      <td>0.070080</td>\n",
       "      <td>-0.169273</td>\n",
       "      <td>0.787673</td>\n",
       "      <td>-0.759184</td>\n",
       "      <td>0.073102</td>\n",
       "      <td>-0.027663</td>\n",
       "      <td>-0.058476</td>\n",
       "    </tr>\n",
       "    <tr>\n",
       "      <th>total_charges</th>\n",
       "      <td>0.443784</td>\n",
       "      <td>-0.000365</td>\n",
       "      <td>0.098212</td>\n",
       "      <td>0.306662</td>\n",
       "      <td>0.065704</td>\n",
       "      <td>0.828479</td>\n",
       "      <td>0.118415</td>\n",
       "      <td>0.471604</td>\n",
       "      <td>0.511742</td>\n",
       "      <td>0.506109</td>\n",
       "      <td>...</td>\n",
       "      <td>-0.201972</td>\n",
       "      <td>0.310517</td>\n",
       "      <td>0.406908</td>\n",
       "      <td>0.310517</td>\n",
       "      <td>-0.056517</td>\n",
       "      <td>0.366069</td>\n",
       "      <td>-0.378591</td>\n",
       "      <td>-0.435281</td>\n",
       "      <td>0.150552</td>\n",
       "      <td>0.361439</td>\n",
       "    </tr>\n",
       "    <tr>\n",
       "      <th>churn</th>\n",
       "      <td>-0.396156</td>\n",
       "      <td>0.006885</td>\n",
       "      <td>0.165482</td>\n",
       "      <td>-0.137696</td>\n",
       "      <td>-0.160315</td>\n",
       "      <td>-0.352282</td>\n",
       "      <td>0.011995</td>\n",
       "      <td>0.041917</td>\n",
       "      <td>-0.079113</td>\n",
       "      <td>-0.063270</td>\n",
       "      <td>...</td>\n",
       "      <td>1.000000</td>\n",
       "      <td>-0.202806</td>\n",
       "      <td>-0.180536</td>\n",
       "      <td>-0.202806</td>\n",
       "      <td>-0.124500</td>\n",
       "      <td>0.303591</td>\n",
       "      <td>-0.223698</td>\n",
       "      <td>0.409166</td>\n",
       "      <td>-0.185215</td>\n",
       "      <td>-0.298877</td>\n",
       "    </tr>\n",
       "    <tr>\n",
       "      <th>payment_type</th>\n",
       "      <td>0.329100</td>\n",
       "      <td>-0.008913</td>\n",
       "      <td>-0.023511</td>\n",
       "      <td>0.149661</td>\n",
       "      <td>0.102038</td>\n",
       "      <td>0.392603</td>\n",
       "      <td>-0.007627</td>\n",
       "      <td>0.116511</td>\n",
       "      <td>0.157486</td>\n",
       "      <td>0.167897</td>\n",
       "      <td>...</td>\n",
       "      <td>-0.202806</td>\n",
       "      <td>1.000000</td>\n",
       "      <td>0.181721</td>\n",
       "      <td>1.000000</td>\n",
       "      <td>0.058819</td>\n",
       "      <td>-0.050298</td>\n",
       "      <td>-0.007354</td>\n",
       "      <td>-0.321552</td>\n",
       "      <td>0.108581</td>\n",
       "      <td>0.269468</td>\n",
       "    </tr>\n",
       "    <tr>\n",
       "      <th>online_secuirty</th>\n",
       "      <td>0.256118</td>\n",
       "      <td>-0.010711</td>\n",
       "      <td>-0.052215</td>\n",
       "      <td>0.144792</td>\n",
       "      <td>0.093181</td>\n",
       "      <td>0.328232</td>\n",
       "      <td>-0.097775</td>\n",
       "      <td>0.098892</td>\n",
       "      <td>0.280355</td>\n",
       "      <td>0.283492</td>\n",
       "      <td>...</td>\n",
       "      <td>-0.180536</td>\n",
       "      <td>0.181721</td>\n",
       "      <td>1.000000</td>\n",
       "      <td>0.181721</td>\n",
       "      <td>0.325233</td>\n",
       "      <td>-0.037138</td>\n",
       "      <td>-0.333149</td>\n",
       "      <td>-0.255712</td>\n",
       "      <td>0.097993</td>\n",
       "      <td>0.203399</td>\n",
       "    </tr>\n",
       "    <tr>\n",
       "      <th>payment_type</th>\n",
       "      <td>0.329100</td>\n",
       "      <td>-0.008913</td>\n",
       "      <td>-0.023511</td>\n",
       "      <td>0.149661</td>\n",
       "      <td>0.102038</td>\n",
       "      <td>0.392603</td>\n",
       "      <td>-0.007627</td>\n",
       "      <td>0.116511</td>\n",
       "      <td>0.157486</td>\n",
       "      <td>0.167897</td>\n",
       "      <td>...</td>\n",
       "      <td>-0.202806</td>\n",
       "      <td>1.000000</td>\n",
       "      <td>0.181721</td>\n",
       "      <td>1.000000</td>\n",
       "      <td>0.058819</td>\n",
       "      <td>-0.050298</td>\n",
       "      <td>-0.007354</td>\n",
       "      <td>-0.321552</td>\n",
       "      <td>0.108581</td>\n",
       "      <td>0.269468</td>\n",
       "    </tr>\n",
       "    <tr>\n",
       "      <th>DSL</th>\n",
       "      <td>0.064948</td>\n",
       "      <td>0.003341</td>\n",
       "      <td>-0.120798</td>\n",
       "      <td>-0.010031</td>\n",
       "      <td>0.049894</td>\n",
       "      <td>0.020264</td>\n",
       "      <td>-0.457254</td>\n",
       "      <td>-0.214480</td>\n",
       "      <td>0.158861</td>\n",
       "      <td>0.154877</td>\n",
       "      <td>...</td>\n",
       "      <td>-0.124500</td>\n",
       "      <td>0.058819</td>\n",
       "      <td>0.325233</td>\n",
       "      <td>0.058819</td>\n",
       "      <td>1.000000</td>\n",
       "      <td>-0.646684</td>\n",
       "      <td>-0.378021</td>\n",
       "      <td>-0.078675</td>\n",
       "      <td>0.058969</td>\n",
       "      <td>0.035620</td>\n",
       "    </tr>\n",
       "    <tr>\n",
       "      <th>fiber_optic</th>\n",
       "      <td>-0.254200</td>\n",
       "      <td>-0.006451</td>\n",
       "      <td>0.273674</td>\n",
       "      <td>0.005104</td>\n",
       "      <td>-0.167655</td>\n",
       "      <td>0.023973</td>\n",
       "      <td>0.295699</td>\n",
       "      <td>0.382392</td>\n",
       "      <td>0.165721</td>\n",
       "      <td>0.170772</td>\n",
       "      <td>...</td>\n",
       "      <td>0.303591</td>\n",
       "      <td>-0.050298</td>\n",
       "      <td>-0.037138</td>\n",
       "      <td>-0.050298</td>\n",
       "      <td>-0.646684</td>\n",
       "      <td>1.000000</td>\n",
       "      <td>-0.461699</td>\n",
       "      <td>0.256514</td>\n",
       "      <td>-0.103960</td>\n",
       "      <td>-0.198742</td>\n",
       "    </tr>\n",
       "    <tr>\n",
       "      <th>no_internet</th>\n",
       "      <td>0.233006</td>\n",
       "      <td>0.003944</td>\n",
       "      <td>-0.191692</td>\n",
       "      <td>0.005469</td>\n",
       "      <td>0.145469</td>\n",
       "      <td>-0.052663</td>\n",
       "      <td>0.172852</td>\n",
       "      <td>-0.214702</td>\n",
       "      <td>-0.385889</td>\n",
       "      <td>-0.387386</td>\n",
       "      <td>...</td>\n",
       "      <td>-0.223698</td>\n",
       "      <td>-0.007354</td>\n",
       "      <td>-0.333149</td>\n",
       "      <td>-0.007354</td>\n",
       "      <td>-0.378021</td>\n",
       "      <td>-0.461699</td>\n",
       "      <td>1.000000</td>\n",
       "      <td>-0.219850</td>\n",
       "      <td>0.057605</td>\n",
       "      <td>0.199800</td>\n",
       "    </tr>\n",
       "    <tr>\n",
       "      <th>month_to_month</th>\n",
       "      <td>-0.917134</td>\n",
       "      <td>-0.005867</td>\n",
       "      <td>0.157663</td>\n",
       "      <td>-0.268490</td>\n",
       "      <td>-0.236495</td>\n",
       "      <td>-0.637509</td>\n",
       "      <td>0.004231</td>\n",
       "      <td>-0.086136</td>\n",
       "      <td>-0.158345</td>\n",
       "      <td>-0.217549</td>\n",
       "      <td>...</td>\n",
       "      <td>0.409166</td>\n",
       "      <td>-0.321552</td>\n",
       "      <td>-0.255712</td>\n",
       "      <td>-0.321552</td>\n",
       "      <td>-0.078675</td>\n",
       "      <td>0.256514</td>\n",
       "      <td>-0.219850</td>\n",
       "      <td>1.000000</td>\n",
       "      <td>-0.558914</td>\n",
       "      <td>-0.631059</td>\n",
       "    </tr>\n",
       "    <tr>\n",
       "      <th>one_year_contract</th>\n",
       "      <td>0.182088</td>\n",
       "      <td>0.012583</td>\n",
       "      <td>-0.051119</td>\n",
       "      <td>0.070877</td>\n",
       "      <td>0.062744</td>\n",
       "      <td>0.198606</td>\n",
       "      <td>-0.005385</td>\n",
       "      <td>0.001305</td>\n",
       "      <td>0.070988</td>\n",
       "      <td>0.086082</td>\n",
       "      <td>...</td>\n",
       "      <td>-0.185215</td>\n",
       "      <td>0.108581</td>\n",
       "      <td>0.097993</td>\n",
       "      <td>0.108581</td>\n",
       "      <td>0.058969</td>\n",
       "      <td>-0.103960</td>\n",
       "      <td>0.057605</td>\n",
       "      <td>-0.558914</td>\n",
       "      <td>1.000000</td>\n",
       "      <td>-0.290551</td>\n",
       "    </tr>\n",
       "    <tr>\n",
       "      <th>two_year_contract</th>\n",
       "      <td>0.887957</td>\n",
       "      <td>-0.005001</td>\n",
       "      <td>-0.134109</td>\n",
       "      <td>0.243511</td>\n",
       "      <td>0.214199</td>\n",
       "      <td>0.549839</td>\n",
       "      <td>0.000155</td>\n",
       "      <td>0.098173</td>\n",
       "      <td>0.116309</td>\n",
       "      <td>0.170505</td>\n",
       "      <td>...</td>\n",
       "      <td>-0.298877</td>\n",
       "      <td>0.269468</td>\n",
       "      <td>0.203399</td>\n",
       "      <td>0.269468</td>\n",
       "      <td>0.035620</td>\n",
       "      <td>-0.198742</td>\n",
       "      <td>0.199800</td>\n",
       "      <td>-0.631059</td>\n",
       "      <td>-0.290551</td>\n",
       "      <td>1.000000</td>\n",
       "    </tr>\n",
       "  </tbody>\n",
       "</table>\n",
       "<p>26 rows × 26 columns</p>\n",
       "</div>"
      ],
      "text/plain": [
       "                   contract_type   is_male  senior_citizen   partner  \\\n",
       "contract_type           1.000000  0.000909       -0.162383  0.284303   \n",
       "is_male                 0.000909  1.000000        0.007243 -0.014710   \n",
       "senior_citizen         -0.162383  0.007243        1.000000  0.021704   \n",
       "partner                 0.284303 -0.014710        0.021704  1.000000   \n",
       "dependents              0.250273 -0.007656       -0.201859  0.463617   \n",
       "tenure                  0.660485  0.004282        0.007666  0.366470   \n",
       "phone_service          -0.002429 -0.009084        0.017884  0.041129   \n",
       "multiple_lines          0.101511 -0.006712        0.137272  0.155811   \n",
       "online_backup           0.153642 -0.026238        0.063849  0.135489   \n",
       "device_protection       0.216590 -0.007760        0.054971  0.140242   \n",
       "tech_support            0.302377 -0.019327       -0.075292  0.100511   \n",
       "streaming_tv            0.094719 -0.010305        0.103641  0.109379   \n",
       "streaming_movies        0.094113  0.001707        0.130568  0.107582   \n",
       "paperless_billing      -0.191500 -0.012850        0.170268 -0.028135   \n",
       "monthly_charges        -0.073387 -0.012991        0.230111  0.096066   \n",
       "total_charges           0.443784 -0.000365        0.098212  0.306662   \n",
       "churn                  -0.396156  0.006885        0.165482 -0.137696   \n",
       "payment_type            0.329100 -0.008913       -0.023511  0.149661   \n",
       "online_secuirty         0.256118 -0.010711       -0.052215  0.144792   \n",
       "payment_type            0.329100 -0.008913       -0.023511  0.149661   \n",
       "DSL                     0.064948  0.003341       -0.120798 -0.010031   \n",
       "fiber_optic            -0.254200 -0.006451        0.273674  0.005104   \n",
       "no_internet             0.233006  0.003944       -0.191692  0.005469   \n",
       "month_to_month         -0.917134 -0.005867        0.157663 -0.268490   \n",
       "one_year_contract       0.182088  0.012583       -0.051119  0.070877   \n",
       "two_year_contract       0.887957 -0.005001       -0.134109  0.243511   \n",
       "\n",
       "                   dependents    tenure  phone_service  multiple_lines  \\\n",
       "contract_type        0.250273  0.660485      -0.002429        0.101511   \n",
       "is_male             -0.007656  0.004282      -0.009084       -0.006712   \n",
       "senior_citizen      -0.201859  0.007666       0.017884        0.137272   \n",
       "partner              0.463617  0.366470       0.041129        0.155811   \n",
       "dependents           1.000000  0.160178       0.000945       -0.013628   \n",
       "tenure               0.160178  1.000000       0.006187        0.325379   \n",
       "phone_service        0.000945  0.006187       1.000000        0.284602   \n",
       "multiple_lines      -0.013628  0.325379       0.284602        1.000000   \n",
       "online_backup        0.029841  0.364211      -0.035837        0.211970   \n",
       "device_protection    0.013517  0.349927      -0.069898        0.201066   \n",
       "tech_support         0.071267  0.328066      -0.096026        0.106113   \n",
       "streaming_tv        -0.024973  0.276815      -0.020377        0.255495   \n",
       "streaming_movies    -0.061967  0.272839      -0.027915        0.259943   \n",
       "paperless_billing   -0.114746 -0.006974       0.021742        0.172271   \n",
       "monthly_charges     -0.117644  0.250854       0.255629        0.501330   \n",
       "total_charges        0.065704  0.828479       0.118415        0.471604   \n",
       "churn               -0.160315 -0.352282       0.011995        0.041917   \n",
       "payment_type         0.102038  0.392603      -0.007627        0.116511   \n",
       "online_secuirty      0.093181  0.328232      -0.097775        0.098892   \n",
       "payment_type         0.102038  0.392603      -0.007627        0.116511   \n",
       "DSL                  0.049894  0.020264      -0.457254       -0.214480   \n",
       "fiber_optic         -0.167655  0.023973       0.295699        0.382392   \n",
       "no_internet          0.145469 -0.052663       0.172852       -0.214702   \n",
       "month_to_month      -0.236495 -0.637509       0.004231       -0.086136   \n",
       "one_year_contract    0.062744  0.198606      -0.005385        0.001305   \n",
       "two_year_contract    0.214199  0.549839       0.000155        0.098173   \n",
       "\n",
       "                   online_backup  device_protection  ...     churn  \\\n",
       "contract_type           0.153642           0.216590  ... -0.396156   \n",
       "is_male                -0.026238          -0.007760  ...  0.006885   \n",
       "senior_citizen          0.063849           0.054971  ...  0.165482   \n",
       "partner                 0.135489           0.140242  ... -0.137696   \n",
       "dependents              0.029841           0.013517  ... -0.160315   \n",
       "tenure                  0.364211           0.349927  ... -0.352282   \n",
       "phone_service          -0.035837          -0.069898  ...  0.011995   \n",
       "multiple_lines          0.211970           0.201066  ...  0.041917   \n",
       "online_backup           1.000000           0.310676  ... -0.079113   \n",
       "device_protection       0.310676           1.000000  ... -0.063270   \n",
       "tech_support            0.288971           0.342797  ... -0.176822   \n",
       "streaming_tv            0.286506           0.382370  ...  0.069691   \n",
       "streaming_movies        0.276963           0.390633  ...  0.062017   \n",
       "paperless_billing       0.122413           0.100626  ...  0.187409   \n",
       "monthly_charges         0.448144           0.481129  ...  0.189040   \n",
       "total_charges           0.511742           0.506109  ... -0.201972   \n",
       "churn                  -0.079113          -0.063270  ...  1.000000   \n",
       "payment_type            0.157486           0.167897  ... -0.202806   \n",
       "online_secuirty         0.280355           0.283492  ... -0.180536   \n",
       "payment_type            0.157486           0.167897  ... -0.202806   \n",
       "DSL                     0.158861           0.154877  ... -0.124500   \n",
       "fiber_optic             0.165721           0.170772  ...  0.303591   \n",
       "no_internet            -0.385889          -0.387386  ... -0.223698   \n",
       "month_to_month         -0.158345          -0.217549  ...  0.409166   \n",
       "one_year_contract       0.070988           0.086082  ... -0.185215   \n",
       "two_year_contract       0.116309           0.170505  ... -0.298877   \n",
       "\n",
       "                   payment_type  online_secuirty  payment_type       DSL  \\\n",
       "contract_type          0.329100         0.256118      0.329100  0.064948   \n",
       "is_male               -0.008913        -0.010711     -0.008913  0.003341   \n",
       "senior_citizen        -0.023511        -0.052215     -0.023511 -0.120798   \n",
       "partner                0.149661         0.144792      0.149661 -0.010031   \n",
       "dependents             0.102038         0.093181      0.102038  0.049894   \n",
       "tenure                 0.392603         0.328232      0.392603  0.020264   \n",
       "phone_service         -0.007627        -0.097775     -0.007627 -0.457254   \n",
       "multiple_lines         0.116511         0.098892      0.116511 -0.214480   \n",
       "online_backup          0.157486         0.280355      0.157486  0.158861   \n",
       "device_protection      0.167897         0.283492      0.167897  0.154877   \n",
       "tech_support           0.176395         0.357947      0.176395  0.314140   \n",
       "streaming_tv           0.073588         0.167171      0.073588  0.005436   \n",
       "streaming_movies       0.091806         0.178357      0.091806  0.015307   \n",
       "paperless_billing     -0.029346        -0.002518     -0.029346 -0.058006   \n",
       "monthly_charges        0.070080         0.290532      0.070080 -0.169273   \n",
       "total_charges          0.310517         0.406908      0.310517 -0.056517   \n",
       "churn                 -0.202806        -0.180536     -0.202806 -0.124500   \n",
       "payment_type           1.000000         0.181721      1.000000  0.058819   \n",
       "online_secuirty        0.181721         1.000000      0.181721  0.325233   \n",
       "payment_type           1.000000         0.181721      1.000000  0.058819   \n",
       "DSL                    0.058819         0.325233      0.058819  1.000000   \n",
       "fiber_optic           -0.050298        -0.037138     -0.050298 -0.646684   \n",
       "no_internet           -0.007354        -0.333149     -0.007354 -0.378021   \n",
       "month_to_month        -0.321552        -0.255712     -0.321552 -0.078675   \n",
       "one_year_contract      0.108581         0.097993      0.108581  0.058969   \n",
       "two_year_contract      0.269468         0.203399      0.269468  0.035620   \n",
       "\n",
       "                   fiber_optic  no_internet  month_to_month  \\\n",
       "contract_type        -0.254200     0.233006       -0.917134   \n",
       "is_male              -0.006451     0.003944       -0.005867   \n",
       "senior_citizen        0.273674    -0.191692        0.157663   \n",
       "partner               0.005104     0.005469       -0.268490   \n",
       "dependents           -0.167655     0.145469       -0.236495   \n",
       "tenure                0.023973    -0.052663       -0.637509   \n",
       "phone_service         0.295699     0.172852        0.004231   \n",
       "multiple_lines        0.382392    -0.214702       -0.086136   \n",
       "online_backup         0.165721    -0.385889       -0.158345   \n",
       "device_protection     0.170772    -0.387386       -0.217549   \n",
       "tech_support         -0.020598    -0.340323       -0.295957   \n",
       "streaming_tv          0.331623    -0.408830       -0.088982   \n",
       "streaming_movies      0.330541    -0.418995       -0.090813   \n",
       "paperless_billing     0.317130    -0.317460        0.185139   \n",
       "monthly_charges       0.787673    -0.759184        0.073102   \n",
       "total_charges         0.366069    -0.378591       -0.435281   \n",
       "churn                 0.303591    -0.223698        0.409166   \n",
       "payment_type         -0.050298    -0.007354       -0.321552   \n",
       "online_secuirty      -0.037138    -0.333149       -0.255712   \n",
       "payment_type         -0.050298    -0.007354       -0.321552   \n",
       "DSL                  -0.646684    -0.378021       -0.078675   \n",
       "fiber_optic           1.000000    -0.461699        0.256514   \n",
       "no_internet          -0.461699     1.000000       -0.219850   \n",
       "month_to_month        0.256514    -0.219850        1.000000   \n",
       "one_year_contract    -0.103960     0.057605       -0.558914   \n",
       "two_year_contract    -0.198742     0.199800       -0.631059   \n",
       "\n",
       "                   one_year_contract  two_year_contract  \n",
       "contract_type               0.182088           0.887957  \n",
       "is_male                     0.012583          -0.005001  \n",
       "senior_citizen             -0.051119          -0.134109  \n",
       "partner                     0.070877           0.243511  \n",
       "dependents                  0.062744           0.214199  \n",
       "tenure                      0.198606           0.549839  \n",
       "phone_service              -0.005385           0.000155  \n",
       "multiple_lines              0.001305           0.098173  \n",
       "online_backup               0.070988           0.116309  \n",
       "device_protection           0.086082           0.170505  \n",
       "tech_support                0.101034           0.246993  \n",
       "streaming_tv                0.022458           0.081669  \n",
       "streaming_movies            0.028234           0.078378  \n",
       "paperless_billing          -0.058325          -0.159073  \n",
       "monthly_charges            -0.027663          -0.058476  \n",
       "total_charges               0.150552           0.361439  \n",
       "churn                      -0.185215          -0.298877  \n",
       "payment_type                0.108581           0.269468  \n",
       "online_secuirty             0.097993           0.203399  \n",
       "payment_type                0.108581           0.269468  \n",
       "DSL                         0.058969           0.035620  \n",
       "fiber_optic                -0.103960          -0.198742  \n",
       "no_internet                 0.057605           0.199800  \n",
       "month_to_month             -0.558914          -0.631059  \n",
       "one_year_contract           1.000000          -0.290551  \n",
       "two_year_contract          -0.290551           1.000000  \n",
       "\n",
       "[26 rows x 26 columns]"
      ]
     },
     "execution_count": 77,
     "metadata": {},
     "output_type": "execute_result"
    }
   ],
   "source": [
    "telco_correlation = train.corr['churn']\n",
    "telco_correlation"
   ]
  },
  {
   "cell_type": "markdown",
   "id": "c8c8d23f",
   "metadata": {},
   "source": [
    "ValueError: 'Set4' is not a valid value for name; supported values are 'Accent', 'Accent_r', 'Blues', 'Blues_r', 'BrBG', 'BrBG_r', 'BuGn', 'BuGn_r', 'BuPu', 'BuPu_r', 'CMRmap', 'CMRmap_r', 'Dark2', 'Dark2_r', 'GnBu', 'GnBu_r', 'Greens', 'Greens_r', 'Greys', 'Greys_r', 'OrRd', 'OrRd_r', 'Oranges', 'Oranges_r', 'PRGn', 'PRGn_r', 'Paired', 'Paired_r', 'Pastel1', 'Pastel1_r', 'Pastel2', 'Pastel2_r', 'PiYG', 'PiYG_r', 'PuBu', 'PuBuGn', 'PuBuGn_r', 'PuBu_r', 'PuOr', 'PuOr_r', 'PuRd', 'PuRd_r', 'Purples', 'Purples_r', 'RdBu', 'RdBu_r', 'RdGy', 'RdGy_r', 'RdPu', 'RdPu_r', 'RdYlBu', 'RdYlBu_r', 'RdYlGn', 'RdYlGn_r', 'Reds', 'Reds_r', 'Set1', 'Set1_r', 'Set2', 'Set2_r', 'Set3', 'Set3_r', 'Spectral', 'Spectral_r', 'Wistia', 'Wistia_r', 'YlGn', 'YlGnBu', 'YlGnBu_r', 'YlGn_r', 'YlOrBr', 'YlOrBr_r', 'YlOrRd', 'YlOrRd_r', 'afmhot', 'afmhot_r', 'autumn', 'autumn_r', 'binary', 'binary_r', 'bone', 'bone_r', 'brg', 'brg_r', 'bwr', 'bwr_r', 'cividis', 'cividis_r', 'cool', 'cool_r', 'coolwarm', 'coolwarm_r', 'copper', 'copper_r', 'crest', 'crest_r', 'cubehelix', 'cubehelix_r', 'flag', 'flag_r', 'flare', 'flare_r', 'gist_earth', 'gist_earth_r', 'gist_gray', 'gist_gray_r', 'gist_heat', 'gist_heat_r', 'gist_ncar', 'gist_ncar_r', 'gist_rainbow', 'gist_rainbow_r', 'gist_stern', 'gist_stern_r', 'gist_yarg', 'gist_yarg_r', 'gnuplot', 'gnuplot2', 'gnuplot2_r', 'gnuplot_r', 'gray', 'gray_r', 'hot', 'hot_r', 'hsv', 'hsv_r', 'icefire', 'icefire_r', 'inferno', 'inferno_r', 'jet', 'jet_r', 'magma', 'magma_r', 'mako', 'mako_r', 'nipy_spectral', 'nipy_spectral_r', 'ocean', 'ocean_r', 'pink', 'pink_r', 'plasma', 'plasma_r', 'prism', 'prism_r', 'rainbow', 'rainbow_r', 'rocket', 'rocket_r', 'seismic', 'seismic_r', 'spring', 'spring_r', 'summer', 'summer_r', 'tab10', 'tab10_r', 'tab20', 'tab20_r', 'tab20b', 'tab20b_r', 'tab20c', 'tab20c_r', 'terrain', 'terrain_r', 'turbo', 'turbo_r', 'twilight', 'twilight_r', 'twilight_shifted', 'twilight_shifted_r', 'viridis', 'viridis_r', 'vlag', 'vlag_r', 'winter', 'winter_r'"
   ]
  },
  {
   "cell_type": "code",
   "execution_count": null,
   "id": "bfa7d37e",
   "metadata": {},
   "outputs": [],
   "source": []
  },
  {
   "cell_type": "code",
   "execution_count": null,
   "id": "cdc8d923",
   "metadata": {},
   "outputs": [],
   "source": []
  },
  {
   "cell_type": "code",
   "execution_count": 22,
   "id": "130e70a3",
   "metadata": {},
   "outputs": [
    {
     "data": {
      "text/plain": [
       "['contract_type',\n",
       " 'is_male',\n",
       " 'senior_citizen',\n",
       " 'partner',\n",
       " 'dependents',\n",
       " 'phone_service',\n",
       " 'multiple_lines',\n",
       " 'online_security',\n",
       " 'online_backup',\n",
       " 'device_protection',\n",
       " 'tech_support',\n",
       " 'streaming_tv',\n",
       " 'streaming_movies',\n",
       " 'paperless_billing',\n",
       " 'churn',\n",
       " 'contract',\n",
       " 'payment_type',\n",
       " 'online_secuirty',\n",
       " 'payment_type',\n",
       " 'DSL',\n",
       " 'fiber_optic',\n",
       " 'no_internet',\n",
       " 'month_to_month',\n",
       " 'one_year_contract',\n",
       " 'two_year_contract']"
      ]
     },
     "execution_count": 22,
     "metadata": {},
     "output_type": "execute_result"
    }
   ],
   "source": [
    "categ = df.nunique()[df.nunique() <= 5].index\n",
    "list(categ)"
   ]
  },
  {
   "cell_type": "code",
   "execution_count": 27,
   "id": "438ceee7",
   "metadata": {},
   "outputs": [],
   "source": [
    "cat_vars = ['contract_type',\n",
    " 'is_male',\n",
    " 'senior_citizen',\n",
    " 'partner',\n",
    " 'dependents',\n",
    " 'phone_service',\n",
    " 'multiple_lines',\n",
    " 'online_security',\n",
    " 'online_backup',\n",
    " 'device_protection',\n",
    " 'tech_support',\n",
    " 'streaming_tv',\n",
    " 'streaming_movies',\n",
    " 'paperless_billing',\n",
    " 'churn',\n",
    " 'contract',\n",
    " 'payment_type',\n",
    " 'online_secuirty',\n",
    " 'payment_type',\n",
    " 'DSL',\n",
    " 'fiber_optic',\n",
    " 'no_internet',\n",
    " 'month_to_month',\n",
    " 'one_year_contract',\n",
    " 'two_year_contract']\n",
    "\n",
    "quant_vars = ['total_charges', 'tenure', 'monthly_charges']"
   ]
  },
  {
   "cell_type": "code",
   "execution_count": 29,
   "id": "454dd29d",
   "metadata": {},
   "outputs": [
    {
     "data": {
      "text/html": [
       "<div>\n",
       "<style scoped>\n",
       "    .dataframe tbody tr th:only-of-type {\n",
       "        vertical-align: middle;\n",
       "    }\n",
       "\n",
       "    .dataframe tbody tr th {\n",
       "        vertical-align: top;\n",
       "    }\n",
       "\n",
       "    .dataframe thead th {\n",
       "        text-align: right;\n",
       "    }\n",
       "</style>\n",
       "<table border=\"1\" class=\"dataframe\">\n",
       "  <thead>\n",
       "    <tr style=\"text-align: right;\">\n",
       "      <th></th>\n",
       "      <th>contract_type</th>\n",
       "      <th>is_male</th>\n",
       "      <th>senior_citizen</th>\n",
       "      <th>partner</th>\n",
       "      <th>dependents</th>\n",
       "      <th>tenure</th>\n",
       "      <th>phone_service</th>\n",
       "      <th>multiple_lines</th>\n",
       "      <th>online_security</th>\n",
       "      <th>online_backup</th>\n",
       "      <th>...</th>\n",
       "      <th>contract</th>\n",
       "      <th>payment_type</th>\n",
       "      <th>online_secuirty</th>\n",
       "      <th>payment_type</th>\n",
       "      <th>DSL</th>\n",
       "      <th>fiber_optic</th>\n",
       "      <th>no_internet</th>\n",
       "      <th>month_to_month</th>\n",
       "      <th>one_year_contract</th>\n",
       "      <th>two_year_contract</th>\n",
       "    </tr>\n",
       "  </thead>\n",
       "  <tbody>\n",
       "    <tr>\n",
       "      <th>0</th>\n",
       "      <td>3</td>\n",
       "      <td>0</td>\n",
       "      <td>0</td>\n",
       "      <td>1</td>\n",
       "      <td>1</td>\n",
       "      <td>65</td>\n",
       "      <td>1</td>\n",
       "      <td>1</td>\n",
       "      <td>Yes</td>\n",
       "      <td>1</td>\n",
       "      <td>...</td>\n",
       "      <td>Two year</td>\n",
       "      <td>0</td>\n",
       "      <td>1</td>\n",
       "      <td>0</td>\n",
       "      <td>1</td>\n",
       "      <td>0</td>\n",
       "      <td>0</td>\n",
       "      <td>0</td>\n",
       "      <td>0</td>\n",
       "      <td>1</td>\n",
       "    </tr>\n",
       "    <tr>\n",
       "      <th>1</th>\n",
       "      <td>3</td>\n",
       "      <td>1</td>\n",
       "      <td>0</td>\n",
       "      <td>0</td>\n",
       "      <td>0</td>\n",
       "      <td>54</td>\n",
       "      <td>0</td>\n",
       "      <td>0</td>\n",
       "      <td>Yes</td>\n",
       "      <td>0</td>\n",
       "      <td>...</td>\n",
       "      <td>Two year</td>\n",
       "      <td>1</td>\n",
       "      <td>1</td>\n",
       "      <td>1</td>\n",
       "      <td>1</td>\n",
       "      <td>0</td>\n",
       "      <td>0</td>\n",
       "      <td>0</td>\n",
       "      <td>0</td>\n",
       "      <td>1</td>\n",
       "    </tr>\n",
       "    <tr>\n",
       "      <th>2</th>\n",
       "      <td>3</td>\n",
       "      <td>0</td>\n",
       "      <td>0</td>\n",
       "      <td>0</td>\n",
       "      <td>0</td>\n",
       "      <td>56</td>\n",
       "      <td>0</td>\n",
       "      <td>0</td>\n",
       "      <td>Yes</td>\n",
       "      <td>1</td>\n",
       "      <td>...</td>\n",
       "      <td>Two year</td>\n",
       "      <td>1</td>\n",
       "      <td>1</td>\n",
       "      <td>1</td>\n",
       "      <td>1</td>\n",
       "      <td>0</td>\n",
       "      <td>0</td>\n",
       "      <td>0</td>\n",
       "      <td>0</td>\n",
       "      <td>1</td>\n",
       "    </tr>\n",
       "    <tr>\n",
       "      <th>3</th>\n",
       "      <td>3</td>\n",
       "      <td>1</td>\n",
       "      <td>0</td>\n",
       "      <td>1</td>\n",
       "      <td>1</td>\n",
       "      <td>20</td>\n",
       "      <td>0</td>\n",
       "      <td>0</td>\n",
       "      <td>Yes</td>\n",
       "      <td>0</td>\n",
       "      <td>...</td>\n",
       "      <td>Two year</td>\n",
       "      <td>1</td>\n",
       "      <td>1</td>\n",
       "      <td>1</td>\n",
       "      <td>1</td>\n",
       "      <td>0</td>\n",
       "      <td>0</td>\n",
       "      <td>0</td>\n",
       "      <td>0</td>\n",
       "      <td>1</td>\n",
       "    </tr>\n",
       "    <tr>\n",
       "      <th>4</th>\n",
       "      <td>3</td>\n",
       "      <td>1</td>\n",
       "      <td>0</td>\n",
       "      <td>1</td>\n",
       "      <td>0</td>\n",
       "      <td>72</td>\n",
       "      <td>1</td>\n",
       "      <td>1</td>\n",
       "      <td>No</td>\n",
       "      <td>1</td>\n",
       "      <td>...</td>\n",
       "      <td>Two year</td>\n",
       "      <td>1</td>\n",
       "      <td>0</td>\n",
       "      <td>1</td>\n",
       "      <td>1</td>\n",
       "      <td>0</td>\n",
       "      <td>0</td>\n",
       "      <td>0</td>\n",
       "      <td>0</td>\n",
       "      <td>1</td>\n",
       "    </tr>\n",
       "    <tr>\n",
       "      <th>...</th>\n",
       "      <td>...</td>\n",
       "      <td>...</td>\n",
       "      <td>...</td>\n",
       "      <td>...</td>\n",
       "      <td>...</td>\n",
       "      <td>...</td>\n",
       "      <td>...</td>\n",
       "      <td>...</td>\n",
       "      <td>...</td>\n",
       "      <td>...</td>\n",
       "      <td>...</td>\n",
       "      <td>...</td>\n",
       "      <td>...</td>\n",
       "      <td>...</td>\n",
       "      <td>...</td>\n",
       "      <td>...</td>\n",
       "      <td>...</td>\n",
       "      <td>...</td>\n",
       "      <td>...</td>\n",
       "      <td>...</td>\n",
       "      <td>...</td>\n",
       "    </tr>\n",
       "    <tr>\n",
       "      <th>7038</th>\n",
       "      <td>1</td>\n",
       "      <td>0</td>\n",
       "      <td>0</td>\n",
       "      <td>1</td>\n",
       "      <td>1</td>\n",
       "      <td>1</td>\n",
       "      <td>1</td>\n",
       "      <td>0</td>\n",
       "      <td>No internet service</td>\n",
       "      <td>0</td>\n",
       "      <td>...</td>\n",
       "      <td>Month-to-month</td>\n",
       "      <td>0</td>\n",
       "      <td>0</td>\n",
       "      <td>0</td>\n",
       "      <td>0</td>\n",
       "      <td>0</td>\n",
       "      <td>1</td>\n",
       "      <td>1</td>\n",
       "      <td>0</td>\n",
       "      <td>0</td>\n",
       "    </tr>\n",
       "    <tr>\n",
       "      <th>7039</th>\n",
       "      <td>1</td>\n",
       "      <td>0</td>\n",
       "      <td>0</td>\n",
       "      <td>0</td>\n",
       "      <td>0</td>\n",
       "      <td>19</td>\n",
       "      <td>1</td>\n",
       "      <td>0</td>\n",
       "      <td>No internet service</td>\n",
       "      <td>0</td>\n",
       "      <td>...</td>\n",
       "      <td>Month-to-month</td>\n",
       "      <td>0</td>\n",
       "      <td>0</td>\n",
       "      <td>0</td>\n",
       "      <td>0</td>\n",
       "      <td>0</td>\n",
       "      <td>1</td>\n",
       "      <td>1</td>\n",
       "      <td>0</td>\n",
       "      <td>0</td>\n",
       "    </tr>\n",
       "    <tr>\n",
       "      <th>7040</th>\n",
       "      <td>1</td>\n",
       "      <td>0</td>\n",
       "      <td>0</td>\n",
       "      <td>0</td>\n",
       "      <td>0</td>\n",
       "      <td>6</td>\n",
       "      <td>1</td>\n",
       "      <td>0</td>\n",
       "      <td>No internet service</td>\n",
       "      <td>0</td>\n",
       "      <td>...</td>\n",
       "      <td>Month-to-month</td>\n",
       "      <td>1</td>\n",
       "      <td>0</td>\n",
       "      <td>1</td>\n",
       "      <td>0</td>\n",
       "      <td>0</td>\n",
       "      <td>1</td>\n",
       "      <td>1</td>\n",
       "      <td>0</td>\n",
       "      <td>0</td>\n",
       "    </tr>\n",
       "    <tr>\n",
       "      <th>7041</th>\n",
       "      <td>1</td>\n",
       "      <td>1</td>\n",
       "      <td>0</td>\n",
       "      <td>0</td>\n",
       "      <td>0</td>\n",
       "      <td>1</td>\n",
       "      <td>1</td>\n",
       "      <td>0</td>\n",
       "      <td>No internet service</td>\n",
       "      <td>0</td>\n",
       "      <td>...</td>\n",
       "      <td>Month-to-month</td>\n",
       "      <td>0</td>\n",
       "      <td>0</td>\n",
       "      <td>0</td>\n",
       "      <td>0</td>\n",
       "      <td>0</td>\n",
       "      <td>1</td>\n",
       "      <td>1</td>\n",
       "      <td>0</td>\n",
       "      <td>0</td>\n",
       "    </tr>\n",
       "    <tr>\n",
       "      <th>7042</th>\n",
       "      <td>1</td>\n",
       "      <td>0</td>\n",
       "      <td>0</td>\n",
       "      <td>0</td>\n",
       "      <td>0</td>\n",
       "      <td>4</td>\n",
       "      <td>1</td>\n",
       "      <td>0</td>\n",
       "      <td>No internet service</td>\n",
       "      <td>0</td>\n",
       "      <td>...</td>\n",
       "      <td>Month-to-month</td>\n",
       "      <td>1</td>\n",
       "      <td>0</td>\n",
       "      <td>1</td>\n",
       "      <td>0</td>\n",
       "      <td>0</td>\n",
       "      <td>1</td>\n",
       "      <td>1</td>\n",
       "      <td>0</td>\n",
       "      <td>0</td>\n",
       "    </tr>\n",
       "  </tbody>\n",
       "</table>\n",
       "<p>7017 rows × 28 columns</p>\n",
       "</div>"
      ],
      "text/plain": [
       "      contract_type  is_male  senior_citizen  partner  dependents  tenure  \\\n",
       "0                 3        0               0        1           1      65   \n",
       "1                 3        1               0        0           0      54   \n",
       "2                 3        0               0        0           0      56   \n",
       "3                 3        1               0        1           1      20   \n",
       "4                 3        1               0        1           0      72   \n",
       "...             ...      ...             ...      ...         ...     ...   \n",
       "7038              1        0               0        1           1       1   \n",
       "7039              1        0               0        0           0      19   \n",
       "7040              1        0               0        0           0       6   \n",
       "7041              1        1               0        0           0       1   \n",
       "7042              1        0               0        0           0       4   \n",
       "\n",
       "      phone_service  multiple_lines      online_security  online_backup  ...  \\\n",
       "0                 1               1                  Yes              1  ...   \n",
       "1                 0               0                  Yes              0  ...   \n",
       "2                 0               0                  Yes              1  ...   \n",
       "3                 0               0                  Yes              0  ...   \n",
       "4                 1               1                   No              1  ...   \n",
       "...             ...             ...                  ...            ...  ...   \n",
       "7038              1               0  No internet service              0  ...   \n",
       "7039              1               0  No internet service              0  ...   \n",
       "7040              1               0  No internet service              0  ...   \n",
       "7041              1               0  No internet service              0  ...   \n",
       "7042              1               0  No internet service              0  ...   \n",
       "\n",
       "            contract  payment_type  online_secuirty  payment_type  DSL  \\\n",
       "0           Two year             0                1             0    1   \n",
       "1           Two year             1                1             1    1   \n",
       "2           Two year             1                1             1    1   \n",
       "3           Two year             1                1             1    1   \n",
       "4           Two year             1                0             1    1   \n",
       "...              ...           ...              ...           ...  ...   \n",
       "7038  Month-to-month             0                0             0    0   \n",
       "7039  Month-to-month             0                0             0    0   \n",
       "7040  Month-to-month             1                0             1    0   \n",
       "7041  Month-to-month             0                0             0    0   \n",
       "7042  Month-to-month             1                0             1    0   \n",
       "\n",
       "      fiber_optic  no_internet  month_to_month one_year_contract  \\\n",
       "0               0            0               0                 0   \n",
       "1               0            0               0                 0   \n",
       "2               0            0               0                 0   \n",
       "3               0            0               0                 0   \n",
       "4               0            0               0                 0   \n",
       "...           ...          ...             ...               ...   \n",
       "7038            0            1               1                 0   \n",
       "7039            0            1               1                 0   \n",
       "7040            0            1               1                 0   \n",
       "7041            0            1               1                 0   \n",
       "7042            0            1               1                 0   \n",
       "\n",
       "      two_year_contract  \n",
       "0                     1  \n",
       "1                     1  \n",
       "2                     1  \n",
       "3                     1  \n",
       "4                     1  \n",
       "...                 ...  \n",
       "7038                  0  \n",
       "7039                  0  \n",
       "7040                  0  \n",
       "7041                  0  \n",
       "7042                  0  \n",
       "\n",
       "[7017 rows x 28 columns]"
      ]
     },
     "execution_count": 29,
     "metadata": {},
     "output_type": "execute_result"
    }
   ],
   "source": [
    "df.drop_duplicates()"
   ]
  },
  {
   "cell_type": "code",
   "execution_count": 30,
   "id": "7f45eaf7",
   "metadata": {},
   "outputs": [
    {
     "data": {
      "image/png": "[encoded data removed]",
      "text/plain": [
       "<Figure size 144x144 with 1 Axes>"
      ]
     },
     "metadata": {
      "needs_background": "light"
     },
     "output_type": "display_data"
    },
    {
     "name": "stdout",
     "output_type": "stream",
     "text": [
      "   contract_type  Count  Percent\n",
      "1              3   3875    55.02\n",
      "3              2   1695    24.07\n",
      "2              1   1473    20.91\n",
      "_________________________________________________________________\n"
     ]
    },
    {
     "data": {
      "image/png": "[encoded data removed]",
      "text/plain": [
       "<Figure size 144x144 with 1 Axes>"
      ]
     },
     "metadata": {
      "needs_background": "light"
     },
     "output_type": "display_data"
    },
    {
     "name": "stdout",
     "output_type": "stream",
     "text": [
      "   is_male  Count  Percent\n",
      "1        0   3555    50.48\n",
      "0        1   3488    49.52\n",
      "_________________________________________________________________\n"
     ]
    },
    {
     "data": {
      "image/png": "[encoded data removed]",
      "text/plain": [
       "<Figure size 144x144 with 1 Axes>"
      ]
     },
     "metadata": {
      "needs_background": "light"
     },
     "output_type": "display_data"
    },
    {
     "name": "stdout",
     "output_type": "stream",
     "text": [
      "   senior_citizen  Count  Percent\n",
      "0               0   5901    83.79\n",
      "1               1   1142    16.21\n",
      "_________________________________________________________________\n"
     ]
    },
    {
     "data": {
      "image/png": "[encoded data removed]",
      "text/plain": [
       "<Figure size 144x144 with 1 Axes>"
      ]
     },
     "metadata": {
      "needs_background": "light"
     },
     "output_type": "display_data"
    },
    {
     "name": "stdout",
     "output_type": "stream",
     "text": [
      "   partner  Count  Percent\n",
      "0        1   3641     51.7\n",
      "1        0   3402     48.3\n",
      "_________________________________________________________________\n"
     ]
    },
    {
     "data": {
      "image/png": "[encoded data removed]",
      "text/plain": [
       "<Figure size 144x144 with 1 Axes>"
      ]
     },
     "metadata": {
      "needs_background": "light"
     },
     "output_type": "display_data"
    },
    {
     "name": "stdout",
     "output_type": "stream",
     "text": [
      "   dependents  Count  Percent\n",
      "0           1   4933    70.04\n",
      "1           0   2110    29.96\n",
      "_________________________________________________________________\n"
     ]
    },
    {
     "data": {
      "image/png": "[encoded data removed]",
      "text/plain": [
       "<Figure size 144x144 with 1 Axes>"
      ]
     },
     "metadata": {
      "needs_background": "light"
     },
     "output_type": "display_data"
    },
    {
     "name": "stdout",
     "output_type": "stream",
     "text": [
      "   phone_service  Count  Percent\n",
      "1              1   6361    90.32\n",
      "0              0    682     9.68\n",
      "_________________________________________________________________\n"
     ]
    },
    {
     "data": {
      "image/png": "[encoded data removed]",
      "text/plain": [
       "<Figure size 144x144 with 1 Axes>"
      ]
     },
     "metadata": {
      "needs_background": "light"
     },
     "output_type": "display_data"
    },
    {
     "name": "stdout",
     "output_type": "stream",
     "text": [
      "   multiple_lines  Count  Percent\n",
      "0               1   4072    57.82\n",
      "1               0   2971    42.18\n",
      "_________________________________________________________________\n"
     ]
    },
    {
     "data": {
      "image/png": "[encoded data removed]",
      "text/plain": [
       "<Figure size 144x144 with 1 Axes>"
      ]
     },
     "metadata": {
      "needs_background": "light"
     },
     "output_type": "display_data"
    },
    {
     "name": "stdout",
     "output_type": "stream",
     "text": [
      "                         online_security  Count  Percent\n",
      "No                                   Yes   3498    49.67\n",
      "Yes                                   No   2019    28.67\n",
      "No internet service  No internet service   1526    21.67\n",
      "_________________________________________________________________\n"
     ]
    },
    {
     "data": {
      "image/png": "[encoded data removed]",
      "text/plain": [
       "<Figure size 144x144 with 1 Axes>"
      ]
     },
     "metadata": {
      "needs_background": "light"
     },
     "output_type": "display_data"
    },
    {
     "name": "stdout",
     "output_type": "stream",
     "text": [
      "   online_backup  Count  Percent\n",
      "0              1   4614    65.51\n",
      "1              0   2429    34.49\n",
      "_________________________________________________________________\n"
     ]
    },
    {
     "data": {
      "image/png": "[encoded data removed]",
      "text/plain": [
       "<Figure size 144x144 with 1 Axes>"
      ]
     },
     "metadata": {
      "needs_background": "light"
     },
     "output_type": "display_data"
    },
    {
     "name": "stdout",
     "output_type": "stream",
     "text": [
      "   device_protection  Count  Percent\n",
      "0                  1   4621    65.61\n",
      "1                  0   2422    34.39\n",
      "_________________________________________________________________\n"
     ]
    },
    {
     "data": {
      "image/png": "[encoded data removed]",
      "text/plain": [
       "<Figure size 144x144 with 1 Axes>"
      ]
     },
     "metadata": {
      "needs_background": "light"
     },
     "output_type": "display_data"
    },
    {
     "name": "stdout",
     "output_type": "stream",
     "text": [
      "   tech_support  Count  Percent\n",
      "0             1   4999    70.98\n",
      "1             0   2044    29.02\n",
      "_________________________________________________________________\n"
     ]
    },
    {
     "data": {
      "image/png": "[encoded data removed]",
      "text/plain": [
       "<Figure size 144x144 with 1 Axes>"
      ]
     },
     "metadata": {
      "needs_background": "light"
     },
     "output_type": "display_data"
    },
    {
     "name": "stdout",
     "output_type": "stream",
     "text": [
      "   streaming_tv  Count  Percent\n",
      "0             1   4336    61.56\n",
      "1             0   2707    38.44\n",
      "_________________________________________________________________\n"
     ]
    },
    {
     "data": {
      "image/png": "[encoded data removed]",
      "text/plain": [
       "<Figure size 144x144 with 1 Axes>"
      ]
     },
     "metadata": {
      "needs_background": "light"
     },
     "output_type": "display_data"
    },
    {
     "name": "stdout",
     "output_type": "stream",
     "text": [
      "   streaming_movies  Count  Percent\n",
      "0                 1   4311    61.21\n",
      "1                 0   2732    38.79\n",
      "_________________________________________________________________\n"
     ]
    },
    {
     "data": {
      "image/png": "[encoded data removed]",
      "text/plain": [
       "<Figure size 144x144 with 1 Axes>"
      ]
     },
     "metadata": {
      "needs_background": "light"
     },
     "output_type": "display_data"
    },
    {
     "name": "stdout",
     "output_type": "stream",
     "text": [
      "   paperless_billing  Count  Percent\n",
      "1                  1   4171    59.22\n",
      "0                  0   2872    40.78\n",
      "_________________________________________________________________\n"
     ]
    },
    {
     "data": {
      "image/png": "[encoded data removed]",
      "text/plain": [
       "<Figure size 144x144 with 1 Axes>"
      ]
     },
     "metadata": {
      "needs_background": "light"
     },
     "output_type": "display_data"
    },
    {
     "name": "stdout",
     "output_type": "stream",
     "text": [
      "   churn  Count  Percent\n",
      "0      0   5174    73.46\n",
      "1      1   1869    26.54\n",
      "_________________________________________________________________\n"
     ]
    },
    {
     "data": {
      "image/png": "[encoded data removed]",
      "text/plain": [
       "<Figure size 144x144 with 1 Axes>"
      ]
     },
     "metadata": {
      "needs_background": "light"
     },
     "output_type": "display_data"
    },
    {
     "name": "stdout",
     "output_type": "stream",
     "text": [
      "                      contract  Count  Percent\n",
      "Month-to-month        Two year   3875    55.02\n",
      "Two year              One year   1695    24.07\n",
      "One year        Month-to-month   1473    20.91\n",
      "_________________________________________________________________\n"
     ]
    },
    {
     "ename": "AttributeError",
     "evalue": "'DataFrame' object has no attribute 'unique'",
     "output_type": "error",
     "traceback": [
      "\u001b[0;31m---------------------------------------------------------------------------\u001b[0m",
      "\u001b[0;31mAttributeError\u001b[0m                            Traceback (most recent call last)",
      "\u001b[0;32m<ipython-input-30-bd57479176bc>\u001b[0m in \u001b[0;36m<module>\u001b[0;34m\u001b[0m\n\u001b[0;32m----> 1\u001b[0;31m \u001b[0muser_defined_functions\u001b[0m\u001b[0;34m.\u001b[0m\u001b[0mexplore_univariate\u001b[0m\u001b[0;34m(\u001b[0m\u001b[0mdf\u001b[0m\u001b[0;34m,\u001b[0m \u001b[0mcat_vars\u001b[0m\u001b[0;34m,\u001b[0m \u001b[0mquant_vars\u001b[0m\u001b[0;34m)\u001b[0m\u001b[0;34m\u001b[0m\u001b[0;34m\u001b[0m\u001b[0m\n\u001b[0m",
      "\u001b[0;32m~/codeup-data-science/Classification_Project/user_defined_functions.py\u001b[0m in \u001b[0;36mexplore_univariate\u001b[0;34m(train, cat_vars, quant_vars)\u001b[0m\n\u001b[1;32m     29\u001b[0m \u001b[0;32mdef\u001b[0m \u001b[0mexplore_univariate\u001b[0m\u001b[0;34m(\u001b[0m\u001b[0mtrain\u001b[0m\u001b[0;34m,\u001b[0m \u001b[0mcat_vars\u001b[0m\u001b[0;34m,\u001b[0m \u001b[0mquant_vars\u001b[0m\u001b[0;34m)\u001b[0m\u001b[0;34m:\u001b[0m\u001b[0;34m\u001b[0m\u001b[0;34m\u001b[0m\u001b[0m\n\u001b[1;32m     30\u001b[0m     \u001b[0;32mfor\u001b[0m \u001b[0mvar\u001b[0m \u001b[0;32min\u001b[0m \u001b[0mcat_vars\u001b[0m\u001b[0;34m:\u001b[0m\u001b[0;34m\u001b[0m\u001b[0;34m\u001b[0m\u001b[0m\n\u001b[0;32m---> 31\u001b[0;31m         \u001b[0mexplore_univariate_categorical\u001b[0m\u001b[0;34m(\u001b[0m\u001b[0mtrain\u001b[0m\u001b[0;34m,\u001b[0m \u001b[0mvar\u001b[0m\u001b[0;34m)\u001b[0m\u001b[0;34m\u001b[0m\u001b[0;34m\u001b[0m\u001b[0m\n\u001b[0m\u001b[1;32m     32\u001b[0m         \u001b[0mprint\u001b[0m\u001b[0;34m(\u001b[0m\u001b[0;34m'_________________________________________________________________'\u001b[0m\u001b[0;34m)\u001b[0m\u001b[0;34m\u001b[0m\u001b[0;34m\u001b[0m\u001b[0m\n\u001b[1;32m     33\u001b[0m     \u001b[0;32mfor\u001b[0m \u001b[0mcol\u001b[0m \u001b[0;32min\u001b[0m \u001b[0mquant_vars\u001b[0m\u001b[0;34m:\u001b[0m\u001b[0;34m\u001b[0m\u001b[0;34m\u001b[0m\u001b[0m\n",
      "\u001b[0;32m~/codeup-data-science/Classification_Project/user_defined_functions.py\u001b[0m in \u001b[0;36mexplore_univariate_categorical\u001b[0;34m(train, cat_var)\u001b[0m\n\u001b[1;32m     62\u001b[0m     \u001b[0ma\u001b[0m \u001b[0mfrequency\u001b[0m \u001b[0mtable\u001b[0m \u001b[0;32mand\u001b[0m \u001b[0mbarplot\u001b[0m \u001b[0mof\u001b[0m \u001b[0mthe\u001b[0m \u001b[0mfrequencies\u001b[0m\u001b[0;34m.\u001b[0m\u001b[0;34m\u001b[0m\u001b[0;34m\u001b[0m\u001b[0m\n\u001b[1;32m     63\u001b[0m     '''\n\u001b[0;32m---> 64\u001b[0;31m     \u001b[0mfrequency_table\u001b[0m \u001b[0;34m=\u001b[0m \u001b[0mfreq_table\u001b[0m\u001b[0;34m(\u001b[0m\u001b[0mtrain\u001b[0m\u001b[0;34m,\u001b[0m \u001b[0mcat_var\u001b[0m\u001b[0;34m)\u001b[0m\u001b[0;34m\u001b[0m\u001b[0;34m\u001b[0m\u001b[0m\n\u001b[0m\u001b[1;32m     65\u001b[0m     \u001b[0mplt\u001b[0m\u001b[0;34m.\u001b[0m\u001b[0mfigure\u001b[0m\u001b[0;34m(\u001b[0m\u001b[0mfigsize\u001b[0m\u001b[0;34m=\u001b[0m\u001b[0;34m(\u001b[0m\u001b[0;36m2\u001b[0m\u001b[0;34m,\u001b[0m\u001b[0;36m2\u001b[0m\u001b[0;34m)\u001b[0m\u001b[0;34m)\u001b[0m\u001b[0;34m\u001b[0m\u001b[0;34m\u001b[0m\u001b[0m\n\u001b[1;32m     66\u001b[0m     \u001b[0msns\u001b[0m\u001b[0;34m.\u001b[0m\u001b[0mbarplot\u001b[0m\u001b[0;34m(\u001b[0m\u001b[0mx\u001b[0m\u001b[0;34m=\u001b[0m\u001b[0mcat_var\u001b[0m\u001b[0;34m,\u001b[0m \u001b[0my\u001b[0m\u001b[0;34m=\u001b[0m\u001b[0;34m'Count'\u001b[0m\u001b[0;34m,\u001b[0m \u001b[0mdata\u001b[0m\u001b[0;34m=\u001b[0m\u001b[0mfrequency_table\u001b[0m\u001b[0;34m,\u001b[0m \u001b[0mcolor\u001b[0m\u001b[0;34m=\u001b[0m\u001b[0;34m'lightseagreen'\u001b[0m\u001b[0;34m)\u001b[0m\u001b[0;34m\u001b[0m\u001b[0;34m\u001b[0m\u001b[0m\n",
      "\u001b[0;32m~/codeup-data-science/Classification_Project/user_defined_functions.py\u001b[0m in \u001b[0;36mfreq_table\u001b[0;34m(train, cat_var)\u001b[0m\n\u001b[1;32m     92\u001b[0m     \u001b[0;32mand\u001b[0m \u001b[0;32mreturn\u001b[0m \u001b[0ma\u001b[0m \u001b[0mdataframe\u001b[0m \u001b[0mof\u001b[0m \u001b[0mthose\u001b[0m \u001b[0mvalues\u001b[0m \u001b[0malong\u001b[0m \u001b[0;32mwith\u001b[0m \u001b[0mthe\u001b[0m \u001b[0mdifferent\u001b[0m \u001b[0mclasses\u001b[0m\u001b[0;34m.\u001b[0m\u001b[0;34m\u001b[0m\u001b[0;34m\u001b[0m\u001b[0m\n\u001b[1;32m     93\u001b[0m     '''\n\u001b[0;32m---> 94\u001b[0;31m     \u001b[0mclass_labels\u001b[0m \u001b[0;34m=\u001b[0m \u001b[0mlist\u001b[0m\u001b[0;34m(\u001b[0m\u001b[0mtrain\u001b[0m\u001b[0;34m[\u001b[0m\u001b[0mcat_var\u001b[0m\u001b[0;34m]\u001b[0m\u001b[0;34m.\u001b[0m\u001b[0munique\u001b[0m\u001b[0;34m(\u001b[0m\u001b[0;34m)\u001b[0m\u001b[0;34m)\u001b[0m\u001b[0;34m\u001b[0m\u001b[0;34m\u001b[0m\u001b[0m\n\u001b[0m\u001b[1;32m     95\u001b[0m \u001b[0;34m\u001b[0m\u001b[0m\n\u001b[1;32m     96\u001b[0m     frequency_table = (\n",
      "\u001b[0;32m~/opt/anaconda3/lib/python3.8/site-packages/pandas/core/generic.py\u001b[0m in \u001b[0;36m__getattr__\u001b[0;34m(self, name)\u001b[0m\n\u001b[1;32m   5485\u001b[0m         ):\n\u001b[1;32m   5486\u001b[0m             \u001b[0;32mreturn\u001b[0m \u001b[0mself\u001b[0m\u001b[0;34m[\u001b[0m\u001b[0mname\u001b[0m\u001b[0;34m]\u001b[0m\u001b[0;34m\u001b[0m\u001b[0;34m\u001b[0m\u001b[0m\n\u001b[0;32m-> 5487\u001b[0;31m         \u001b[0;32mreturn\u001b[0m \u001b[0mobject\u001b[0m\u001b[0;34m.\u001b[0m\u001b[0m__getattribute__\u001b[0m\u001b[0;34m(\u001b[0m\u001b[0mself\u001b[0m\u001b[0;34m,\u001b[0m \u001b[0mname\u001b[0m\u001b[0;34m)\u001b[0m\u001b[0;34m\u001b[0m\u001b[0;34m\u001b[0m\u001b[0m\n\u001b[0m\u001b[1;32m   5488\u001b[0m \u001b[0;34m\u001b[0m\u001b[0m\n\u001b[1;32m   5489\u001b[0m     \u001b[0;32mdef\u001b[0m \u001b[0m__setattr__\u001b[0m\u001b[0;34m(\u001b[0m\u001b[0mself\u001b[0m\u001b[0;34m,\u001b[0m \u001b[0mname\u001b[0m\u001b[0;34m:\u001b[0m \u001b[0mstr\u001b[0m\u001b[0;34m,\u001b[0m \u001b[0mvalue\u001b[0m\u001b[0;34m)\u001b[0m \u001b[0;34m->\u001b[0m \u001b[0;32mNone\u001b[0m\u001b[0;34m:\u001b[0m\u001b[0;34m\u001b[0m\u001b[0;34m\u001b[0m\u001b[0m\n",
      "\u001b[0;31mAttributeError\u001b[0m: 'DataFrame' object has no attribute 'unique'"
     ]
    }
   ],
   "source": [
    "user_defined_functions.explore_univariate(df, cat_vars, quant_vars)"
   ]
  },
  {
   "cell_type": "code",
   "execution_count": null,
   "id": "091d65f8",
   "metadata": {},
   "outputs": [],
   "source": []
  },
  {
   "cell_type": "code",
   "execution_count": null,
   "id": "498c4bfb",
   "metadata": {},
   "outputs": [],
   "source": []
  },
  {
   "cell_type": "code",
   "execution_count": 34,
   "id": "2545f832",
   "metadata": {},
   "outputs": [
    {
     "data": {
      "image/png": "[encoded data removed]",
      "text/plain": [
       "<Figure size 432x288 with 1 Axes>"
      ]
     },
     "metadata": {
      "needs_background": "light"
     },
     "output_type": "display_data"
    }
   ],
   "source": [
    "x = sns.barplot(x=\"DSL\", y=\"churn\", data=df, color=\"blue\")\n",
    "x.set(xlabel=\"Had DSL\", ylabel = \"Churn\")\n",
    "plt.show()"
   ]
  },
  {
   "cell_type": "code",
   "execution_count": null,
   "id": "1cd94072",
   "metadata": {},
   "outputs": [],
   "source": []
  },
  {
   "cell_type": "code",
   "execution_count": null,
   "id": "f91a3e44",
   "metadata": {},
   "outputs": [],
   "source": []
  },
  {
   "cell_type": "code",
   "execution_count": null,
   "id": "392aee2d",
   "metadata": {},
   "outputs": [],
   "source": []
  },
  {
   "cell_type": "code",
   "execution_count": null,
   "id": "bbb54cec",
   "metadata": {},
   "outputs": [],
   "source": []
  },
  {
   "cell_type": "code",
   "execution_count": null,
   "id": "44a6c76a",
   "metadata": {},
   "outputs": [],
   "source": []
  },
  {
   "cell_type": "code",
   "execution_count": null,
   "id": "5ddf30f8",
   "metadata": {},
   "outputs": [],
   "source": []
  },
  {
   "cell_type": "code",
   "execution_count": null,
   "id": "17b36815",
   "metadata": {},
   "outputs": [],
   "source": [
    "sns.pairplot(df[[ 'DSL', 'fiber_optic', 'churn']], hue='churn')\n",
    "plt.show()"
   ]
  },
  {
   "cell_type": "code",
   "execution_count": null,
   "id": "337eaee5",
   "metadata": {},
   "outputs": [],
   "source": [
    "sns.pairplot(df[['tenure', 'monthly_charges', 'total_charges', 'churn']], hue='churn')\n",
    "plt.show()"
   ]
  },
  {
   "cell_type": "code",
   "execution_count": null,
   "id": "156c71f7",
   "metadata": {},
   "outputs": [],
   "source": [
    "#bar plots to show rate of churn within each category\n",
    "#statistical test - category & category = chi^2\n",
    "    #if finidng a significant difference then include it in the modeling phase"
   ]
  },
  {
   "cell_type": "markdown",
   "id": "d46332ba",
   "metadata": {},
   "source": [
    "## Sample questions\n",
    "\n",
    "### Are customers with DSL more or less likely to churn?\n",
    "### What month are customers most likely to churn and does that depend on their contract type?\n",
    "### Is there a service that is associated with more churn than expected?\n",
    "### Do customers who churn have a higher average monthly spend than those who don't?"
   ]
  },
  {
   "cell_type": "code",
   "execution_count": null,
   "id": "e93575b0",
   "metadata": {},
   "outputs": [],
   "source": [
    "###### PRIMARY FUNCTION!!!!"
   ]
  },
  {
   "cell_type": "code",
   "execution_count": null,
   "id": "20aff70e",
   "metadata": {},
   "outputs": [],
   "source": [
    "# #preliminary clean delco:\n",
    "# def prep_telco(df):\n",
    "\n",
    "#     df = df.drop_duplicates()  #Drop duplicates\n",
    "    \n",
    "#     #11 values are blank strings for total charges representing 11 customers at 0 tenure\n",
    "#     df['total_charges'] = df['total_charges'].str.strip() #eliminate white space\n",
    "#     df['total_charges'] = df['total_charges'].replace('', 0) #replace empty values as 0\n",
    "#     df['total_charges'] = df['total_charges'].astype('float64')\n",
    "\n",
    "#     #15 columns encoded to '0' = No, '1'= Yes\n",
    "#     #contract type MtM = 0, 1year = 1, 2year =2\n",
    "#     #concated manual billing = 0 , automatic billing = 1\n",
    "#     df['gender'] = df.gender.replace({'Female': 0, 'Male': 1})\n",
    "#     df['partner'] = df.partner.replace({'Yes': 1, 'No': 0})\n",
    "#     df['dependents'] = df.dependents.replace({'Yes': 1, 'No': 0})\n",
    "#     df['phone_service'] = df.phone_service.replace({'Yes': 1, 'No': 0})\n",
    "#     df['churn'] = df.churn.replace({'Yes': 1, 'No': 0})\n",
    "#     df['multiple_lines'] = df.multiple_lines.replace({'No': 0, \"Yes\": 1, \"No phone service\": 0})\n",
    "#     df['online_secuirty'] = df.online_security.replace({'No': 0, \"Yes\": 1, \"No internet service\": 0})\n",
    "#     df['online_backup'] = df.online_backup.replace({'No': 0, \"Yes\": 1, \"No internet service\": 0})\n",
    "#     df['device_protection'] = df.device_protection.replace({'No': 0, \"Yes\": 1, \"No internet service\": 0})\n",
    "#     df['tech_support'] = df.tech_support.replace({'No': 0, \"Yes\": 1, \"No internet service\": 0})\n",
    "#     df['streaming_tv'] = df.streaming_tv.replace({'No': 0, \"Yes\": 1, \"No internet service\": 0})\n",
    "#     df['streaming_movies'] = df.streaming_movies.replace({'No': 0, \"Yes\": 1, \"No internet service\": 0})\n",
    "#     df['paperless_billing'] = df.paperless_billing.replace({'Yes': 1, 'No': 0})\n",
    "#     #df['contract_type'] = df.contract_type.replace({'Month-to-month': 0, 'One year': 1, 'Two year': 2})\n",
    "#     df['payment_type'] = df.payment_type.replace({'Mailed check': 0, 'Credit card (automatic)': 1, \n",
    "#                                                'Bank transfer (automatic)': 1,  'Electronic check': 0})\n",
    "\n",
    "\n",
    "#     # creating dummy values for payment, internet, & contract (*important values*)\n",
    "#     dummy_df = pd.get_dummies(df[['payment_type',\"internet_service_type\",\"contract_type\"]])\n",
    "#     df = pd.concat([df, dummy_df], axis=1)\n",
    "\n",
    "#     #Rename columns\n",
    "#     columns_to_rename = {'contract_type': 'contract',\n",
    "#                     'internet_service_type': 'internet',\n",
    "#                     'gender': 'is_male',\n",
    "#                      'payment_type_id': 'payment_id',\n",
    "#                      'contract_type_id': 'contract_type',\n",
    "#                      'internet_service_type_DSL': 'DSL',\n",
    "#                      'internet_service_type_Fiber optic': 'fiber_optic',\n",
    "#                      'internet_service_type_None': 'no_internet',\n",
    "#                      'contract_type_Month-to-month': 'month_to_month',\n",
    "#                      'contract_type_One year': 'one_year_contract',\n",
    "#                      'contract_type_Two year': 'two_year_contract'}\n",
    "#     df = df.rename(columns = columns_to_rename)\n",
    "    \n",
    "#     #dropping columns not need (#potentially update)\n",
    "#     columns_to_drop = {'customer_id'}\n",
    "#     df = df.drop(columns=columns_to_drop)\n",
    "    \n",
    "#     return df\n",
    "    \n"
   ]
  }
 ],
 "metadata": {
  "kernelspec": {
   "display_name": "Python 3",
   "language": "python",
   "name": "python3"
  },
  "language_info": {
   "codemirror_mode": {
    "name": "ipython",
    "version": 3
   },
   "file_extension": ".py",
   "mimetype": "text/x-python",
   "name": "python",
   "nbconvert_exporter": "python",
   "pygments_lexer": "ipython3",
   "version": "3.8.8"
  }
 },
 "nbformat": 4,
 "nbformat_minor": 5
}
